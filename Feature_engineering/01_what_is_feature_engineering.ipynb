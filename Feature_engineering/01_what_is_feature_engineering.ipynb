{
 "cells": [
  {
   "cell_type": "markdown",
   "id": "9d79c133",
   "metadata": {},
   "source": [
    "## Feature Engineering \n",
    "\n",
    "is a process of extracting useful features from raw data using math, statistics and domain knowledge\n",
    "\n",
    "most of the time we spend the data for cleaning the dataset\n"
   ]
  },
  {
   "cell_type": "markdown",
   "id": "c5381407",
   "metadata": {},
   "source": [
    "EX -Studying the home prices in bangalore\n",
    "\n",
    "dataset can have errors"
   ]
  },
  {
   "cell_type": "markdown",
   "id": "0399790a",
   "metadata": {},
   "source": [
    "1) create a new column and Apply domain knowledge"
   ]
  },
  {
   "cell_type": "markdown",
   "id": "0ceb5023",
   "metadata": {},
   "source": [
    "2) use visualization"
   ]
  },
  {
   "cell_type": "markdown",
   "id": "284b98f3",
   "metadata": {},
   "source": [
    "3) math and statistics"
   ]
  },
  {
   "cell_type": "markdown",
   "id": "d057c023",
   "metadata": {},
   "source": [
    "## Missing values"
   ]
  },
  {
   "cell_type": "markdown",
   "id": "dfc91f62",
   "metadata": {},
   "source": [
    "# one hot encoding"
   ]
  }
 ],
 "metadata": {
  "kernelspec": {
   "display_name": "Python 3 (ipykernel)",
   "language": "python",
   "name": "python3"
  },
  "language_info": {
   "codemirror_mode": {
    "name": "ipython",
    "version": 3
   },
   "file_extension": ".py",
   "mimetype": "text/x-python",
   "name": "python",
   "nbconvert_exporter": "python",
   "pygments_lexer": "ipython3",
   "version": "3.10.9"
  }
 },
 "nbformat": 4,
 "nbformat_minor": 5
}
