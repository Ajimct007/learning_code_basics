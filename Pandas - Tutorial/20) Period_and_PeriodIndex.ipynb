{
 "cells": [
  {
   "cell_type": "code",
   "execution_count": 1,
   "id": "96fcde17-45a4-4578-8c0c-6e558f6503b2",
   "metadata": {},
   "outputs": [],
   "source": [
    "import pandas as pd"
   ]
  },
  {
   "cell_type": "code",
   "execution_count": 4,
   "id": "797b7d96-0231-41da-8740-0549cc9414ac",
   "metadata": {},
   "outputs": [
    {
     "data": {
      "text/plain": [
       "Period('2016', 'A-DEC')"
      ]
     },
     "execution_count": 4,
     "metadata": {},
     "output_type": "execute_result"
    }
   ],
   "source": [
    "y = pd.Period('2016')\n",
    "y\n",
    "## Here it created the period object for 2016, A-DEC means Annual and DEC for December"
   ]
  },
  {
   "cell_type": "code",
   "execution_count": 6,
   "id": "b518f36f-4229-42fd-bf04-613a0d7b2308",
   "metadata": {},
   "outputs": [
    {
     "data": {
      "text/plain": [
       "['__add__',\n",
       " '__array_priority__',\n",
       " '__class__',\n",
       " '__delattr__',\n",
       " '__dict__',\n",
       " '__dir__',\n",
       " '__doc__',\n",
       " '__eq__',\n",
       " '__format__',\n",
       " '__ge__',\n",
       " '__getattribute__',\n",
       " '__gt__',\n",
       " '__hash__',\n",
       " '__init__',\n",
       " '__init_subclass__',\n",
       " '__le__',\n",
       " '__lt__',\n",
       " '__module__',\n",
       " '__ne__',\n",
       " '__new__',\n",
       " '__radd__',\n",
       " '__reduce__',\n",
       " '__reduce_ex__',\n",
       " '__repr__',\n",
       " '__rsub__',\n",
       " '__setattr__',\n",
       " '__setstate__',\n",
       " '__sizeof__',\n",
       " '__str__',\n",
       " '__sub__',\n",
       " '__subclasshook__',\n",
       " '__weakref__',\n",
       " '_add_offset',\n",
       " '_add_timedeltalike_scalar',\n",
       " '_dtype',\n",
       " '_from_ordinal',\n",
       " '_maybe_convert_freq',\n",
       " '_require_matching_freq',\n",
       " 'asfreq',\n",
       " 'day',\n",
       " 'day_of_week',\n",
       " 'day_of_year',\n",
       " 'dayofweek',\n",
       " 'dayofyear',\n",
       " 'days_in_month',\n",
       " 'daysinmonth',\n",
       " 'end_time',\n",
       " 'freq',\n",
       " 'freqstr',\n",
       " 'hour',\n",
       " 'is_leap_year',\n",
       " 'minute',\n",
       " 'month',\n",
       " 'now',\n",
       " 'ordinal',\n",
       " 'quarter',\n",
       " 'qyear',\n",
       " 'second',\n",
       " 'start_time',\n",
       " 'strftime',\n",
       " 'to_timestamp',\n",
       " 'week',\n",
       " 'weekday',\n",
       " 'weekofyear',\n",
       " 'year']"
      ]
     },
     "execution_count": 6,
     "metadata": {},
     "output_type": "execute_result"
    }
   ],
   "source": [
    "dir(y) ## checking the properties"
   ]
  },
  {
   "cell_type": "code",
   "execution_count": 7,
   "id": "ae86be8d-b021-4b8f-a192-b2d559a372d1",
   "metadata": {},
   "outputs": [
    {
     "data": {
      "text/plain": [
       "Timestamp('2016-01-01 00:00:00')"
      ]
     },
     "execution_count": 7,
     "metadata": {},
     "output_type": "execute_result"
    }
   ],
   "source": [
    "y.start_time"
   ]
  },
  {
   "cell_type": "code",
   "execution_count": 8,
   "id": "4831bb10-c830-4d91-91fd-6675d5acbc21",
   "metadata": {},
   "outputs": [
    {
     "data": {
      "text/plain": [
       "Timestamp('2016-12-31 23:59:59.999999999')"
      ]
     },
     "execution_count": 8,
     "metadata": {},
     "output_type": "execute_result"
    }
   ],
   "source": [
    "y.end_time"
   ]
  },
  {
   "cell_type": "code",
   "execution_count": 15,
   "id": "b3367cbf-7e96-440a-ab34-93b5a8a0a40d",
   "metadata": {},
   "outputs": [
    {
     "data": {
      "text/plain": [
       "Period('2016-12', 'M')"
      ]
     },
     "execution_count": 15,
     "metadata": {},
     "output_type": "execute_result"
    }
   ],
   "source": [
    "# Creating the monthly time period\n",
    "m = pd.Period('2016-12', freq='M')\n",
    "m"
   ]
  },
  {
   "cell_type": "code",
   "execution_count": 16,
   "id": "4aa8bb4f-9965-4d3e-b394-449fae40c996",
   "metadata": {},
   "outputs": [
    {
     "data": {
      "text/plain": [
       "Timestamp('2016-12-01 00:00:00')"
      ]
     },
     "execution_count": 16,
     "metadata": {},
     "output_type": "execute_result"
    }
   ],
   "source": [
    "m.start_time"
   ]
  },
  {
   "cell_type": "code",
   "execution_count": 17,
   "id": "d34c5fe2-a607-407e-9088-b49ae88bd8bd",
   "metadata": {},
   "outputs": [
    {
     "data": {
      "text/plain": [
       "Timestamp('2016-12-31 23:59:59.999999999')"
      ]
     },
     "execution_count": 17,
     "metadata": {},
     "output_type": "execute_result"
    }
   ],
   "source": [
    "m.end_time"
   ]
  },
  {
   "cell_type": "code",
   "execution_count": 18,
   "id": "2dec0c7f-6f42-4df4-b079-6c30bc1ca0bb",
   "metadata": {},
   "outputs": [
    {
     "data": {
      "text/plain": [
       "Period('2017-01', 'M')"
      ]
     },
     "execution_count": 18,
     "metadata": {},
     "output_type": "execute_result"
    }
   ],
   "source": [
    "## we can perform arthimatic operatons\n",
    "m + 1"
   ]
  },
  {
   "cell_type": "code",
   "execution_count": 24,
   "id": "8cf7ed49-c3b8-4b93-96f8-51841331123a",
   "metadata": {},
   "outputs": [
    {
     "data": {
      "text/plain": [
       "Period('2016-02-28 23:00', 'H')"
      ]
     },
     "execution_count": 24,
     "metadata": {},
     "output_type": "execute_result"
    }
   ],
   "source": [
    "## Daily time period\n",
    "d = pd.Period('2016-02-28 23:00:00', freq='H')\n",
    "d"
   ]
  },
  {
   "cell_type": "code",
   "execution_count": 25,
   "id": "23541994-c4ed-4115-8242-dd9093b49bc0",
   "metadata": {},
   "outputs": [
    {
     "data": {
      "text/plain": [
       "Period('2016-02-29 00:00', 'H')"
      ]
     },
     "execution_count": 25,
     "metadata": {},
     "output_type": "execute_result"
    }
   ],
   "source": [
    "d + 1"
   ]
  },
  {
   "cell_type": "code",
   "execution_count": 26,
   "id": "971c099e-7536-4c38-9bf3-ab783c626171",
   "metadata": {},
   "outputs": [
    {
     "data": {
      "text/plain": [
       "Timestamp('2016-02-28 23:00:00')"
      ]
     },
     "execution_count": 26,
     "metadata": {},
     "output_type": "execute_result"
    }
   ],
   "source": [
    "d.start_time"
   ]
  },
  {
   "cell_type": "code",
   "execution_count": 27,
   "id": "a0be5b7a-12dc-4a41-a5aa-63b016481837",
   "metadata": {},
   "outputs": [
    {
     "data": {
      "text/plain": [
       "Timestamp('2016-02-28 23:59:59.999999999')"
      ]
     },
     "execution_count": 27,
     "metadata": {},
     "output_type": "execute_result"
    }
   ],
   "source": [
    "d.end_time"
   ]
  },
  {
   "cell_type": "code",
   "execution_count": 28,
   "id": "ada912db-53a7-403c-bf08-c48fb94a7db7",
   "metadata": {},
   "outputs": [
    {
     "data": {
      "text/plain": [
       "Period('2016-02-29 04:00', 'H')"
      ]
     },
     "execution_count": 28,
     "metadata": {},
     "output_type": "execute_result"
    }
   ],
   "source": [
    "##using the pandas offset\n",
    "d+pd.offsets.Hour(5)"
   ]
  },
  {
   "cell_type": "code",
   "execution_count": 29,
   "id": "67a2e7e7-067d-46b0-9b80-3820c44576f3",
   "metadata": {},
   "outputs": [
    {
     "data": {
      "text/plain": [
       "Period('2016-02-28 22:00', 'H')"
      ]
     },
     "execution_count": 29,
     "metadata": {},
     "output_type": "execute_result"
    }
   ],
   "source": [
    "## for getting the time 6 hrs before\n",
    "d -1"
   ]
  },
  {
   "cell_type": "code",
   "execution_count": null,
   "id": "ffc687ae-43b1-4b74-a3b4-84b452165a22",
   "metadata": {},
   "outputs": [],
   "source": [
    "## Quartly period\n"
   ]
  },
  {
   "cell_type": "code",
   "execution_count": null,
   "id": "1b529389-e718-483d-8fde-1ab695ce7097",
   "metadata": {},
   "outputs": [],
   "source": []
  },
  {
   "cell_type": "code",
   "execution_count": null,
   "id": "54087a6a-67c7-48ad-8451-24c6dfa2d25b",
   "metadata": {},
   "outputs": [],
   "source": []
  },
  {
   "cell_type": "code",
   "execution_count": null,
   "id": "17ec4670-513e-45ae-8d8e-5c2d812e6b78",
   "metadata": {},
   "outputs": [],
   "source": []
  }
 ],
 "metadata": {
  "kernelspec": {
   "display_name": "Python 3 (ipykernel)",
   "language": "python",
   "name": "python3"
  },
  "language_info": {
   "codemirror_mode": {
    "name": "ipython",
    "version": 3
   },
   "file_extension": ".py",
   "mimetype": "text/x-python",
   "name": "python",
   "nbconvert_exporter": "python",
   "pygments_lexer": "ipython3",
   "version": "3.10.12"
  },
  "widgets": {
   "application/vnd.jupyter.widget-state+json": {
    "state": {},
    "version_major": 2,
    "version_minor": 0
   }
  }
 },
 "nbformat": 4,
 "nbformat_minor": 5
}
