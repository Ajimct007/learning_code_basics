{
 "cells": [
  {
   "cell_type": "code",
   "execution_count": 1,
   "id": "446e78f7",
   "metadata": {},
   "outputs": [
    {
     "name": "stdout",
     "output_type": "stream",
     "text": [
      "[1 2 3]\n"
     ]
    }
   ],
   "source": [
    "import numpy as np\n",
    "a = np.array([1,2,3])\n",
    "print(a)"
   ]
  },
  {
   "cell_type": "code",
   "execution_count": 4,
   "id": "71ca33ce",
   "metadata": {},
   "outputs": [
    {
     "data": {
      "text/plain": [
       "'Because numpy use\\n        1)Less Memory\\n        2) Fast Operation\\n        3) Convinient usage'"
      ]
     },
     "execution_count": 4,
     "metadata": {},
     "output_type": "execute_result"
    }
   ],
   "source": [
    "#Why we use numpy insted of list?\n",
    "\n",
    "'''Because numpy use\n",
    "        1)Less Memory\n",
    "        2) Fast Operation\n",
    "        3) Convinient usage'''\n"
   ]
  },
  {
   "cell_type": "code",
   "execution_count": 3,
   "id": "71c7726f",
   "metadata": {},
   "outputs": [
    {
     "name": "stdout",
     "output_type": "stream",
     "text": [
      "28000\n",
      "4000\n"
     ]
    }
   ],
   "source": [
    "import numpy as np\n",
    "import sys\n",
    "import time\n",
    "\n",
    "#Comparision b/w numpy and python-list\n",
    "l = range(1000)\n",
    "print(sys.getsizeof(5)*len(l))\n",
    "\n",
    "array = np.arange(1000)\n",
    "print(array.size*array.itemsize)\n",
    "\n",
    "'''\n",
    "    for list it takes - 28000 bytes\n",
    "    for an array it takes -- 4000 bytes\n",
    "'''"
   ]
  },
  {
   "cell_type": "code",
   "execution_count": 16,
   "id": "9e12f6d2",
   "metadata": {},
   "outputs": [
    {
     "name": "stdout",
     "output_type": "stream",
     "text": [
      "python list took:  193.3267116546631\n",
      "numpy took: 15.624761581420898\n"
     ]
    },
    {
     "data": {
      "text/plain": [
       "'\\n    Here we have used to add the range of 1000 integers for comparition bw list and numpy\\n    for addind those thngs\\n        list took -- 190.72604179382324 ms\\n        numpy took -- 15.626192092895508 ms\\n'"
      ]
     },
     "execution_count": 16,
     "metadata": {},
     "output_type": "execute_result"
    }
   ],
   "source": [
    "SIZE = 1000000\n",
    "\n",
    "l1= range(SIZE)\n",
    "l2= range(SIZE)\n",
    "\n",
    "a1=np.arange(SIZE)\n",
    "a2=np.arange(SIZE)\n",
    "\n",
    "#Python_List\n",
    "start = time.time()\n",
    "result = [(x+y) for x,y in zip(l1,l2)]\n",
    "print(\"python list took: \",(time.time()-start)*1000)\n",
    "\n",
    "#numpy array\n",
    "start=time.time()\n",
    "result = a1+a1\n",
    "print(\"numpy took:\", (time.time()-start)*1000)\n",
    "\n",
    "'''\n",
    "    Here we have used to add the range of 1000 integers for comparition bw list and numpy\n",
    "    for addind those thngs\n",
    "        list took -- 190.72604179382324 ms\n",
    "        numpy took -- 15.626192092895508 ms\n",
    "'''"
   ]
  },
  {
   "cell_type": "code",
   "execution_count": 19,
   "id": "e7187d51",
   "metadata": {},
   "outputs": [
    {
     "name": "stdout",
     "output_type": "stream",
     "text": [
      "[5 7 9]\n",
      "[3 3 3]\n",
      "[0.25 0.4  0.5 ]\n",
      "[ 4 10 18]\n"
     ]
    }
   ],
   "source": [
    "a1=np.array([1,2,3])\n",
    "a2=np.array([4,5,6])\n",
    "print(a1+a2)\n",
    "print(a2-a1)\n",
    "print(a1/a2)\n",
    "print(a1*a2)"
   ]
  },
  {
   "cell_type": "code",
   "execution_count": 28,
   "id": "34c60f84",
   "metadata": {},
   "outputs": [
    {
     "name": "stdout",
     "output_type": "stream",
     "text": [
      "2\n",
      "4\n",
      "int32\n",
      "8\n"
     ]
    }
   ],
   "source": [
    "#Numpy tutorial -- basic array operation\n",
    "\n",
    "a=np.array([1,2,3]) # 1-D array\n",
    "\n",
    "#2-D array\n",
    "a=np.array([[1,2],[3,4],[5,6]])\n",
    "print(a.ndim)#To know how many dimensions in the array\n",
    "\n",
    "print(a.itemsize)#print's byte size of each of these elements\n",
    "print(a.dtype)#print's data type of the array -- here it is  dtype('int32')\n",
    "\n",
    "a=np.array([[1,2],[3,4],[5,6]], dtype=np.float64)#since we decleare it as a float,it will take the 8 byte size to store the data\n",
    "print(a.itemsize) #it will return the size as \"8\"\n"
   ]
  },
  {
   "cell_type": "code",
   "execution_count": 32,
   "id": "681c1a28",
   "metadata": {},
   "outputs": [
    {
     "name": "stdout",
     "output_type": "stream",
     "text": [
      "6\n",
      "(3, 2)\n",
      "[[1.+0.j 2.+0.j]\n",
      " [3.+0.j 4.+0.j]\n",
      " [5.+0.j 6.+0.j]]\n"
     ]
    }
   ],
   "source": [
    "print(a.size) #Shows the total number of elemets in the array\n",
    "print(a.shape) #Shows the column and rows in the array\n",
    "a=np.array([[1,2],[3,4],[5,6]], dtype=complex) #will create an array with complex numbers\n",
    "print(a)\n"
   ]
  },
  {
   "cell_type": "code",
   "execution_count": 42,
   "id": "02c18188",
   "metadata": {},
   "outputs": [
    {
     "name": "stdout",
     "output_type": "stream",
     "text": [
      "[[0. 0. 0. 0.]\n",
      " [0. 0. 0. 0.]\n",
      " [0. 0. 0. 0.]]\n",
      "[[1. 1. 1. 1.]\n",
      " [1. 1. 1. 1.]\n",
      " [1. 1. 1. 1.]]\n",
      "range(0, 5)\n",
      "[1 2 3 4]\n"
     ]
    }
   ],
   "source": [
    "#to initilize an array with zero\n",
    "print(np.zeros((3,4))) #here we have to give the dimension of the array and it will generate the array with zeros with given dimendimension \n",
    "print(np.ones((3,4)))# it will create the array with 1's\n",
    "\n",
    "\n",
    "l=range(5)#range function in python for list\n",
    "print(l)\n",
    "\n",
    "print(np.arange(1,5))#range function for Numpy\n"
   ]
  },
  {
   "cell_type": "code",
   "execution_count": 49,
   "id": "70aa8eda",
   "metadata": {},
   "outputs": [
    {
     "name": "stdout",
     "output_type": "stream",
     "text": [
      "[1 3]\n",
      "[1.         1.44444444 1.88888889 2.33333333 2.77777778 3.22222222\n",
      " 3.66666667 4.11111111 4.55555556 5.        ]\n",
      "[1. 2. 3. 4. 5.]\n"
     ]
    }
   ],
   "source": [
    "a=np.arange(1,5,2) \n",
    "'''to create a array with steps of 2 numbers - \n",
    "\n",
    "means it will create the array in a manner which skips a number and prints next\n",
    "\n",
    "here in (1,5,2) -- 1,5 are the range of the array and the 2 is the step\n",
    "'''\n",
    "print(a)\n",
    "\n",
    "\n",
    "#Linspace\n",
    "a=np.linspace(1,5,10) #this will create 10 numbers bw 1 and 5 which are all linearly spaced\n",
    "print(a)\n",
    "\n",
    "a=np.linspace(1,5,5) #this will create 5 numbers bw 1 and 5 which are all linearly spaced\n",
    "print(a)"
   ]
  },
  {
   "cell_type": "code",
   "execution_count": 58,
   "id": "b276c68a",
   "metadata": {},
   "outputs": [
    {
     "name": "stdout",
     "output_type": "stream",
     "text": [
      "[[1 2 3]\n",
      " [4 5 6]]\n",
      "[[1]\n",
      " [2]\n",
      " [3]\n",
      " [4]\n",
      " [5]\n",
      " [6]]\n",
      "[1 2 3 4 5 6]\n",
      "[[1 2]\n",
      " [3 4]\n",
      " [5 6]]\n"
     ]
    }
   ],
   "source": [
    "a=np.array([[1,2],[3,4],[5,6]])\n",
    "#print(a)\n",
    "#print(a.shape)\n",
    "print(a.reshape(2,3))# To change the dimension of the array\n",
    "#print(a.shape)\n",
    "print(a.reshape(6,1))# To change the dimension of the array\n",
    "#print(a.shape)\n",
    "#print (a)\n",
    "\n",
    "print(a.ravel()) #To make the array in one dimension -- it will not change the original array - it will creat new one so have to assign a variable\n",
    "\n",
    "print(a)\n"
   ]
  },
  {
   "cell_type": "code",
   "execution_count": 72,
   "id": "48e8dccd",
   "metadata": {},
   "outputs": [
    {
     "name": "stdout",
     "output_type": "stream",
     "text": [
      "[[1 2]\n",
      " [3 4]]\n",
      "1\n",
      "4\n",
      "10\n",
      "[4 6]\n",
      "[3 7]\n",
      "[[1.         1.41421356]\n",
      " [1.73205081 2.        ]]\n",
      "Standard Deviation 1.118033988749895\n",
      "[[ 6  8]\n",
      " [10 12]]\n",
      "[[ 5 12]\n",
      " [21 32]]\n",
      "[[19 22]\n",
      " [43 50]]\n"
     ]
    }
   ],
   "source": [
    "#Maths in numpy\n",
    "\n",
    "print(a)\n",
    "print(a.min())\n",
    "print(a.max())\n",
    "print(a.sum())\n",
    "\n",
    "\n",
    "#Axis function -- use to take the numbers from the given axis\n",
    "#here - columns are called as axis 0 and rows are called as axis 1\n",
    "\n",
    "print(a.sum(axis=0))\n",
    "print(a.sum(axis=1))\n",
    "\n",
    "\n",
    "# for square root\n",
    "print(np.sqrt(a))\n",
    "\n",
    "#for standard deviation\n",
    "print(\"Standard Deviation\",np.std(a))\n",
    "\n",
    "a=np.array([[1,2],[3,4]])\n",
    "b=np.array([[5,6],[7,8]])\n",
    "print(a+b)\n",
    "print(a*b)\n",
    "print(a.dot(b))#it will print matrix product of the array"
   ]
  },
  {
   "cell_type": "code",
   "execution_count": 83,
   "id": "2ae93d41",
   "metadata": {},
   "outputs": [
    {
     "name": "stdout",
     "output_type": "stream",
     "text": [
      "[6, 7]\n",
      "8\n",
      "[6 7]\n",
      "8\n",
      "[[6 7 8]\n",
      " [1 2 3]\n",
      " [9 3 2]]\n",
      "3\n",
      "[8 3]\n",
      "[9 3 2]\n",
      "[9 3]\n",
      "[[7 8]\n",
      " [2 3]\n",
      " [3 2]]\n"
     ]
    }
   ],
   "source": [
    "#Numpy tutorial; -- slicing/ stacking arrays, indexing with boolean arrays\n",
    "'''\n",
    "Topics covered\n",
    "    1) Indexing and slicing\n",
    "    2) Iterating through arrays\n",
    "    3) Stacking together two arrays\n",
    "    Indexing with boolean arrays\n",
    "'''\n",
    "\n",
    "#Indexing and Slicing\n",
    "\n",
    "#in a list we do\n",
    "n=[6,7,8]\n",
    "print(n[0:2])\n",
    "print(n[-1])\n",
    "\n",
    "\n",
    "#In a numpy aray\n",
    "a=np.array([6,7,8])\n",
    "print(a[0:2])\n",
    "print(a[-1])\n",
    "\n",
    "#for a multidimentional array\n",
    "a=np.array([[6,7,8],[1,2,3],[9,3,2]])\n",
    "print(a)\n",
    "print(a[1,2])# it will print the value at 1st row and 2nd column -- note - while counting 0 is included\n",
    "print(a[0:2,2])# it will print the numpers in the 0th row and 1st row at the 2nd column,,, so here we will get 2 numbers\n",
    "print(a[-1])#prints the last element in the array, i.e the last row in the array\n",
    "print(a[-1,0:2])# it will print last row and the 1st 2 columns - we will get 2 numbers\n",
    "\n",
    "print(a[:,1:3])# it will take all the rows and 2nd and and 3rd colums"
   ]
  },
  {
   "cell_type": "code",
   "execution_count": 90,
   "id": "a6f7536c",
   "metadata": {},
   "outputs": [
    {
     "name": "stdout",
     "output_type": "stream",
     "text": [
      "[[6 7 8]\n",
      " [1 2 3]\n",
      " [9 3 2]]\n",
      "[6 7 8]\n",
      "[1 2 3]\n",
      "[9 3 2]\n",
      "6\n",
      "7\n",
      "8\n",
      "1\n",
      "2\n",
      "3\n",
      "9\n",
      "3\n",
      "2\n",
      "[[0 1]\n",
      " [2 3]\n",
      " [4 5]] [[ 6  7]\n",
      " [ 8  9]\n",
      " [10 11]]\n",
      "[[ 0  1]\n",
      " [ 2  3]\n",
      " [ 4  5]\n",
      " [ 6  7]\n",
      " [ 8  9]\n",
      " [10 11]]\n",
      "[[ 0  1  6  7]\n",
      " [ 2  3  8  9]\n",
      " [ 4  5 10 11]]\n"
     ]
    }
   ],
   "source": [
    "#Iterate through a array\n",
    "a=np.array([[6,7,8],[1,2,3],[9,3,2]])\n",
    "print(a)\n",
    "\n",
    "#to iterate through rows\n",
    "for row in a:\n",
    "    print(row)\n",
    "    \n",
    "#to flattern the array \n",
    "for cell in a.flat:\n",
    "    print(cell)\n",
    "\n",
    "a=np.arange(6).reshape(3,2)\n",
    "b=np.arange(6,12).reshape(3,2)\n",
    "print(a,b)\n",
    "\n",
    "#to stack them in vertical manner\n",
    "print(np.vstack((a,b)))\n",
    "#Horizontal stack\n",
    "print(np.hstack((a,b)))\n",
    "\n"
   ]
  },
  {
   "cell_type": "code",
   "execution_count": 96,
   "id": "efb19def",
   "metadata": {},
   "outputs": [
    {
     "name": "stdout",
     "output_type": "stream",
     "text": [
      "[[ 0  1  2  3  4  5  6  7  8  9 10 11 12 13 14]\n",
      " [15 16 17 18 19 20 21 22 23 24 25 26 27 28 29]]\n",
      "[array([[ 0,  1,  2,  3,  4],\n",
      "       [15, 16, 17, 18, 19]]), array([[ 5,  6,  7,  8,  9],\n",
      "       [20, 21, 22, 23, 24]]), array([[10, 11, 12, 13, 14],\n",
      "       [25, 26, 27, 28, 29]])]\n",
      "[[ 0  1  2  3  4]\n",
      " [15 16 17 18 19]]\n",
      "[[ 5  6  7  8  9]\n",
      " [20 21 22 23 24]]\n",
      "[[10 11 12 13 14]\n",
      " [25 26 27 28 29]]\n",
      "[[ 0  1  2  3  4  5  6  7  8  9 10 11 12 13 14]]\n",
      "[[15 16 17 18 19 20 21 22 23 24 25 26 27 28 29]]\n"
     ]
    }
   ],
   "source": [
    "#Spliting the array\n",
    "a=np.arange(30).reshape(2,15)\n",
    "print(a)\n",
    "\n",
    "#Horizontal split \n",
    "print(np.hsplit(a,3)) #since the output is not clearly visible, we goona store it in a variable\n",
    "result = np.hsplit(a,3)\n",
    "print(result[0])\n",
    "print(result[1])\n",
    "print(result[2])\n",
    "\n",
    "#Vertical split\n",
    "result=np.vsplit(a,2)\n",
    "print(result[0])\n",
    "print(result[1])\n",
    "\n"
   ]
  },
  {
   "cell_type": "code",
   "execution_count": 103,
   "id": "81c08946",
   "metadata": {},
   "outputs": [
    {
     "name": "stdout",
     "output_type": "stream",
     "text": [
      "[[ 0  1  2  3]\n",
      " [ 4  5  6  7]\n",
      " [ 8  9 10 11]]\n",
      "[[False False False False]\n",
      " [False  True  True  True]\n",
      " [ True  True  True  True]]\n",
      "[ 5  6  7  8  9 10 11]\n",
      "[[ 0  1  2  3]\n",
      " [ 4 -1 -1 -1]\n",
      " [-1 -1 -1 -1]]\n"
     ]
    }
   ],
   "source": [
    "#Indexing with boolean arrays\n",
    "\n",
    "a=np.arange(12).reshape(3,4)\n",
    "print(a)\n",
    "\n",
    "b=a>4\n",
    "print(b) #prints true/false based on the number and the operation given\n",
    "\n",
    "print(a[b])# it looked at the 'a' array and gave output which are all greater than 4\n",
    "\n",
    "a[b]=-1 # it will replace the numbers which are all greater than 4\n",
    "print(a)\n",
    "\n",
    "\n"
   ]
  },
  {
   "cell_type": "code",
   "execution_count": 104,
   "id": "76c5d6d6",
   "metadata": {},
   "outputs": [],
   "source": [
    "#Numpy tutorial -- read write text files\n",
    "#write a file\n",
    "x=np.array([[1,2,3],[4,5,6],[7,8,9]],np.int32)\n",
    "np.savetxt(\"test.txt\",x)"
   ]
  },
  {
   "cell_type": "code",
   "execution_count": 105,
   "id": "d9fc24d1",
   "metadata": {},
   "outputs": [
    {
     "name": "stdout",
     "output_type": "stream",
     "text": [
      "[[1. 2. 3.]\n",
      " [4. 5. 6.]\n",
      " [7. 8. 9.]]\n"
     ]
    }
   ],
   "source": [
    "#Read file\n",
    "y=np.loadtxt(\"test.txt\")\n",
    "print(y)"
   ]
  },
  {
   "cell_type": "code",
   "execution_count": 108,
   "id": "544d3a65",
   "metadata": {},
   "outputs": [
    {
     "name": "stdout",
     "output_type": "stream",
     "text": [
      "[[ 0  1  2  3]\n",
      " [ 4  5  6  7]\n",
      " [ 8  9 10 11]]\n",
      "[[ 0  1  2  3]\n",
      " [ 4  5  6  7]\n",
      " [ 8  9 10 11]]\n",
      "[[ 0  1  2  3]\n",
      " [ 4  5  6  7]\n",
      " [ 8  9 10 11]]\n",
      "[[ 0  1  2  3]\n",
      " [ 4  5  6  7]\n",
      " [ 8  9 10 11]]\n"
     ]
    }
   ],
   "source": [
    "#Numpy Tutorial -- iterate numpy array using nditer\n",
    "import numpy as np\n",
    "a=np.arange(12).reshape(3,4)\n",
    "print(a)\n"
   ]
  },
  {
   "cell_type": "code",
   "execution_count": 110,
   "id": "fb148baa",
   "metadata": {},
   "outputs": [
    {
     "name": "stdout",
     "output_type": "stream",
     "text": [
      "[0 1 2 3]\n",
      "[4 5 6 7]\n",
      "[ 8  9 10 11]\n"
     ]
    }
   ],
   "source": [
    "#To iterate write the for loop\n",
    "for row in a:\n",
    "    print(row)"
   ]
  },
  {
   "cell_type": "code",
   "execution_count": 111,
   "id": "8a027497",
   "metadata": {},
   "outputs": [
    {
     "name": "stdout",
     "output_type": "stream",
     "text": [
      "0\n",
      "1\n",
      "2\n",
      "3\n",
      "4\n",
      "5\n",
      "6\n",
      "7\n",
      "8\n",
      "9\n",
      "10\n",
      "11\n"
     ]
    }
   ],
   "source": [
    "#To print individual elements in the numpy array\n",
    "\n",
    "for row in a:\n",
    "    for cell in row:\n",
    "        print(cell)"
   ]
  },
  {
   "cell_type": "code",
   "execution_count": 112,
   "id": "1ec03cdd",
   "metadata": {},
   "outputs": [
    {
     "name": "stdout",
     "output_type": "stream",
     "text": [
      "0\n",
      "1\n",
      "2\n",
      "3\n",
      "4\n",
      "5\n",
      "6\n",
      "7\n",
      "8\n",
      "9\n",
      "10\n",
      "11\n"
     ]
    }
   ],
   "source": [
    "#To print individual elements in the numpy array with flattern format\n",
    "\n",
    "for cell in a.flatten():\n",
    "    print(cell)"
   ]
  },
  {
   "cell_type": "code",
   "execution_count": 115,
   "id": "c3fa8eeb",
   "metadata": {},
   "outputs": [
    {
     "name": "stdout",
     "output_type": "stream",
     "text": [
      "0\n",
      "1\n",
      "2\n",
      "3\n",
      "4\n",
      "5\n",
      "6\n",
      "7\n",
      "8\n",
      "9\n",
      "10\n",
      "11\n"
     ]
    }
   ],
   "source": [
    "#using nditer to flattern\n",
    "for x in np.nditer(a,order='C'):#for printing column by column\n",
    "    print(x)\n"
   ]
  },
  {
   "cell_type": "code",
   "execution_count": 116,
   "id": "4bc4f498",
   "metadata": {},
   "outputs": [
    {
     "name": "stdout",
     "output_type": "stream",
     "text": [
      "0\n",
      "4\n",
      "8\n",
      "1\n",
      "5\n",
      "9\n",
      "2\n",
      "6\n",
      "10\n",
      "3\n",
      "7\n",
      "11\n"
     ]
    }
   ],
   "source": [
    "for x in np.nditer(a,order='F'):#for printing row by row\n",
    "    print(x)"
   ]
  },
  {
   "cell_type": "code",
   "execution_count": 118,
   "id": "343c73ec",
   "metadata": {
    "scrolled": false
   },
   "outputs": [
    {
     "name": "stdout",
     "output_type": "stream",
     "text": [
      "[0 4 8]\n",
      "[1 5 9]\n",
      "[ 2  6 10]\n",
      "[ 3  7 11]\n"
     ]
    }
   ],
   "source": [
    "#external loop creates a column\n",
    "for x in np.nditer(a,order='F',flags=[\"external_loop\"]):\n",
    "    print(x)"
   ]
  },
  {
   "cell_type": "code",
   "execution_count": 122,
   "id": "ba748229",
   "metadata": {},
   "outputs": [
    {
     "name": "stdout",
     "output_type": "stream",
     "text": [
      "[[        0         1       256      6561]\n",
      " [    65536    390625   1679616   5764801]\n",
      " [ 16777216  43046721 100000000 214358881]]\n"
     ]
    }
   ],
   "source": [
    "for x in np.nditer(a,op_flags=['readwrite']):#\n",
    "    x[...]=x*x\n",
    "print(a)"
   ]
  },
  {
   "cell_type": "code",
   "execution_count": 125,
   "id": "349d410b",
   "metadata": {},
   "outputs": [
    {
     "name": "stdout",
     "output_type": "stream",
     "text": [
      "[[ 3]\n",
      " [ 7]\n",
      " [11]]\n"
     ]
    }
   ],
   "source": [
    "b=np.arange(3,15,4).reshape(3,1)\n",
    "print(b)"
   ]
  },
  {
   "cell_type": "code",
   "execution_count": 126,
   "id": "e44c193c",
   "metadata": {},
   "outputs": [
    {
     "name": "stdout",
     "output_type": "stream",
     "text": [
      "0 3\n",
      "1 3\n",
      "256 3\n",
      "6561 3\n",
      "65536 7\n",
      "390625 7\n",
      "1679616 7\n",
      "5764801 7\n",
      "16777216 11\n",
      "43046721 11\n",
      "100000000 11\n",
      "214358881 11\n"
     ]
    }
   ],
   "source": [
    "for x,y in np.nditer([a,b]):\n",
    "    print(x,y)"
   ]
  },
  {
   "cell_type": "code",
   "execution_count": null,
   "id": "7a5bc38b",
   "metadata": {},
   "outputs": [],
   "source": []
  },
  {
   "cell_type": "code",
   "execution_count": null,
   "id": "43cb34e4",
   "metadata": {},
   "outputs": [],
   "source": []
  },
  {
   "cell_type": "code",
   "execution_count": null,
   "id": "81708df1",
   "metadata": {},
   "outputs": [],
   "source": []
  },
  {
   "cell_type": "code",
   "execution_count": null,
   "id": "fd011e0e",
   "metadata": {},
   "outputs": [],
   "source": []
  },
  {
   "cell_type": "code",
   "execution_count": null,
   "id": "83442af5",
   "metadata": {},
   "outputs": [],
   "source": []
  },
  {
   "cell_type": "code",
   "execution_count": null,
   "id": "5ad9e797",
   "metadata": {},
   "outputs": [],
   "source": []
  },
  {
   "cell_type": "code",
   "execution_count": null,
   "id": "4a6da243",
   "metadata": {},
   "outputs": [],
   "source": []
  },
  {
   "cell_type": "code",
   "execution_count": null,
   "id": "9465e317",
   "metadata": {},
   "outputs": [],
   "source": []
  }
 ],
 "metadata": {
  "kernelspec": {
   "display_name": "Python 3 (ipykernel)",
   "language": "python",
   "name": "python3"
  },
  "language_info": {
   "codemirror_mode": {
    "name": "ipython",
    "version": 3
   },
   "file_extension": ".py",
   "mimetype": "text/x-python",
   "name": "python",
   "nbconvert_exporter": "python",
   "pygments_lexer": "ipython3",
   "version": "3.10.9"
  }
 },
 "nbformat": 4,
 "nbformat_minor": 5
}
