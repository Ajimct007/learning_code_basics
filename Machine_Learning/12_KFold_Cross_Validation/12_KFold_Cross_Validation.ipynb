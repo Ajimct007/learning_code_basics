{
 "cells": [
  {
   "cell_type": "markdown",
   "id": "b2bfde19-15ce-405e-9d33-e4964aa4c9c8",
   "metadata": {},
   "source": [
    "## Importing the necciary libraries"
   ]
  },
  {
   "cell_type": "code",
   "execution_count": 1,
   "id": "afaa9af6-0e8a-487d-b79a-39f30242afd7",
   "metadata": {},
   "outputs": [],
   "source": [
    "from sklearn.linear_model import LogisticRegression\n",
    "from sklearn.svm import SVC\n",
    "from sklearn.ensemble import RandomForestClassifier\n",
    "import numpy as np\n",
    "from sklearn.datasets import load_digits\n",
    "\n",
    "digits = load_digits()"
   ]
  },
  {
   "cell_type": "code",
   "execution_count": 2,
   "id": "09f40994-f39c-4c51-a0f7-e57e3ad52003",
   "metadata": {},
   "outputs": [],
   "source": [
    "from sklearn.model_selection import train_test_split\n",
    "X_train, X_test, y_train, y_test = train_test_split(digits.data, digits.target, test_size=0.3)"
   ]
  },
  {
   "cell_type": "code",
   "execution_count": 3,
   "id": "dfa25aab-a377-4e13-9cd7-ac1ee23f7d3b",
   "metadata": {},
   "outputs": [
    {
     "name": "stderr",
     "output_type": "stream",
     "text": [
      "C:\\Users\\Ajith\\anaconda3\\envs\\geo_env\\lib\\site-packages\\sklearn\\linear_model\\_logistic.py:460: ConvergenceWarning: lbfgs failed to converge (status=1):\n",
      "STOP: TOTAL NO. of ITERATIONS REACHED LIMIT.\n",
      "\n",
      "Increase the number of iterations (max_iter) or scale the data as shown in:\n",
      "    https://scikit-learn.org/stable/modules/preprocessing.html\n",
      "Please also refer to the documentation for alternative solver options:\n",
      "    https://scikit-learn.org/stable/modules/linear_model.html#logistic-regression\n",
      "  n_iter_i = _check_optimize_result(\n"
     ]
    },
    {
     "data": {
      "text/plain": [
       "0.9537037037037037"
      ]
     },
     "execution_count": 3,
     "metadata": {},
     "output_type": "execute_result"
    }
   ],
   "source": [
    "## Logistic Regression\n",
    "lr = LogisticRegression()\n",
    "lr.fit(X_train, y_train)\n",
    "lr.score(X_test,y_test)\n",
    "\n",
    "## we got LR accuracy of 95%"
   ]
  },
  {
   "cell_type": "code",
   "execution_count": 4,
   "id": "afef86d7-f9cc-444b-8d22-6ade99438993",
   "metadata": {},
   "outputs": [
    {
     "data": {
      "text/plain": [
       "0.9888888888888889"
      ]
     },
     "execution_count": 4,
     "metadata": {},
     "output_type": "execute_result"
    }
   ],
   "source": [
    "## SVM\n",
    "\n",
    "svm = SVC()\n",
    "svm.fit(X_train,y_train)\n",
    "svm.score(X_test,y_test)\n",
    "## we got SVM accuracy of 98%"
   ]
  },
  {
   "cell_type": "code",
   "execution_count": 5,
   "id": "97556a03-533a-42a5-95f5-cc6384063e1c",
   "metadata": {},
   "outputs": [
    {
     "data": {
      "text/plain": [
       "0.9703703703703703"
      ]
     },
     "execution_count": 5,
     "metadata": {},
     "output_type": "execute_result"
    }
   ],
   "source": [
    "## Random Forest\n",
    "\n",
    "rf = RandomForestClassifier(n_estimators=40)\n",
    "rf.fit(X_train, y_train)\n",
    "rf.score(X_test, y_test)\n",
    "\n",
    "## ## we got RF accuracy of 96%"
   ]
  },
  {
   "cell_type": "code",
   "execution_count": 6,
   "id": "18ddad69-27a9-44cb-b3d3-cdd5f06d0ba9",
   "metadata": {},
   "outputs": [],
   "source": [
    "### for above 3 algorithms we manually run them and checked their score of accuracy, when we do resample the score changes due to change in the sample\n",
    "### which changes the performance of the models\n",
    "### We can't say that, running the models one time and say the score, we have to run the test multiple times"
   ]
  },
  {
   "cell_type": "markdown",
   "id": "3b1139d3-8e04-4ef0-83f0-7b199e66e7f4",
   "metadata": {},
   "source": [
    "# KFold cross validation\n"
   ]
  },
  {
   "cell_type": "code",
   "execution_count": 7,
   "id": "4dc4183f-9ae9-4a5a-800c-4829db2d63d9",
   "metadata": {},
   "outputs": [
    {
     "data": {
      "text/plain": [
       "KFold(n_splits=3, random_state=None, shuffle=False)"
      ]
     },
     "execution_count": 7,
     "metadata": {},
     "output_type": "execute_result"
    }
   ],
   "source": [
    "from sklearn.model_selection import KFold\n",
    "kf = KFold(n_splits=3) ## mentioning that how many folds to create\n",
    "kf"
   ]
  },
  {
   "cell_type": "code",
   "execution_count": 8,
   "id": "029c33d5-c19e-47f0-aab3-992e68229da4",
   "metadata": {},
   "outputs": [
    {
     "name": "stdout",
     "output_type": "stream",
     "text": [
      "[3 4 5 6 7 8] [0 1 2]\n",
      "[0 1 2 6 7 8] [3 4 5]\n",
      "[0 1 2 3 4 5] [6 7 8]\n"
     ]
    }
   ],
   "source": [
    "## for using the KFOLD in the example dataset\n",
    "for train_index, test_index in kf.split([1,2,3,4,5,6,7,8,9]):\n",
    "    print(train_index,test_index) ## We got the split of the data"
   ]
  },
  {
   "cell_type": "markdown",
   "id": "b4320101-0bf2-4f29-9c4e-a8e30798e223",
   "metadata": {},
   "source": [
    "# Using the Kfold for the digits example"
   ]
  },
  {
   "cell_type": "markdown",
   "id": "dc95b2a2-241c-4831-a226-4f40b2e3eeee",
   "metadata": {},
   "source": [
    "### Option 1 of using the Kfold"
   ]
  },
  {
   "cell_type": "code",
   "execution_count": 9,
   "id": "7c499325-74b2-4f81-bb10-0648c6d5a78c",
   "metadata": {},
   "outputs": [],
   "source": [
    "## for simplifying the things we make a function for executing models\n",
    "def get_score(model, X_train, X_test, y_train, y_test):\n",
    "    model.fit(X_train, y_train)\n",
    "    return model.score(X_test, y_test)"
   ]
  },
  {
   "cell_type": "code",
   "execution_count": 10,
   "id": "7a228084-3356-43c2-b303-5c6537fc31b6",
   "metadata": {},
   "outputs": [],
   "source": [
    "## Using the KFold\n",
    "from sklearn.model_selection import StratifiedKFold ## StratifiedKFold better for dividing uniformly\n",
    "folds = StratifiedKFold(n_splits=3)"
   ]
  },
  {
   "cell_type": "code",
   "execution_count": 11,
   "id": "e901e641-28b7-4793-b932-d13ef3c19969",
   "metadata": {},
   "outputs": [],
   "source": [
    "## Preparing the scores array\n",
    "scores_logistic = []\n",
    "scores_svm = []\n",
    "scores_rf = []"
   ]
  },
  {
   "cell_type": "code",
   "execution_count": 12,
   "id": "391ca36c-bc59-4308-8402-717bd683f7fc",
   "metadata": {},
   "outputs": [
    {
     "name": "stderr",
     "output_type": "stream",
     "text": [
      "C:\\Users\\Ajith\\anaconda3\\envs\\geo_env\\lib\\site-packages\\sklearn\\linear_model\\_logistic.py:460: ConvergenceWarning: lbfgs failed to converge (status=1):\n",
      "STOP: TOTAL NO. of ITERATIONS REACHED LIMIT.\n",
      "\n",
      "Increase the number of iterations (max_iter) or scale the data as shown in:\n",
      "    https://scikit-learn.org/stable/modules/preprocessing.html\n",
      "Please also refer to the documentation for alternative solver options:\n",
      "    https://scikit-learn.org/stable/modules/linear_model.html#logistic-regression\n",
      "  n_iter_i = _check_optimize_result(\n",
      "C:\\Users\\Ajith\\anaconda3\\envs\\geo_env\\lib\\site-packages\\sklearn\\linear_model\\_logistic.py:460: ConvergenceWarning: lbfgs failed to converge (status=1):\n",
      "STOP: TOTAL NO. of ITERATIONS REACHED LIMIT.\n",
      "\n",
      "Increase the number of iterations (max_iter) or scale the data as shown in:\n",
      "    https://scikit-learn.org/stable/modules/preprocessing.html\n",
      "Please also refer to the documentation for alternative solver options:\n",
      "    https://scikit-learn.org/stable/modules/linear_model.html#logistic-regression\n",
      "  n_iter_i = _check_optimize_result(\n",
      "C:\\Users\\Ajith\\anaconda3\\envs\\geo_env\\lib\\site-packages\\sklearn\\linear_model\\_logistic.py:460: ConvergenceWarning: lbfgs failed to converge (status=1):\n",
      "STOP: TOTAL NO. of ITERATIONS REACHED LIMIT.\n",
      "\n",
      "Increase the number of iterations (max_iter) or scale the data as shown in:\n",
      "    https://scikit-learn.org/stable/modules/preprocessing.html\n",
      "Please also refer to the documentation for alternative solver options:\n",
      "    https://scikit-learn.org/stable/modules/linear_model.html#logistic-regression\n",
      "  n_iter_i = _check_optimize_result(\n"
     ]
    }
   ],
   "source": [
    "for train_index, test_index in kf.split(digits.data):\n",
    "    X_train,X_test, y_train, y_test = digits.data[train_index], digits.data[test_index],\\\n",
    "                                        digits.target[train_index], digits.target[test_index]\n",
    "    ## measure the performance, since we set as 3 folds the for loop execute for 3 times\n",
    "    scores_logistic.append(get_score(LogisticRegression(), X_train, X_test, y_train, y_test))\n",
    "    scores_svm.append(get_score(SVC(), X_train, X_test, y_train, y_test))\n",
    "    scores_rf.append(get_score(RandomForestClassifier(n_estimators=40), X_train, X_test, y_train, y_test))    "
   ]
  },
  {
   "cell_type": "code",
   "execution_count": 13,
   "id": "3006d1dc-af3d-48d1-8135-6c7ad9f5b108",
   "metadata": {},
   "outputs": [
    {
     "data": {
      "text/plain": [
       "[0.9232053422370617, 0.9415692821368948, 0.9148580968280468]"
      ]
     },
     "execution_count": 13,
     "metadata": {},
     "output_type": "execute_result"
    }
   ],
   "source": [
    "scores_logistic"
   ]
  },
  {
   "cell_type": "code",
   "execution_count": 14,
   "id": "da43763d-9359-4d84-8f34-dec57c1e19af",
   "metadata": {},
   "outputs": [
    {
     "data": {
      "text/plain": [
       "[0.9666110183639399, 0.9816360601001669, 0.9549248747913188]"
      ]
     },
     "execution_count": 14,
     "metadata": {},
     "output_type": "execute_result"
    }
   ],
   "source": [
    "scores_svm"
   ]
  },
  {
   "cell_type": "code",
   "execution_count": 15,
   "id": "18deaa26-2def-40af-8352-ed7d751fde5b",
   "metadata": {},
   "outputs": [
    {
     "data": {
      "text/plain": [
       "[0.9282136894824707, 0.9465776293823038, 0.9148580968280468]"
      ]
     },
     "execution_count": 15,
     "metadata": {},
     "output_type": "execute_result"
    }
   ],
   "source": [
    "scores_rf"
   ]
  },
  {
   "cell_type": "markdown",
   "id": "b8df2701-b21b-47c6-9c76-51b5859528da",
   "metadata": {},
   "source": [
    "### Option 2 of using Kfold\n",
    "### Cross validation of score function"
   ]
  },
  {
   "cell_type": "code",
   "execution_count": 16,
   "id": "d92b790a-3184-4e49-9068-87d4a9fa5054",
   "metadata": {},
   "outputs": [],
   "source": [
    "from sklearn.model_selection import cross_val_score"
   ]
  },
  {
   "cell_type": "code",
   "execution_count": 17,
   "id": "3cee1612-1ecb-4dee-b032-69b36959dbfd",
   "metadata": {},
   "outputs": [
    {
     "name": "stderr",
     "output_type": "stream",
     "text": [
      "C:\\Users\\Ajith\\anaconda3\\envs\\geo_env\\lib\\site-packages\\sklearn\\linear_model\\_logistic.py:460: ConvergenceWarning: lbfgs failed to converge (status=1):\n",
      "STOP: TOTAL NO. of ITERATIONS REACHED LIMIT.\n",
      "\n",
      "Increase the number of iterations (max_iter) or scale the data as shown in:\n",
      "    https://scikit-learn.org/stable/modules/preprocessing.html\n",
      "Please also refer to the documentation for alternative solver options:\n",
      "    https://scikit-learn.org/stable/modules/linear_model.html#logistic-regression\n",
      "  n_iter_i = _check_optimize_result(\n",
      "C:\\Users\\Ajith\\anaconda3\\envs\\geo_env\\lib\\site-packages\\sklearn\\linear_model\\_logistic.py:460: ConvergenceWarning: lbfgs failed to converge (status=1):\n",
      "STOP: TOTAL NO. of ITERATIONS REACHED LIMIT.\n",
      "\n",
      "Increase the number of iterations (max_iter) or scale the data as shown in:\n",
      "    https://scikit-learn.org/stable/modules/preprocessing.html\n",
      "Please also refer to the documentation for alternative solver options:\n",
      "    https://scikit-learn.org/stable/modules/linear_model.html#logistic-regression\n",
      "  n_iter_i = _check_optimize_result(\n",
      "C:\\Users\\Ajith\\anaconda3\\envs\\geo_env\\lib\\site-packages\\sklearn\\linear_model\\_logistic.py:460: ConvergenceWarning: lbfgs failed to converge (status=1):\n",
      "STOP: TOTAL NO. of ITERATIONS REACHED LIMIT.\n",
      "\n",
      "Increase the number of iterations (max_iter) or scale the data as shown in:\n",
      "    https://scikit-learn.org/stable/modules/preprocessing.html\n",
      "Please also refer to the documentation for alternative solver options:\n",
      "    https://scikit-learn.org/stable/modules/linear_model.html#logistic-regression\n",
      "  n_iter_i = _check_optimize_result(\n"
     ]
    }
   ],
   "source": [
    "avg_lr = cross_val_score(LogisticRegression(), digits.data, digits.target,cv=3)"
   ]
  },
  {
   "cell_type": "code",
   "execution_count": 18,
   "id": "d7ee8bfc-de1f-4a61-8bac-2ac599e56f5b",
   "metadata": {},
   "outputs": [],
   "source": [
    "avg_SVC = cross_val_score(SVC(), digits.data, digits.target, cv=3)"
   ]
  },
  {
   "cell_type": "code",
   "execution_count": 19,
   "id": "b32e9b21-aa94-4d50-8647-821b59774fc5",
   "metadata": {},
   "outputs": [],
   "source": [
    "avg_rf = cross_val_score(RandomForestClassifier(n_estimators=40), digits.data, digits.target, cv=3)"
   ]
  },
  {
   "cell_type": "markdown",
   "id": "9b7de101-debc-44ca-a114-cc95631e3feb",
   "metadata": {},
   "source": [
    "#### Checking the avverage score"
   ]
  },
  {
   "cell_type": "code",
   "execution_count": 20,
   "id": "5f40e169-30ef-43ed-a02c-7095c4e8545a",
   "metadata": {},
   "outputs": [
    {
     "data": {
      "text/plain": [
       "0.9265442404006677"
      ]
     },
     "execution_count": 20,
     "metadata": {},
     "output_type": "execute_result"
    }
   ],
   "source": [
    "np.average(avg_lr)"
   ]
  },
  {
   "cell_type": "code",
   "execution_count": 21,
   "id": "085018b4-8c8e-41c0-9c9b-eb4cb89b0b97",
   "metadata": {},
   "outputs": [
    {
     "data": {
      "text/plain": [
       "0.9365609348914857"
      ]
     },
     "execution_count": 21,
     "metadata": {},
     "output_type": "execute_result"
    }
   ],
   "source": [
    "np.average(avg_rf)"
   ]
  },
  {
   "cell_type": "code",
   "execution_count": 22,
   "id": "1c1dfd6b-f40b-4641-b16b-eb948f9a2c65",
   "metadata": {},
   "outputs": [
    {
     "data": {
      "text/plain": [
       "0.9699499165275459"
      ]
     },
     "execution_count": 22,
     "metadata": {},
     "output_type": "execute_result"
    }
   ],
   "source": [
    "np.average(avg_SVC)"
   ]
  },
  {
   "cell_type": "markdown",
   "id": "d9d5204c-6f1c-4426-a29a-fba97d6f0b7d",
   "metadata": {},
   "source": [
    "## Parameter tunning for RF using k fold cross validation"
   ]
  },
  {
   "cell_type": "code",
   "execution_count": 23,
   "id": "1c5e795e-1261-44fc-8c66-82a30a8e6f2f",
   "metadata": {},
   "outputs": [
    {
     "data": {
      "text/plain": [
       "0.8430717863105176"
      ]
     },
     "execution_count": 23,
     "metadata": {},
     "output_type": "execute_result"
    }
   ],
   "source": [
    "np.average(cross_val_score(RandomForestClassifier(n_estimators=5), digits.data, digits.target,cv=3))"
   ]
  },
  {
   "cell_type": "code",
   "execution_count": 24,
   "id": "f34e41be-2906-45de-aaca-ee8eeb81fd2e",
   "metadata": {},
   "outputs": [
    {
     "data": {
      "text/plain": [
       "0.9237618252643295"
      ]
     },
     "execution_count": 24,
     "metadata": {},
     "output_type": "execute_result"
    }
   ],
   "source": [
    "np.average(cross_val_score(RandomForestClassifier(n_estimators=15), digits.data, digits.target,cv=3))"
   ]
  },
  {
   "cell_type": "code",
   "execution_count": 25,
   "id": "3e19819c-58c0-4d31-b99e-200d618eb3d6",
   "metadata": {},
   "outputs": [
    {
     "data": {
      "text/plain": [
       "0.9315525876460767"
      ]
     },
     "execution_count": 25,
     "metadata": {},
     "output_type": "execute_result"
    }
   ],
   "source": [
    "np.average(cross_val_score(RandomForestClassifier(n_estimators=35), digits.data, digits.target,cv=3))"
   ]
  },
  {
   "cell_type": "code",
   "execution_count": 26,
   "id": "db2a70d8-6a6c-44aa-be12-8e3b46b95e6e",
   "metadata": {},
   "outputs": [
    {
     "data": {
      "text/plain": [
       "0.9376739009460211"
      ]
     },
     "execution_count": 26,
     "metadata": {},
     "output_type": "execute_result"
    }
   ],
   "source": [
    "np.average(cross_val_score(RandomForestClassifier(n_estimators=50), digits.data, digits.target,cv=3))"
   ]
  },
  {
   "cell_type": "code",
   "execution_count": 27,
   "id": "59668950-36c1-4fda-8607-e38037ec8e37",
   "metadata": {},
   "outputs": [
    {
     "data": {
      "text/plain": [
       "0.9387868670005565"
      ]
     },
     "execution_count": 27,
     "metadata": {},
     "output_type": "execute_result"
    }
   ],
   "source": [
    "np.average(cross_val_score(RandomForestClassifier(n_estimators=60), digits.data, digits.target,cv=3))"
   ]
  },
  {
   "cell_type": "code",
   "execution_count": 28,
   "id": "b08c681c-09d4-4188-8ec3-79423476c76b",
   "metadata": {},
   "outputs": [
    {
     "data": {
      "text/plain": [
       "0.9398998330550917"
      ]
     },
     "execution_count": 28,
     "metadata": {},
     "output_type": "execute_result"
    }
   ],
   "source": [
    "np.average(cross_val_score(RandomForestClassifier(n_estimators=70), digits.data, digits.target,cv=3))"
   ]
  }
 ],
 "metadata": {
  "kernelspec": {
   "display_name": "Python 3 (ipykernel)",
   "language": "python",
   "name": "python3"
  },
  "language_info": {
   "codemirror_mode": {
    "name": "ipython",
    "version": 3
   },
   "file_extension": ".py",
   "mimetype": "text/x-python",
   "name": "python",
   "nbconvert_exporter": "python",
   "pygments_lexer": "ipython3",
   "version": "3.10.12"
  }
 },
 "nbformat": 4,
 "nbformat_minor": 5
}
