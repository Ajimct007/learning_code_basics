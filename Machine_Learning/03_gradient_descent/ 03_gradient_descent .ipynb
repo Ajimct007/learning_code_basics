{
 "cells": [
  {
   "cell_type": "code",
   "execution_count": 1,
   "id": "4ef78dbd",
   "metadata": {},
   "outputs": [],
   "source": [
    "import numpy as np"
   ]
  },
  {
   "cell_type": "code",
   "execution_count": 2,
   "id": "c800e7f7",
   "metadata": {},
   "outputs": [],
   "source": [
    "%matplotlib inline\n",
    "\n",
    "def gradient_descent(x,y):\n",
    "    ## start with m = 0 and b = 0\n",
    "    m_curr = b_curr = 0\n",
    "    iterations = 10000 # number of steps later fine tune\n",
    "    n = len(x)\n",
    "    learning_rate = 0.08 ## setting the initial value\n",
    "    \n",
    "    for i in range(iterations):\n",
    "        y_predicted = m_curr * x + b_curr\n",
    "        cost = (1/n) * sum([val**2 for val in (y-y_predicted)])\n",
    "        md = -(2/n)*sum(x*(y-y_predicted)) ## n is length of the datapoints, md = m derivative\n",
    "        bd = -(2/n)*sum(y-y_predicted)     ## bd = b derivative\n",
    "        m_curr = m_curr - learning_rate * md\n",
    "        b_curr = b_curr - learning_rate * bd\n",
    "        #print(\"m {}, b {}, cost {} , interation{}\".format(m_curr,b_curr,cost,i))\n",
    "        "
   ]
  },
  {
   "cell_type": "code",
   "execution_count": 3,
   "id": "c6a996dc",
   "metadata": {},
   "outputs": [],
   "source": [
    "x = np.array([1,2,3,4,5])\n",
    "y = np.array([5,7,9,11,13])"
   ]
  },
  {
   "cell_type": "code",
   "execution_count": 4,
   "id": "91cdc8ec",
   "metadata": {},
   "outputs": [],
   "source": [
    "gradient_descent(x,y)"
   ]
  }
 ],
 "metadata": {
  "kernelspec": {
   "display_name": "Python 3 (ipykernel)",
   "language": "python",
   "name": "python3"
  },
  "language_info": {
   "codemirror_mode": {
    "name": "ipython",
    "version": 3
   },
   "file_extension": ".py",
   "mimetype": "text/x-python",
   "name": "python",
   "nbconvert_exporter": "python",
   "pygments_lexer": "ipython3",
   "version": "3.10.9"
  }
 },
 "nbformat": 4,
 "nbformat_minor": 5
}
