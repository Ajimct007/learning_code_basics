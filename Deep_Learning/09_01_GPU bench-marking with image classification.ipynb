{
 "cells": [
  {
   "cell_type": "markdown",
   "id": "92591b9c-d4a8-4c5a-9947-db3ef80ea165",
   "metadata": {},
   "source": [
    "#### Small Image Classification Using Simple Aritifical Neural Network: GPU Benchmarking"
   ]
  },
  {
   "cell_type": "code",
   "execution_count": 1,
   "id": "7c0fa6cf-5b82-476c-9b0a-3355f49940f5",
   "metadata": {},
   "outputs": [],
   "source": [
    "import tensorflow as tf\n",
    "from tensorflow import keras\n",
    "import matplotlib.pyplot as plt\n",
    "import numpy as np"
   ]
  },
  {
   "cell_type": "markdown",
   "id": "ec824bf0-2465-4030-a261-f33a9e0b0522",
   "metadata": {},
   "source": [
    "**This command shows list of physical devices available for tensorflow. You can see GPU listed here. If you have NVIDIA GPU you need to install CUDA toolkit and cuDNN as per instruction on this webpage. Without proper installation you will not see GPU in list of devices**"
   ]
  },
  {
   "cell_type": "code",
   "execution_count": 2,
   "id": "a26f2c80-46f5-4c37-a9ea-b4363db2ee1b",
   "metadata": {},
   "outputs": [
    {
     "data": {
      "text/plain": [
       "[PhysicalDevice(name='/physical_device:CPU:0', device_type='CPU')]"
      ]
     },
     "execution_count": 2,
     "metadata": {},
     "output_type": "execute_result"
    }
   ],
   "source": [
    "tf.config.experimental.list_physical_devices()"
   ]
  },
  {
   "cell_type": "markdown",
   "id": "7fe894fa-df99-4315-9dfe-c23413581b6f",
   "metadata": {},
   "source": [
    "**Since we have Lack of components we will continue this with google collab**"
   ]
  },
  {
   "cell_type": "code",
   "execution_count": null,
   "id": "b0419f4b-7665-49ca-a8f3-483af814f34f",
   "metadata": {},
   "outputs": [],
   "source": []
  },
  {
   "cell_type": "code",
   "execution_count": null,
   "id": "56c74429-1f04-4b61-8440-8e8528120b78",
   "metadata": {},
   "outputs": [],
   "source": []
  },
  {
   "cell_type": "code",
   "execution_count": null,
   "id": "5279e829-109f-457c-817c-4c88cab48bb4",
   "metadata": {},
   "outputs": [],
   "source": []
  },
  {
   "cell_type": "code",
   "execution_count": null,
   "id": "a9dd5d7a-3a3f-4130-889d-b25b23791e20",
   "metadata": {},
   "outputs": [],
   "source": []
  },
  {
   "cell_type": "code",
   "execution_count": null,
   "id": "6bb9ffa2-33f6-4a9f-a6ef-646d0fe37912",
   "metadata": {},
   "outputs": [],
   "source": []
  },
  {
   "cell_type": "code",
   "execution_count": null,
   "id": "6435944b-8966-4d2b-ae4b-7fa6fce072ce",
   "metadata": {},
   "outputs": [],
   "source": []
  },
  {
   "cell_type": "code",
   "execution_count": null,
   "id": "ca47f325-20bb-4582-84e1-57c6823ec20f",
   "metadata": {},
   "outputs": [],
   "source": []
  },
  {
   "cell_type": "code",
   "execution_count": null,
   "id": "f1edb0d6-e5dd-457e-83b5-4478ad074183",
   "metadata": {},
   "outputs": [],
   "source": []
  }
 ],
 "metadata": {
  "kernelspec": {
   "display_name": "Python 3 (ipykernel)",
   "language": "python",
   "name": "python3"
  },
  "language_info": {
   "codemirror_mode": {
    "name": "ipython",
    "version": 3
   },
   "file_extension": ".py",
   "mimetype": "text/x-python",
   "name": "python",
   "nbconvert_exporter": "python",
   "pygments_lexer": "ipython3",
   "version": "3.11.4"
  }
 },
 "nbformat": 4,
 "nbformat_minor": 5
}
