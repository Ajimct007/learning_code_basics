{
 "cells": [
  {
   "cell_type": "markdown",
   "id": "2737993e-c052-46ba-b226-62ec1fd5ed16",
   "metadata": {},
   "source": [
    "# Sigmoid Function\n",
    "\n",
    "converts values between 0 to 1"
   ]
  },
  {
   "cell_type": "code",
   "execution_count": 1,
   "id": "fcfd8c8e-94f7-4452-97c2-e86ec9009759",
   "metadata": {},
   "outputs": [],
   "source": [
    "import math\n",
    "def sigmoid(x):\n",
    "    return 1/(1+math.exp(-x))"
   ]
  },
  {
   "cell_type": "code",
   "execution_count": 2,
   "id": "fb82b0c4-8468-47cf-b990-9cb13046bdaa",
   "metadata": {},
   "outputs": [
    {
     "data": {
      "text/plain": [
       "1.0"
      ]
     },
     "execution_count": 2,
     "metadata": {},
     "output_type": "execute_result"
    }
   ],
   "source": [
    "sigmoid(100)"
   ]
  },
  {
   "cell_type": "code",
   "execution_count": 3,
   "id": "62c26e95-60fb-487f-8c86-824aff3869eb",
   "metadata": {},
   "outputs": [
    {
     "data": {
      "text/plain": [
       "0.7310585786300049"
      ]
     },
     "execution_count": 3,
     "metadata": {},
     "output_type": "execute_result"
    }
   ],
   "source": [
    "sigmoid(1)"
   ]
  },
  {
   "cell_type": "code",
   "execution_count": 4,
   "id": "8b64a7c5-3f97-463c-8f9c-ff5e643173c1",
   "metadata": {},
   "outputs": [
    {
     "data": {
      "text/plain": [
       "2.8625185805493937e-20"
      ]
     },
     "execution_count": 4,
     "metadata": {},
     "output_type": "execute_result"
    }
   ],
   "source": [
    "sigmoid(-45)"
   ]
  },
  {
   "cell_type": "code",
   "execution_count": 5,
   "id": "b8db6d68-707d-44e2-b4dd-048fb4ba014c",
   "metadata": {},
   "outputs": [
    {
     "data": {
      "text/plain": [
       "0.6224593312018546"
      ]
     },
     "execution_count": 5,
     "metadata": {},
     "output_type": "execute_result"
    }
   ],
   "source": [
    "sigmoid(0.5)"
   ]
  },
  {
   "cell_type": "markdown",
   "id": "2bf168bd-9e93-4fc3-860c-7506f8e55b86",
   "metadata": {},
   "source": [
    "# Tanh\n",
    "\n",
    "converts values between -1 and 1"
   ]
  },
  {
   "cell_type": "code",
   "execution_count": 6,
   "id": "37266a5d-f211-43c9-8bec-76b6449141cd",
   "metadata": {},
   "outputs": [],
   "source": [
    "def tanh(x):\n",
    "    return (math.exp(x) - math.exp(-x)) / (math.exp(x) + math.exp(-x))"
   ]
  },
  {
   "cell_type": "code",
   "execution_count": 7,
   "id": "6cc068b4-f289-424b-b0aa-c1611ba4921d",
   "metadata": {},
   "outputs": [
    {
     "data": {
      "text/plain": [
       "-1.0"
      ]
     },
     "execution_count": 7,
     "metadata": {},
     "output_type": "execute_result"
    }
   ],
   "source": [
    "tanh(-56)"
   ]
  },
  {
   "cell_type": "code",
   "execution_count": 11,
   "id": "38413077-04ed-4e88-8dca-72140dc84c69",
   "metadata": {},
   "outputs": [
    {
     "data": {
      "text/plain": [
       "1.0"
      ]
     },
     "execution_count": 11,
     "metadata": {},
     "output_type": "execute_result"
    }
   ],
   "source": [
    "tanh(50)"
   ]
  },
  {
   "cell_type": "code",
   "execution_count": 12,
   "id": "2b8562d9-d0b2-48b9-bbb6-14a0d6b5e3bc",
   "metadata": {},
   "outputs": [
    {
     "data": {
      "text/plain": [
       "0.7615941559557649"
      ]
     },
     "execution_count": 12,
     "metadata": {},
     "output_type": "execute_result"
    }
   ],
   "source": [
    "tanh(1)"
   ]
  },
  {
   "cell_type": "code",
   "execution_count": 13,
   "id": "d129bb77-f83c-4d6d-bde8-76f19f007302",
   "metadata": {},
   "outputs": [
    {
     "data": {
      "text/plain": [
       "1.0"
      ]
     },
     "execution_count": 13,
     "metadata": {},
     "output_type": "execute_result"
    }
   ],
   "source": [
    "tanh(100)"
   ]
  },
  {
   "cell_type": "markdown",
   "id": "c7229316-e351-4c86-aec1-ba0585ae5035",
   "metadata": {},
   "source": [
    "# ReLU\n",
    "\n",
    "Converts the values between 0 and 1"
   ]
  },
  {
   "cell_type": "code",
   "execution_count": 14,
   "id": "92a6f9e0-69a8-4f9a-8c91-cff73a50ac60",
   "metadata": {},
   "outputs": [],
   "source": [
    "def relu(x):\n",
    "    return max(0,x)"
   ]
  },
  {
   "cell_type": "code",
   "execution_count": 15,
   "id": "1c664d1a-64b2-446e-9042-45ee3cf58ad1",
   "metadata": {},
   "outputs": [
    {
     "data": {
      "text/plain": [
       "0"
      ]
     },
     "execution_count": 15,
     "metadata": {},
     "output_type": "execute_result"
    }
   ],
   "source": [
    "relu(-7)"
   ]
  },
  {
   "cell_type": "code",
   "execution_count": 16,
   "id": "b5a703b1-00af-4d89-bdca-0229e7b11830",
   "metadata": {},
   "outputs": [
    {
     "data": {
      "text/plain": [
       "7"
      ]
     },
     "execution_count": 16,
     "metadata": {},
     "output_type": "execute_result"
    }
   ],
   "source": [
    "relu(7)"
   ]
  },
  {
   "cell_type": "markdown",
   "id": "74766de5-0c8b-4c9b-9cbb-15e408006e75",
   "metadata": {},
   "source": [
    "# Leaky ReLU\n",
    "\n",
    "Converts the value as 0.1 of x"
   ]
  },
  {
   "cell_type": "code",
   "execution_count": 17,
   "id": "2b8abfbc-e4c0-4247-9bd5-873b9e653e65",
   "metadata": {},
   "outputs": [],
   "source": [
    "def leaky_relu(x):\n",
    "    return max(0.1*x, x)"
   ]
  },
  {
   "cell_type": "code",
   "execution_count": 18,
   "id": "db189248-ab39-4cbb-9035-6e8353df61a5",
   "metadata": {},
   "outputs": [
    {
     "data": {
      "text/plain": [
       "-10.0"
      ]
     },
     "execution_count": 18,
     "metadata": {},
     "output_type": "execute_result"
    }
   ],
   "source": [
    "leaky_relu(-100)"
   ]
  },
  {
   "cell_type": "code",
   "execution_count": 19,
   "id": "2af8ddd5-2f26-4f41-aec8-a026f0ca9ef0",
   "metadata": {},
   "outputs": [
    {
     "data": {
      "text/plain": [
       "8"
      ]
     },
     "execution_count": 19,
     "metadata": {},
     "output_type": "execute_result"
    }
   ],
   "source": [
    "leaky_relu(8)"
   ]
  },
  {
   "cell_type": "code",
   "execution_count": null,
   "id": "6a962525-bd1a-4980-8dec-b148d59f0f97",
   "metadata": {},
   "outputs": [],
   "source": []
  }
 ],
 "metadata": {
  "kernelspec": {
   "display_name": "Python 3 (ipykernel)",
   "language": "python",
   "name": "python3"
  },
  "language_info": {
   "codemirror_mode": {
    "name": "ipython",
    "version": 3
   },
   "file_extension": ".py",
   "mimetype": "text/x-python",
   "name": "python",
   "nbconvert_exporter": "python",
   "pygments_lexer": "ipython3",
   "version": "3.11.4"
  }
 },
 "nbformat": 4,
 "nbformat_minor": 5
}
