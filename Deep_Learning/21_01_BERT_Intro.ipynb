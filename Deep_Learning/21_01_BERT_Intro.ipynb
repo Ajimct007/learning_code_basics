{
  "nbformat": 4,
  "nbformat_minor": 0,
  "metadata": {
    "colab": {
      "provenance": [],
      "gpuType": "T4"
    },
    "kernelspec": {
      "name": "python3",
      "display_name": "Python 3"
    },
    "language_info": {
      "name": "python"
    },
    "accelerator": "GPU"
  },
  "cells": [
    {
      "cell_type": "markdown",
      "source": [
        "Here is the page that has list of all available bert models on tensorflow hub that one can download and make use of.\n",
        "\n",
        "https://tfhub.dev/google/collections/bert/1\n",
        "\n",
        "Here is the information on basic uncased BERT model,\n",
        "\n",
        "https://tfhub.dev/tensorflow/bert_en_uncased_L-12_H-768_A-12/4\n",
        "\n",
        "It uses L=12 hidden layers (i.e., Transformer blocks), a hidden size of H=768, and A=12 attention heads. This model has been pre-trained for English on the Wikipedia and BooksCorpus."
      ],
      "metadata": {
        "id": "kL3m4oYIZNwd"
      }
    },
    {
      "cell_type": "code",
      "source": [
        "!pip install tensorflow_text"
      ],
      "metadata": {
        "colab": {
          "base_uri": "https://localhost:8080/"
        },
        "id": "I3sI7_dIZ1GX",
        "outputId": "125fd968-6828-40b8-c49e-27d0c2d977d2"
      },
      "execution_count": 2,
      "outputs": [
        {
          "output_type": "stream",
          "name": "stdout",
          "text": [
            "Collecting tensorflow_text\n",
            "  Downloading tensorflow_text-2.14.0-cp310-cp310-manylinux_2_17_x86_64.manylinux2014_x86_64.whl (6.5 MB)\n",
            "\u001b[2K     \u001b[90m━━━━━━━━━━━━━━━━━━━━━━━━━━━━━━━━━━━━━━━━\u001b[0m \u001b[32m6.5/6.5 MB\u001b[0m \u001b[31m27.1 MB/s\u001b[0m eta \u001b[36m0:00:00\u001b[0m\n",
            "\u001b[?25hRequirement already satisfied: tensorflow-hub>=0.13.0 in /usr/local/lib/python3.10/dist-packages (from tensorflow_text) (0.15.0)\n",
            "Requirement already satisfied: tensorflow<2.15,>=2.14.0 in /usr/local/lib/python3.10/dist-packages (from tensorflow_text) (2.14.0)\n",
            "Requirement already satisfied: absl-py>=1.0.0 in /usr/local/lib/python3.10/dist-packages (from tensorflow<2.15,>=2.14.0->tensorflow_text) (1.4.0)\n",
            "Requirement already satisfied: astunparse>=1.6.0 in /usr/local/lib/python3.10/dist-packages (from tensorflow<2.15,>=2.14.0->tensorflow_text) (1.6.3)\n",
            "Requirement already satisfied: flatbuffers>=23.5.26 in /usr/local/lib/python3.10/dist-packages (from tensorflow<2.15,>=2.14.0->tensorflow_text) (23.5.26)\n",
            "Requirement already satisfied: gast!=0.5.0,!=0.5.1,!=0.5.2,>=0.2.1 in /usr/local/lib/python3.10/dist-packages (from tensorflow<2.15,>=2.14.0->tensorflow_text) (0.5.4)\n",
            "Requirement already satisfied: google-pasta>=0.1.1 in /usr/local/lib/python3.10/dist-packages (from tensorflow<2.15,>=2.14.0->tensorflow_text) (0.2.0)\n",
            "Requirement already satisfied: h5py>=2.9.0 in /usr/local/lib/python3.10/dist-packages (from tensorflow<2.15,>=2.14.0->tensorflow_text) (3.9.0)\n",
            "Requirement already satisfied: libclang>=13.0.0 in /usr/local/lib/python3.10/dist-packages (from tensorflow<2.15,>=2.14.0->tensorflow_text) (16.0.6)\n",
            "Requirement already satisfied: ml-dtypes==0.2.0 in /usr/local/lib/python3.10/dist-packages (from tensorflow<2.15,>=2.14.0->tensorflow_text) (0.2.0)\n",
            "Requirement already satisfied: numpy>=1.23.5 in /usr/local/lib/python3.10/dist-packages (from tensorflow<2.15,>=2.14.0->tensorflow_text) (1.23.5)\n",
            "Requirement already satisfied: opt-einsum>=2.3.2 in /usr/local/lib/python3.10/dist-packages (from tensorflow<2.15,>=2.14.0->tensorflow_text) (3.3.0)\n",
            "Requirement already satisfied: packaging in /usr/local/lib/python3.10/dist-packages (from tensorflow<2.15,>=2.14.0->tensorflow_text) (23.2)\n",
            "Requirement already satisfied: protobuf!=4.21.0,!=4.21.1,!=4.21.2,!=4.21.3,!=4.21.4,!=4.21.5,<5.0.0dev,>=3.20.3 in /usr/local/lib/python3.10/dist-packages (from tensorflow<2.15,>=2.14.0->tensorflow_text) (3.20.3)\n",
            "Requirement already satisfied: setuptools in /usr/local/lib/python3.10/dist-packages (from tensorflow<2.15,>=2.14.0->tensorflow_text) (67.7.2)\n",
            "Requirement already satisfied: six>=1.12.0 in /usr/local/lib/python3.10/dist-packages (from tensorflow<2.15,>=2.14.0->tensorflow_text) (1.16.0)\n",
            "Requirement already satisfied: termcolor>=1.1.0 in /usr/local/lib/python3.10/dist-packages (from tensorflow<2.15,>=2.14.0->tensorflow_text) (2.3.0)\n",
            "Requirement already satisfied: typing-extensions>=3.6.6 in /usr/local/lib/python3.10/dist-packages (from tensorflow<2.15,>=2.14.0->tensorflow_text) (4.5.0)\n",
            "Requirement already satisfied: wrapt<1.15,>=1.11.0 in /usr/local/lib/python3.10/dist-packages (from tensorflow<2.15,>=2.14.0->tensorflow_text) (1.14.1)\n",
            "Requirement already satisfied: tensorflow-io-gcs-filesystem>=0.23.1 in /usr/local/lib/python3.10/dist-packages (from tensorflow<2.15,>=2.14.0->tensorflow_text) (0.34.0)\n",
            "Requirement already satisfied: grpcio<2.0,>=1.24.3 in /usr/local/lib/python3.10/dist-packages (from tensorflow<2.15,>=2.14.0->tensorflow_text) (1.59.0)\n",
            "Requirement already satisfied: tensorboard<2.15,>=2.14 in /usr/local/lib/python3.10/dist-packages (from tensorflow<2.15,>=2.14.0->tensorflow_text) (2.14.1)\n",
            "Requirement already satisfied: tensorflow-estimator<2.15,>=2.14.0 in /usr/local/lib/python3.10/dist-packages (from tensorflow<2.15,>=2.14.0->tensorflow_text) (2.14.0)\n",
            "Requirement already satisfied: keras<2.15,>=2.14.0 in /usr/local/lib/python3.10/dist-packages (from tensorflow<2.15,>=2.14.0->tensorflow_text) (2.14.0)\n",
            "Requirement already satisfied: wheel<1.0,>=0.23.0 in /usr/local/lib/python3.10/dist-packages (from astunparse>=1.6.0->tensorflow<2.15,>=2.14.0->tensorflow_text) (0.41.2)\n",
            "Requirement already satisfied: google-auth<3,>=1.6.3 in /usr/local/lib/python3.10/dist-packages (from tensorboard<2.15,>=2.14->tensorflow<2.15,>=2.14.0->tensorflow_text) (2.17.3)\n",
            "Requirement already satisfied: google-auth-oauthlib<1.1,>=0.5 in /usr/local/lib/python3.10/dist-packages (from tensorboard<2.15,>=2.14->tensorflow<2.15,>=2.14.0->tensorflow_text) (1.0.0)\n",
            "Requirement already satisfied: markdown>=2.6.8 in /usr/local/lib/python3.10/dist-packages (from tensorboard<2.15,>=2.14->tensorflow<2.15,>=2.14.0->tensorflow_text) (3.5)\n",
            "Requirement already satisfied: requests<3,>=2.21.0 in /usr/local/lib/python3.10/dist-packages (from tensorboard<2.15,>=2.14->tensorflow<2.15,>=2.14.0->tensorflow_text) (2.31.0)\n",
            "Requirement already satisfied: tensorboard-data-server<0.8.0,>=0.7.0 in /usr/local/lib/python3.10/dist-packages (from tensorboard<2.15,>=2.14->tensorflow<2.15,>=2.14.0->tensorflow_text) (0.7.2)\n",
            "Requirement already satisfied: werkzeug>=1.0.1 in /usr/local/lib/python3.10/dist-packages (from tensorboard<2.15,>=2.14->tensorflow<2.15,>=2.14.0->tensorflow_text) (3.0.1)\n",
            "Requirement already satisfied: cachetools<6.0,>=2.0.0 in /usr/local/lib/python3.10/dist-packages (from google-auth<3,>=1.6.3->tensorboard<2.15,>=2.14->tensorflow<2.15,>=2.14.0->tensorflow_text) (5.3.2)\n",
            "Requirement already satisfied: pyasn1-modules>=0.2.1 in /usr/local/lib/python3.10/dist-packages (from google-auth<3,>=1.6.3->tensorboard<2.15,>=2.14->tensorflow<2.15,>=2.14.0->tensorflow_text) (0.3.0)\n",
            "Requirement already satisfied: rsa<5,>=3.1.4 in /usr/local/lib/python3.10/dist-packages (from google-auth<3,>=1.6.3->tensorboard<2.15,>=2.14->tensorflow<2.15,>=2.14.0->tensorflow_text) (4.9)\n",
            "Requirement already satisfied: requests-oauthlib>=0.7.0 in /usr/local/lib/python3.10/dist-packages (from google-auth-oauthlib<1.1,>=0.5->tensorboard<2.15,>=2.14->tensorflow<2.15,>=2.14.0->tensorflow_text) (1.3.1)\n",
            "Requirement already satisfied: charset-normalizer<4,>=2 in /usr/local/lib/python3.10/dist-packages (from requests<3,>=2.21.0->tensorboard<2.15,>=2.14->tensorflow<2.15,>=2.14.0->tensorflow_text) (3.3.1)\n",
            "Requirement already satisfied: idna<4,>=2.5 in /usr/local/lib/python3.10/dist-packages (from requests<3,>=2.21.0->tensorboard<2.15,>=2.14->tensorflow<2.15,>=2.14.0->tensorflow_text) (3.4)\n",
            "Requirement already satisfied: urllib3<3,>=1.21.1 in /usr/local/lib/python3.10/dist-packages (from requests<3,>=2.21.0->tensorboard<2.15,>=2.14->tensorflow<2.15,>=2.14.0->tensorflow_text) (2.0.7)\n",
            "Requirement already satisfied: certifi>=2017.4.17 in /usr/local/lib/python3.10/dist-packages (from requests<3,>=2.21.0->tensorboard<2.15,>=2.14->tensorflow<2.15,>=2.14.0->tensorflow_text) (2023.7.22)\n",
            "Requirement already satisfied: MarkupSafe>=2.1.1 in /usr/local/lib/python3.10/dist-packages (from werkzeug>=1.0.1->tensorboard<2.15,>=2.14->tensorflow<2.15,>=2.14.0->tensorflow_text) (2.1.3)\n",
            "Requirement already satisfied: pyasn1<0.6.0,>=0.4.6 in /usr/local/lib/python3.10/dist-packages (from pyasn1-modules>=0.2.1->google-auth<3,>=1.6.3->tensorboard<2.15,>=2.14->tensorflow<2.15,>=2.14.0->tensorflow_text) (0.5.0)\n",
            "Requirement already satisfied: oauthlib>=3.0.0 in /usr/local/lib/python3.10/dist-packages (from requests-oauthlib>=0.7.0->google-auth-oauthlib<1.1,>=0.5->tensorboard<2.15,>=2.14->tensorflow<2.15,>=2.14.0->tensorflow_text) (3.2.2)\n",
            "Installing collected packages: tensorflow_text\n",
            "Successfully installed tensorflow_text-2.14.0\n"
          ]
        }
      ]
    },
    {
      "cell_type": "code",
      "execution_count": 3,
      "metadata": {
        "id": "Q23jZCIYXpqO"
      },
      "outputs": [],
      "source": [
        "import tensorflow_hub as hub\n",
        "import tensorflow_text as text"
      ]
    },
    {
      "cell_type": "code",
      "source": [
        "preprocess_url = \"https://tfhub.dev/tensorflow/bert_en_uncased_preprocess/3\"\n",
        "encoder_url = \"https://tfhub.dev/tensorflow/bert_en_uncased_L-12_H-768_A-12/4\""
      ],
      "metadata": {
        "id": "HRk5oKh7ZSS-"
      },
      "execution_count": 4,
      "outputs": []
    },
    {
      "cell_type": "code",
      "source": [
        "# building a function for Hub to refer in future\n",
        "bert_preprocess_model = hub.KerasLayer(preprocess_url)"
      ],
      "metadata": {
        "id": "XUjEy15_ZSQQ"
      },
      "execution_count": 5,
      "outputs": []
    },
    {
      "cell_type": "code",
      "source": [
        "# testing the model foer understanding\n",
        "\n",
        "text_test = ['nice movie indeed','I love python programming']\n",
        "text_preprocessed = bert_preprocess_model(text_test)\n",
        "text_preprocessed.keys()"
      ],
      "metadata": {
        "colab": {
          "base_uri": "https://localhost:8080/"
        },
        "id": "sRyu5V4WZSM9",
        "outputId": "21e18248-854f-4b97-d460-3b376abdc539"
      },
      "execution_count": 6,
      "outputs": [
        {
          "output_type": "execute_result",
          "data": {
            "text/plain": [
              "dict_keys(['input_type_ids', 'input_mask', 'input_word_ids'])"
            ]
          },
          "metadata": {},
          "execution_count": 6
        }
      ]
    },
    {
      "cell_type": "code",
      "source": [
        "# Lets look at individual elements in the dictionary\n",
        "text_preprocessed['input_mask']\n",
        "\n",
        "# here the shape of 2 x 128 -- for the 2 sentence which we provided -- 128 is the maximum lengeth of the sentence\n",
        "# Here at the begining we have 5 1's this because the BERT initiate 'CLS nice movie indeed SEP'"
      ],
      "metadata": {
        "colab": {
          "base_uri": "https://localhost:8080/"
        },
        "id": "WtA9s8TtZSKF",
        "outputId": "00302f07-b5bc-4eae-9e03-2c5d74feacc3"
      },
      "execution_count": 7,
      "outputs": [
        {
          "output_type": "execute_result",
          "data": {
            "text/plain": [
              "<tf.Tensor: shape=(2, 128), dtype=int32, numpy=\n",
              "array([[1, 1, 1, 1, 1, 0, 0, 0, 0, 0, 0, 0, 0, 0, 0, 0, 0, 0, 0, 0, 0, 0,\n",
              "        0, 0, 0, 0, 0, 0, 0, 0, 0, 0, 0, 0, 0, 0, 0, 0, 0, 0, 0, 0, 0, 0,\n",
              "        0, 0, 0, 0, 0, 0, 0, 0, 0, 0, 0, 0, 0, 0, 0, 0, 0, 0, 0, 0, 0, 0,\n",
              "        0, 0, 0, 0, 0, 0, 0, 0, 0, 0, 0, 0, 0, 0, 0, 0, 0, 0, 0, 0, 0, 0,\n",
              "        0, 0, 0, 0, 0, 0, 0, 0, 0, 0, 0, 0, 0, 0, 0, 0, 0, 0, 0, 0, 0, 0,\n",
              "        0, 0, 0, 0, 0, 0, 0, 0, 0, 0, 0, 0, 0, 0, 0, 0, 0, 0],\n",
              "       [1, 1, 1, 1, 1, 1, 0, 0, 0, 0, 0, 0, 0, 0, 0, 0, 0, 0, 0, 0, 0, 0,\n",
              "        0, 0, 0, 0, 0, 0, 0, 0, 0, 0, 0, 0, 0, 0, 0, 0, 0, 0, 0, 0, 0, 0,\n",
              "        0, 0, 0, 0, 0, 0, 0, 0, 0, 0, 0, 0, 0, 0, 0, 0, 0, 0, 0, 0, 0, 0,\n",
              "        0, 0, 0, 0, 0, 0, 0, 0, 0, 0, 0, 0, 0, 0, 0, 0, 0, 0, 0, 0, 0, 0,\n",
              "        0, 0, 0, 0, 0, 0, 0, 0, 0, 0, 0, 0, 0, 0, 0, 0, 0, 0, 0, 0, 0, 0,\n",
              "        0, 0, 0, 0, 0, 0, 0, 0, 0, 0, 0, 0, 0, 0, 0, 0, 0, 0]],\n",
              "      dtype=int32)>"
            ]
          },
          "metadata": {},
          "execution_count": 7
        }
      ]
    },
    {
      "cell_type": "code",
      "source": [
        "text_preprocessed['input_type_ids'] # our case it is 0's since we are not using them"
      ],
      "metadata": {
        "colab": {
          "base_uri": "https://localhost:8080/"
        },
        "id": "W6fLq1m1ZSHb",
        "outputId": "4b51d11d-e0ca-44ff-daec-f6312508694e"
      },
      "execution_count": 8,
      "outputs": [
        {
          "output_type": "execute_result",
          "data": {
            "text/plain": [
              "<tf.Tensor: shape=(2, 128), dtype=int32, numpy=\n",
              "array([[0, 0, 0, 0, 0, 0, 0, 0, 0, 0, 0, 0, 0, 0, 0, 0, 0, 0, 0, 0, 0, 0,\n",
              "        0, 0, 0, 0, 0, 0, 0, 0, 0, 0, 0, 0, 0, 0, 0, 0, 0, 0, 0, 0, 0, 0,\n",
              "        0, 0, 0, 0, 0, 0, 0, 0, 0, 0, 0, 0, 0, 0, 0, 0, 0, 0, 0, 0, 0, 0,\n",
              "        0, 0, 0, 0, 0, 0, 0, 0, 0, 0, 0, 0, 0, 0, 0, 0, 0, 0, 0, 0, 0, 0,\n",
              "        0, 0, 0, 0, 0, 0, 0, 0, 0, 0, 0, 0, 0, 0, 0, 0, 0, 0, 0, 0, 0, 0,\n",
              "        0, 0, 0, 0, 0, 0, 0, 0, 0, 0, 0, 0, 0, 0, 0, 0, 0, 0],\n",
              "       [0, 0, 0, 0, 0, 0, 0, 0, 0, 0, 0, 0, 0, 0, 0, 0, 0, 0, 0, 0, 0, 0,\n",
              "        0, 0, 0, 0, 0, 0, 0, 0, 0, 0, 0, 0, 0, 0, 0, 0, 0, 0, 0, 0, 0, 0,\n",
              "        0, 0, 0, 0, 0, 0, 0, 0, 0, 0, 0, 0, 0, 0, 0, 0, 0, 0, 0, 0, 0, 0,\n",
              "        0, 0, 0, 0, 0, 0, 0, 0, 0, 0, 0, 0, 0, 0, 0, 0, 0, 0, 0, 0, 0, 0,\n",
              "        0, 0, 0, 0, 0, 0, 0, 0, 0, 0, 0, 0, 0, 0, 0, 0, 0, 0, 0, 0, 0, 0,\n",
              "        0, 0, 0, 0, 0, 0, 0, 0, 0, 0, 0, 0, 0, 0, 0, 0, 0, 0]],\n",
              "      dtype=int32)>"
            ]
          },
          "metadata": {},
          "execution_count": 8
        }
      ]
    },
    {
      "cell_type": "code",
      "source": [
        "text_preprocessed['input_word_ids']\n",
        "# 'CLS nice movie indeed SEP' -- we have unique id's for each word"
      ],
      "metadata": {
        "colab": {
          "base_uri": "https://localhost:8080/"
        },
        "id": "yXlvG6o3ZSEu",
        "outputId": "a09eaf8b-fc36-4256-9e51-deee9a566e48"
      },
      "execution_count": 9,
      "outputs": [
        {
          "output_type": "execute_result",
          "data": {
            "text/plain": [
              "<tf.Tensor: shape=(2, 128), dtype=int32, numpy=\n",
              "array([[  101,  3835,  3185,  5262,   102,     0,     0,     0,     0,\n",
              "            0,     0,     0,     0,     0,     0,     0,     0,     0,\n",
              "            0,     0,     0,     0,     0,     0,     0,     0,     0,\n",
              "            0,     0,     0,     0,     0,     0,     0,     0,     0,\n",
              "            0,     0,     0,     0,     0,     0,     0,     0,     0,\n",
              "            0,     0,     0,     0,     0,     0,     0,     0,     0,\n",
              "            0,     0,     0,     0,     0,     0,     0,     0,     0,\n",
              "            0,     0,     0,     0,     0,     0,     0,     0,     0,\n",
              "            0,     0,     0,     0,     0,     0,     0,     0,     0,\n",
              "            0,     0,     0,     0,     0,     0,     0,     0,     0,\n",
              "            0,     0,     0,     0,     0,     0,     0,     0,     0,\n",
              "            0,     0,     0,     0,     0,     0,     0,     0,     0,\n",
              "            0,     0,     0,     0,     0,     0,     0,     0,     0,\n",
              "            0,     0,     0,     0,     0,     0,     0,     0,     0,\n",
              "            0,     0],\n",
              "       [  101,  1045,  2293, 18750,  4730,   102,     0,     0,     0,\n",
              "            0,     0,     0,     0,     0,     0,     0,     0,     0,\n",
              "            0,     0,     0,     0,     0,     0,     0,     0,     0,\n",
              "            0,     0,     0,     0,     0,     0,     0,     0,     0,\n",
              "            0,     0,     0,     0,     0,     0,     0,     0,     0,\n",
              "            0,     0,     0,     0,     0,     0,     0,     0,     0,\n",
              "            0,     0,     0,     0,     0,     0,     0,     0,     0,\n",
              "            0,     0,     0,     0,     0,     0,     0,     0,     0,\n",
              "            0,     0,     0,     0,     0,     0,     0,     0,     0,\n",
              "            0,     0,     0,     0,     0,     0,     0,     0,     0,\n",
              "            0,     0,     0,     0,     0,     0,     0,     0,     0,\n",
              "            0,     0,     0,     0,     0,     0,     0,     0,     0,\n",
              "            0,     0,     0,     0,     0,     0,     0,     0,     0,\n",
              "            0,     0,     0,     0,     0,     0,     0,     0,     0,\n",
              "            0,     0]], dtype=int32)>"
            ]
          },
          "metadata": {},
          "execution_count": 9
        }
      ]
    },
    {
      "cell_type": "code",
      "source": [
        "# after the preprocessing we have to create another layer for encoded url\n",
        "bert_model = hub.KerasLayer(encoder_url)\n",
        "# here the bert model acts like a function which we can call"
      ],
      "metadata": {
        "id": "lqrpZ6BUZSCQ"
      },
      "execution_count": 11,
      "outputs": []
    },
    {
      "cell_type": "code",
      "source": [
        "bert_results = bert_model(text_preprocessed) ## it will have the word embeddings"
      ],
      "metadata": {
        "id": "nMbKP67KZR_g"
      },
      "execution_count": 12,
      "outputs": []
    },
    {
      "cell_type": "code",
      "source": [
        "bert_results.keys()"
      ],
      "metadata": {
        "colab": {
          "base_uri": "https://localhost:8080/"
        },
        "id": "1Iwzqc4wZR8z",
        "outputId": "e9fcc676-dd85-464b-9865-143cabf50033"
      },
      "execution_count": 13,
      "outputs": [
        {
          "output_type": "execute_result",
          "data": {
            "text/plain": [
              "dict_keys(['default', 'sequence_output', 'pooled_output', 'encoder_outputs'])"
            ]
          },
          "metadata": {},
          "execution_count": 13
        }
      ]
    },
    {
      "cell_type": "code",
      "source": [
        "bert_results['pooled_output'] # it is the embedding for entire sentence"
      ],
      "metadata": {
        "colab": {
          "base_uri": "https://localhost:8080/"
        },
        "id": "IjCmGG0FZR3Z",
        "outputId": "40ec3bc1-1ebc-4b85-eb25-cd472c87b315"
      },
      "execution_count": 15,
      "outputs": [
        {
          "output_type": "execute_result",
          "data": {
            "text/plain": [
              "<tf.Tensor: shape=(2, 768), dtype=float32, numpy=\n",
              "array([[-0.7917742 , -0.21411917,  0.49769565, ...,  0.24465217,\n",
              "        -0.47334474,  0.8175871 ],\n",
              "       [-0.9171231 , -0.4793516 , -0.7865695 , ..., -0.6175173 ,\n",
              "        -0.7102685 ,  0.92184305]], dtype=float32)>"
            ]
          },
          "metadata": {},
          "execution_count": 15
        }
      ]
    },
    {
      "cell_type": "code",
      "source": [
        "bert_results['sequence_output'] ## It will have the embeddings for each word"
      ],
      "metadata": {
        "colab": {
          "base_uri": "https://localhost:8080/"
        },
        "id": "gsgQtvO8ZR6I",
        "outputId": "f634b667-d92c-413b-eea3-a87b7968cf23"
      },
      "execution_count": 17,
      "outputs": [
        {
          "output_type": "execute_result",
          "data": {
            "text/plain": [
              "<tf.Tensor: shape=(2, 128, 768), dtype=float32, numpy=\n",
              "array([[[ 0.07292052,  0.0856782 ,  0.14476837, ..., -0.09677092,\n",
              "          0.08722129,  0.07711072],\n",
              "        [ 0.1783944 , -0.19006099,  0.5034946 , ..., -0.05869839,\n",
              "          0.32717127, -0.15578558],\n",
              "        [ 0.18701541, -0.43388733, -0.48875114, ..., -0.15502825,\n",
              "          0.00145149, -0.24470972],\n",
              "        ...,\n",
              "        [ 0.1208304 ,  0.12884238,  0.4645356 , ...,  0.07375551,\n",
              "          0.17441969,  0.16522141],\n",
              "        [ 0.07967842, -0.01190668,  0.5022541 , ...,  0.13777801,\n",
              "          0.210022  ,  0.00624551],\n",
              "        [-0.0721268 , -0.28303453,  0.5903342 , ...,  0.47551954,\n",
              "          0.16668472, -0.08920333]],\n",
              "\n",
              "       [[-0.07900575,  0.3633509 , -0.21101615, ..., -0.17183736,\n",
              "          0.16299713,  0.6724265 ],\n",
              "        [ 0.27883476,  0.43716246, -0.35764748, ..., -0.04463608,\n",
              "          0.38315183,  0.58879906],\n",
              "        [ 1.2037674 ,  1.0727015 ,  0.484087  , ...,  0.2492104 ,\n",
              "          0.40730947,  0.4048182 ],\n",
              "        ...,\n",
              "        [ 0.08630025,  0.19353844,  0.4754006 , ...,  0.18880175,\n",
              "         -0.0647411 ,  0.31318587],\n",
              "        [ 0.15887071,  0.2857264 ,  0.37340823, ...,  0.09309176,\n",
              "         -0.04969561,  0.38761103],\n",
              "        [-0.08079843, -0.09572848,  0.26809815, ...,  0.13979629,\n",
              "         -0.06315865,  0.27288327]]], dtype=float32)>"
            ]
          },
          "metadata": {},
          "execution_count": 17
        }
      ]
    },
    {
      "cell_type": "code",
      "source": [
        "len(bert_results['encoder_outputs'])"
      ],
      "metadata": {
        "colab": {
          "base_uri": "https://localhost:8080/"
        },
        "id": "XJoveQrXZR1K",
        "outputId": "d93792a5-e8cc-4e40-aa78-10aec2b68ce1"
      },
      "execution_count": 16,
      "outputs": [
        {
          "output_type": "execute_result",
          "data": {
            "text/plain": [
              "12"
            ]
          },
          "metadata": {},
          "execution_count": 16
        }
      ]
    },
    {
      "cell_type": "markdown",
      "source": [
        "Since we are using BERT base model it has 12 encoder layers, that's why above the length of encoder_output is 12. Read more about purpose of each element here: https://tfhub.dev/tensorflow/bert_en_uncased_L-12_H-768_A-12/4"
      ],
      "metadata": {
        "id": "_JkhqhtVhNvp"
      }
    },
    {
      "cell_type": "code",
      "source": [
        "bert_results['encoder_outputs'][-1] == bert_results['sequence_output']"
      ],
      "metadata": {
        "colab": {
          "base_uri": "https://localhost:8080/"
        },
        "id": "4cwotc9cZRyz",
        "outputId": "5c892096-4f03-41bd-af22-c127223e7ad0"
      },
      "execution_count": 18,
      "outputs": [
        {
          "output_type": "execute_result",
          "data": {
            "text/plain": [
              "<tf.Tensor: shape=(2, 128, 768), dtype=bool, numpy=\n",
              "array([[[ True,  True,  True, ...,  True,  True,  True],\n",
              "        [ True,  True,  True, ...,  True,  True,  True],\n",
              "        [ True,  True,  True, ...,  True,  True,  True],\n",
              "        ...,\n",
              "        [ True,  True,  True, ...,  True,  True,  True],\n",
              "        [ True,  True,  True, ...,  True,  True,  True],\n",
              "        [ True,  True,  True, ...,  True,  True,  True]],\n",
              "\n",
              "       [[ True,  True,  True, ...,  True,  True,  True],\n",
              "        [ True,  True,  True, ...,  True,  True,  True],\n",
              "        [ True,  True,  True, ...,  True,  True,  True],\n",
              "        ...,\n",
              "        [ True,  True,  True, ...,  True,  True,  True],\n",
              "        [ True,  True,  True, ...,  True,  True,  True],\n",
              "        [ True,  True,  True, ...,  True,  True,  True]]])>"
            ]
          },
          "metadata": {},
          "execution_count": 18
        }
      ]
    },
    {
      "cell_type": "code",
      "source": [
        "bert_results['encoder_outputs']"
      ],
      "metadata": {
        "colab": {
          "base_uri": "https://localhost:8080/"
        },
        "id": "TJW8WSXeZRv5",
        "outputId": "297c135b-ce6e-413e-b0da-d8670eb112e4"
      },
      "execution_count": 19,
      "outputs": [
        {
          "output_type": "execute_result",
          "data": {
            "text/plain": [
              "[<tf.Tensor: shape=(2, 128, 768), dtype=float32, numpy=\n",
              " array([[[ 0.1290142 ,  0.00644748, -0.03614981, ...,  0.04999622,\n",
              "           0.0614919 , -0.02657544],\n",
              "         [ 1.1753383 ,  1.2140787 ,  1.1569978 , ...,  0.11634371,\n",
              "          -0.35855392, -0.4049018 ],\n",
              "         [ 0.03859041,  0.53870016, -0.2108976 , ...,  0.21858224,\n",
              "           0.7260168 , -1.1158608 ],\n",
              "         ...,\n",
              "         [-0.0758702 , -0.25421935,  0.70755106, ...,  0.50541997,\n",
              "          -0.18878675,  0.1502836 ],\n",
              "         [-0.16066593, -0.2808966 ,  0.5759706 , ...,  0.5275857 ,\n",
              "          -0.11141382,  0.02887538],\n",
              "         [-0.04428159, -0.20279583,  0.5909351 , ...,  0.81338346,\n",
              "          -0.3907584 , -0.02601748]],\n",
              " \n",
              "        [[ 0.18903565,  0.02752538, -0.06513739, ..., -0.00620211,\n",
              "           0.15053883,  0.03165444],\n",
              "         [ 0.5916148 ,  0.75891393, -0.07240677, ...,  0.6190399 ,\n",
              "           0.8292891 ,  0.16161975],\n",
              "         [ 1.446083  ,  0.4460266 ,  0.40990236, ...,  0.48255914,\n",
              "           0.62691176,  0.13463376],\n",
              "         ...,\n",
              "         [ 0.15147905, -0.21573839,  0.70329076, ..., -0.12537248,\n",
              "          -0.13787264,  0.27722073],\n",
              "         [ 0.05143796, -0.24052681,  0.53569144, ..., -0.07915042,\n",
              "          -0.0330793 ,  0.17380947],\n",
              "         [ 0.20934714, -0.15645249,  0.60395473, ...,  0.32903528,\n",
              "          -0.3582716 ,  0.08100437]]], dtype=float32)>,\n",
              " <tf.Tensor: shape=(2, 128, 768), dtype=float32, numpy=\n",
              " array([[[ 0.01418152, -0.22088252, -0.15028164, ...,  0.11415626,\n",
              "           0.12618086,  0.04843371],\n",
              "         [ 1.2033906 ,  1.3469867 ,  1.7064531 , ...,  0.30610526,\n",
              "          -0.50742596, -0.5514743 ],\n",
              "         [ 0.42169124,  0.81102455, -0.25631553, ..., -0.07722498,\n",
              "           0.8937239 , -1.4472063 ],\n",
              "         ...,\n",
              "         [-0.19047463, -0.23860914,  0.81412077, ...,  0.9749361 ,\n",
              "          -0.34774217, -0.08733555],\n",
              "         [-0.27151003, -0.31985033,  0.76593894, ...,  0.9676169 ,\n",
              "          -0.29511923, -0.15731817],\n",
              "         [-0.21302763, -0.19229704,  0.7338774 , ...,  1.1040437 ,\n",
              "          -0.4510291 , -0.20683081]],\n",
              " \n",
              "        [[ 0.08973324, -0.18419719, -0.16645057, ...,  0.02761353,\n",
              "           0.11187711,  0.08041712],\n",
              "         [ 0.5831136 ,  0.59570307,  0.36019558, ...,  0.41270134,\n",
              "           0.2680925 ,  0.28400576],\n",
              "         [ 2.116668  ,  0.5176939 ,  0.86377454, ...,  0.7178736 ,\n",
              "           0.32405105,  0.09739943],\n",
              "         ...,\n",
              "         [ 0.24372916, -0.05775554,  0.6842879 , ...,  0.43483603,\n",
              "          -0.5766099 , -0.11131051],\n",
              "         [ 0.16803858, -0.0309184 ,  0.5863845 , ...,  0.4962585 ,\n",
              "          -0.50567937, -0.20782192],\n",
              "         [ 0.24831752,  0.0031543 ,  0.5159252 , ...,  0.80502445,\n",
              "          -0.6989963 , -0.24186414]]], dtype=float32)>,\n",
              " <tf.Tensor: shape=(2, 128, 768), dtype=float32, numpy=\n",
              " array([[[ 0.02275418, -0.2798025 ,  0.02345718, ...,  0.27867043,\n",
              "           0.11714803,  0.18175083],\n",
              "         [ 1.2574844 ,  0.87250817,  1.6266013 , ...,  0.45210916,\n",
              "          -0.80902576, -0.5448978 ],\n",
              "         [ 0.7521983 ,  0.6357366 , -0.20566173, ..., -0.32381812,\n",
              "           0.7574952 , -1.4587922 ],\n",
              "         ...,\n",
              "         [-0.15107419, -0.21129128,  0.96894646, ...,  1.1261971 ,\n",
              "          -0.03214054, -0.22340262],\n",
              "         [-0.2812564 , -0.31140125,  0.84328914, ...,  1.1342672 ,\n",
              "          -0.08336613, -0.2516129 ],\n",
              "         [-0.24449056, -0.2153788 ,  0.948098  , ...,  1.2419419 ,\n",
              "          -0.19873504, -0.33752573]],\n",
              " \n",
              "        [[ 0.10617058, -0.27990755, -0.01731775, ...,  0.20060414,\n",
              "           0.08148387,  0.21859072],\n",
              "         [ 0.6892589 ,  0.31591487,  0.5558665 , ...,  0.6903949 ,\n",
              "          -0.07141544,  0.414072  ],\n",
              "         [ 2.5758886 ,  0.62520885,  1.2503712 , ...,  0.43957782,\n",
              "          -0.1852562 , -0.05004866],\n",
              "         ...,\n",
              "         [ 0.2046436 , -0.01561976,  0.8343141 , ...,  0.80149585,\n",
              "          -0.12853874, -0.35842   ],\n",
              "         [-0.02875623,  0.05097821,  0.6815926 , ...,  0.9003151 ,\n",
              "          -0.12434852, -0.42256367],\n",
              "         [ 0.13327733,  0.02257285,  0.7722175 , ...,  1.0211191 ,\n",
              "          -0.30834702, -0.45623177]]], dtype=float32)>,\n",
              " <tf.Tensor: shape=(2, 128, 768), dtype=float32, numpy=\n",
              " array([[[ 0.11484907, -0.64441127, -0.14245169, ...,  0.25474182,\n",
              "           0.00378413,  0.6110508 ],\n",
              "         [ 1.3035427 ,  0.770605  ,  1.3184998 , ...,  0.35822493,\n",
              "          -0.6412161 , -0.32795367],\n",
              "         [ 1.1896734 ,  0.6279445 , -0.6750168 , ..., -0.28870666,\n",
              "           0.477919  , -1.2805998 ],\n",
              "         ...,\n",
              "         [-0.22614768, -0.62763023,  1.0227486 , ...,  0.8292318 ,\n",
              "          -0.403147  ,  0.04389284],\n",
              "         [-0.3990149 , -0.75619125,  0.74893856, ...,  0.74922603,\n",
              "          -0.4507772 , -0.00367978],\n",
              "         [-0.37728778, -0.7831041 ,  0.9057244 , ...,  0.97362286,\n",
              "          -0.48285788, -0.07389817]],\n",
              " \n",
              "        [[ 0.15151404, -0.7075226 , -0.27520442, ...,  0.4434589 ,\n",
              "          -0.20920393,  0.49860168],\n",
              "         [ 0.8864795 , -0.24838175,  0.735375  , ...,  0.74179363,\n",
              "          -0.13177165,  0.10158505],\n",
              "         [ 2.5865812 ,  0.61882806,  0.5279881 , ...,  0.8487312 ,\n",
              "          -0.59150195,  0.02349875],\n",
              "         ...,\n",
              "         [-0.05526862, -0.4339466 ,  1.1783329 , ...,  0.917917  ,\n",
              "          -0.45718175, -0.25014585],\n",
              "         [-0.29328626, -0.23091237,  0.9938013 , ...,  1.0353796 ,\n",
              "          -0.42435688, -0.3494762 ],\n",
              "         [-0.15899062, -0.5009819 ,  0.9814221 , ...,  1.137308  ,\n",
              "          -0.6188837 , -0.4445775 ]]], dtype=float32)>,\n",
              " <tf.Tensor: shape=(2, 128, 768), dtype=float32, numpy=\n",
              " array([[[-0.22174777, -0.42225325, -0.04924051, ..., -0.26284257,\n",
              "           0.06099953,  0.6379483 ],\n",
              "         [ 1.1627897 ,  0.67705405,  1.3072386 , ...,  0.2279461 ,\n",
              "          -0.5432948 , -0.27383298],\n",
              "         [ 1.5308233 ,  0.72225535, -0.4360875 , ...,  0.27435836,\n",
              "           0.24980229, -0.9875373 ],\n",
              "         ...,\n",
              "         [-0.1766977 , -0.31260553,  1.0875316 , ...,  0.59242195,\n",
              "           0.01275331, -0.28171825],\n",
              "         [-0.3447379 , -0.42430106,  0.87980294, ...,  0.5482614 ,\n",
              "          -0.08151899, -0.34001473],\n",
              "         [-0.48139912, -0.31324285,  1.1702337 , ...,  0.87309915,\n",
              "          -0.07970198, -0.4532554 ]],\n",
              " \n",
              "        [[-0.21608153, -0.8986419 , -0.44991556, ..., -0.08286197,\n",
              "          -0.1722686 ,  0.6619982 ],\n",
              "         [ 0.66614527, -0.5491696 ,  0.46460536, ...,  0.17649284,\n",
              "           0.22822566,  0.3496224 ],\n",
              "         [ 2.0629623 ,  0.6991976 ,  0.35604447, ...,  0.5295336 ,\n",
              "          -0.34809354,  0.00831356],\n",
              "         ...,\n",
              "         [-0.11594035, -0.171493  ,  0.89943963, ...,  0.6299017 ,\n",
              "          -0.33990216, -0.20049179],\n",
              "         [-0.13007504, -0.02739102,  0.7079977 , ...,  0.80594665,\n",
              "          -0.30724132, -0.19956371],\n",
              "         [-0.26314858, -0.26137123,  0.6338571 , ...,  0.81501836,\n",
              "          -0.45400336, -0.3512067 ]]], dtype=float32)>,\n",
              " <tf.Tensor: shape=(2, 128, 768), dtype=float32, numpy=\n",
              " array([[[-0.03392677, -0.39431447,  0.04223702, ..., -0.07905626,\n",
              "           0.0199388 ,  0.76920635],\n",
              "         [ 1.4294361 , -0.08699068,  1.5299487 , ...,  0.22512141,\n",
              "          -1.0060072 , -0.23702286],\n",
              "         [ 1.5031743 ,  0.6725796 , -0.5259035 , ...,  0.10907015,\n",
              "           0.270424  , -1.2567496 ],\n",
              "         ...,\n",
              "         [-0.3003357 , -0.02261895,  1.31874   , ...,  0.6928876 ,\n",
              "          -0.09798412, -0.17419586],\n",
              "         [-0.43754178, -0.21149254,  1.1094579 , ...,  0.50066   ,\n",
              "          -0.17692353, -0.18529159],\n",
              "         [-0.65920514, -0.19607873,  1.3134062 , ...,  0.7320079 ,\n",
              "          -0.19967392, -0.324692  ]],\n",
              " \n",
              "        [[-0.27334678, -0.9526848 , -0.7869666 , ..., -0.12205309,\n",
              "          -0.08783783,  0.7581165 ],\n",
              "         [ 0.46756977, -0.16237566, -0.01155947, ...,  0.18781205,\n",
              "           0.6216479 ,  0.0300994 ],\n",
              "         [ 1.7947402 ,  0.90510666,  0.08580913, ...,  0.7709359 ,\n",
              "          -0.66827893, -0.06755506],\n",
              "         ...,\n",
              "         [-0.18337496, -0.15806642,  1.1826942 , ...,  0.8304751 ,\n",
              "          -0.39406464, -0.23047692],\n",
              "         [-0.22270145,  0.00975951,  0.9340845 , ...,  1.1286678 ,\n",
              "          -0.34884354, -0.19491479],\n",
              "         [-0.3038612 , -0.29683164,  0.82471687, ...,  1.0090811 ,\n",
              "          -0.46407658, -0.31465575]]], dtype=float32)>,\n",
              " <tf.Tensor: shape=(2, 128, 768), dtype=float32, numpy=\n",
              " array([[[-0.23803446, -0.6655407 ,  0.29917175, ...,  0.03415192,\n",
              "           0.29362828,  0.9653629 ],\n",
              "         [ 1.5040756 ,  0.00695066,  1.4314137 , ...,  0.24628775,\n",
              "          -0.5521957 , -0.32215503],\n",
              "         [ 1.3629035 ,  0.47741842, -0.6153002 , ...,  0.08587083,\n",
              "           0.4392255 , -1.559415  ],\n",
              "         ...,\n",
              "         [-0.16864023,  0.0020972 ,  1.3201758 , ...,  0.94280356,\n",
              "          -0.04737285,  0.21490484],\n",
              "         [-0.2666645 , -0.24881275,  1.2213268 , ...,  0.6352798 ,\n",
              "          -0.04442455,  0.04466207],\n",
              "         [-0.5336617 , -0.35796055,  1.3447866 , ...,  0.60384464,\n",
              "          -0.08427224, -0.15712115]],\n",
              " \n",
              "        [[-0.05967485, -0.8448215 , -0.8939024 , ..., -0.10863887,\n",
              "           0.40932384,  0.79408586],\n",
              "         [ 0.54405075, -0.3196301 , -0.45491594, ...,  0.4806863 ,\n",
              "           0.7786268 ,  0.22774337],\n",
              "         [ 1.4479874 ,  1.1230607 ,  0.0956796 , ...,  1.3554293 ,\n",
              "           0.06143538, -0.00836905],\n",
              "         ...,\n",
              "         [ 0.25652254, -0.14106627,  1.1854341 , ...,  0.9568367 ,\n",
              "          -0.21603978, -0.06946331],\n",
              "         [ 0.25819165,  0.07949135,  0.9851649 , ...,  1.0518228 ,\n",
              "          -0.07890907, -0.12841548],\n",
              "         [-0.05268887, -0.33431384,  0.96373457, ...,  0.89606994,\n",
              "          -0.10082402, -0.28129593]]], dtype=float32)>,\n",
              " <tf.Tensor: shape=(2, 128, 768), dtype=float32, numpy=\n",
              " array([[[-7.0826903e-02, -2.5689861e-01, -3.5962470e-02, ...,\n",
              "          -3.5881218e-01,  1.3524812e-01,  1.0136113e+00],\n",
              "         [ 9.7471917e-01, -1.9712895e-01,  1.4318078e+00, ...,\n",
              "          -1.4052089e-01, -5.0431155e-02, -2.7141668e-02],\n",
              "         [ 1.1273402e+00,  2.7122891e-01, -2.8622988e-01, ...,\n",
              "           9.3386069e-02,  2.9908347e-01, -1.3764442e+00],\n",
              "         ...,\n",
              "         [-9.5786974e-02,  2.9180843e-01,  1.5879145e+00, ...,\n",
              "           8.5004234e-01, -5.1284790e-02,  2.0340154e-01],\n",
              "         [-2.2268897e-01, -8.3896071e-02,  1.7256008e+00, ...,\n",
              "           6.1222196e-01,  1.0976577e-01,  7.0046395e-02],\n",
              "         [-5.7830077e-01, -3.5915685e-01,  1.6035956e+00, ...,\n",
              "           3.4189886e-01,  5.2880175e-02, -1.5400928e-01]],\n",
              " \n",
              "        [[ 6.1017409e-02, -3.5161608e-01, -8.4891462e-01, ...,\n",
              "          -4.8554954e-01,  4.2703113e-01,  6.3828963e-01],\n",
              "         [ 6.6376495e-01,  1.8228684e-04, -7.9078948e-01, ...,\n",
              "           3.0686978e-01,  7.5843775e-01,  7.3240167e-01],\n",
              "         [ 1.4494711e+00,  1.1265033e+00,  1.7709200e-01, ...,\n",
              "           2.3471582e-01,  3.4929478e-01,  4.3709823e-01],\n",
              "         ...,\n",
              "         [ 3.2339498e-01,  1.7575808e-01,  8.7672299e-01, ...,\n",
              "           9.8904085e-01, -2.7050820e-01, -3.0809358e-01],\n",
              "         [ 4.0404320e-01,  5.1364917e-01,  7.2748113e-01, ...,\n",
              "           9.4942236e-01, -1.0215690e-02, -3.4644386e-01],\n",
              "         [-9.1297878e-03, -8.7016717e-02,  7.3031926e-01, ...,\n",
              "           8.5439759e-01, -1.3661215e-01, -4.7493523e-01]]], dtype=float32)>,\n",
              " <tf.Tensor: shape=(2, 128, 768), dtype=float32, numpy=\n",
              " array([[[-0.0940354 , -0.05987572, -0.01171719, ..., -0.22167507,\n",
              "          -0.07650076,  0.5765806 ],\n",
              "         [ 0.77480614,  0.15188213,  1.0920007 , ..., -0.195624  ,\n",
              "           0.15173256, -0.01071388],\n",
              "         [ 0.85191315,  0.25842795, -0.7703558 , ...,  0.03356649,\n",
              "           0.3401049 , -1.3918685 ],\n",
              "         ...,\n",
              "         [-0.19780353,  0.5281978 ,  0.9023521 , ...,  0.27919775,\n",
              "          -0.28764114,  0.75109434],\n",
              "         [-0.3506751 ,  0.09291936,  1.3383342 , ...,  0.22619729,\n",
              "          -0.03589014,  0.2734387 ],\n",
              "         [-0.9044509 , -0.20991173,  1.1977344 , ...,  0.35118604,\n",
              "          -0.21743801,  0.01482287]],\n",
              " \n",
              "        [[-0.07011121, -0.02392504, -0.6192435 , ..., -0.14541976,\n",
              "           0.34049368,  0.41224718],\n",
              "         [ 0.5926164 ,  0.19015887, -0.37399608, ...,  0.37239623,\n",
              "           0.3915292 ,  0.42580467],\n",
              "         [ 1.1394789 ,  0.8439853 ,  0.38893986, ...,  0.20898359,\n",
              "           0.25176352,  0.26400068],\n",
              "         ...,\n",
              "         [ 0.43305922,  0.42012185,  1.0965097 , ...,  1.187236  ,\n",
              "          -0.16672115,  0.00856255],\n",
              "         [ 0.57542396,  0.8660938 ,  1.1184686 , ...,  1.0475072 ,\n",
              "           0.0426426 , -0.01540457],\n",
              "         [-0.05487946, -0.07306907,  0.9012218 , ...,  0.8004535 ,\n",
              "          -0.16820626, -0.35507396]]], dtype=float32)>,\n",
              " <tf.Tensor: shape=(2, 128, 768), dtype=float32, numpy=\n",
              " array([[[-0.2267141 ,  0.03110877,  0.32186022, ..., -0.28090194,\n",
              "          -0.7505078 ,  0.44557896],\n",
              "         [ 0.77125555,  0.11217879,  0.66033196, ..., -0.09223857,\n",
              "           0.34821218, -0.36905056],\n",
              "         [ 0.51224077, -0.19928953, -0.8477505 , ..., -0.28812107,\n",
              "           0.22383782, -1.2124609 ],\n",
              "         ...,\n",
              "         [ 0.12500611,  0.66633993,  0.98522055, ..., -0.08709309,\n",
              "          -0.5805464 ,  0.6127246 ],\n",
              "         [ 0.01400216,  0.1047124 ,  1.2684816 , ..., -0.01833042,\n",
              "          -0.35933182,  0.15463156],\n",
              "         [-0.8093842 , -0.3606804 ,  1.3501269 , ...,  0.58936137,\n",
              "          -0.50932443, -0.09766911]],\n",
              " \n",
              "        [[-0.21534997, -0.2396226 , -0.30932373, ..., -0.2596489 ,\n",
              "           0.09695273,  0.41826612],\n",
              "         [ 0.5070067 , -0.015449  , -0.10519665, ...,  0.3867533 ,\n",
              "           0.2204117 , -0.10293194],\n",
              "         [ 1.0366069 ,  0.91713035,  0.2616423 , ...,  0.33182216,\n",
              "           0.4559708 ,  0.12697938],\n",
              "         ...,\n",
              "         [ 0.16190465,  0.76270115,  1.2737674 , ...,  0.57259905,\n",
              "          -0.05929523,  0.26224107],\n",
              "         [ 0.46124554,  1.1673869 ,  0.9594781 , ...,  0.46033135,\n",
              "           0.13521361,  0.45135966],\n",
              "         [-0.24184066,  0.17352793,  0.8415657 , ...,  0.24766788,\n",
              "          -0.14810194,  0.06557391]]], dtype=float32)>,\n",
              " <tf.Tensor: shape=(2, 128, 768), dtype=float32, numpy=\n",
              " array([[[-2.1952026e-02,  2.1303594e-01,  3.1135854e-01, ...,\n",
              "          -2.3917946e-01, -2.7870828e-01,  2.0408408e-01],\n",
              "         [ 8.3098429e-01,  1.9078091e-01,  7.1134603e-01, ...,\n",
              "          -3.0024460e-01,  3.1152493e-01, -2.5933981e-01],\n",
              "         [ 3.7308994e-01, -4.2212546e-01, -6.6690880e-01, ...,\n",
              "          -4.5297694e-01,  3.2045224e-01, -2.9988661e-01],\n",
              "         ...,\n",
              "         [ 3.3166391e-01,  7.1835792e-01,  8.9961135e-01, ...,\n",
              "          -3.4914485e-01, -2.9987031e-01,  5.2388942e-01],\n",
              "         [ 2.3853144e-01,  2.0484413e-01,  1.1306430e+00, ...,\n",
              "          -1.5112902e-01, -1.3781179e-01,  7.6998554e-02],\n",
              "         [-3.8412076e-01, -3.8158670e-01,  1.3397285e+00, ...,\n",
              "           5.7755548e-01, -1.5540086e-01, -2.9294530e-01]],\n",
              " \n",
              "        [[ 1.4363053e-01,  1.6980103e-01,  4.5120187e-02, ...,\n",
              "          -6.2167343e-02, -1.5753182e-02,  2.8786978e-01],\n",
              "         [ 5.8475989e-01,  2.6993200e-01, -2.8520641e-01, ...,\n",
              "           3.3893141e-01,  1.1777316e-01,  3.6986977e-02],\n",
              "         [ 1.2525797e+00,  1.2556435e+00,  3.8754436e-01, ...,\n",
              "           1.7275798e-01,  4.9666196e-01,  6.1378145e-01],\n",
              "         ...,\n",
              "         [ 1.9548576e-01,  4.4081923e-01,  1.0389376e+00, ...,\n",
              "           1.4527018e-01, -2.7743912e-01,  1.9032171e-01],\n",
              "         [ 4.4816533e-01,  7.6447612e-01,  6.9800639e-01, ...,\n",
              "          -8.3445758e-04, -7.9644412e-02,  4.9335808e-01],\n",
              "         [-2.3398095e-01, -2.0333663e-01,  3.4824836e-01, ...,\n",
              "          -6.4342029e-02, -3.2087564e-01,  2.2333706e-02]]], dtype=float32)>,\n",
              " <tf.Tensor: shape=(2, 128, 768), dtype=float32, numpy=\n",
              " array([[[ 0.07292052,  0.0856782 ,  0.14476837, ..., -0.09677092,\n",
              "           0.08722129,  0.07711072],\n",
              "         [ 0.1783944 , -0.19006099,  0.5034946 , ..., -0.05869839,\n",
              "           0.32717127, -0.15578558],\n",
              "         [ 0.18701541, -0.43388733, -0.48875114, ..., -0.15502825,\n",
              "           0.00145149, -0.24470972],\n",
              "         ...,\n",
              "         [ 0.1208304 ,  0.12884238,  0.4645356 , ...,  0.07375551,\n",
              "           0.17441969,  0.16522141],\n",
              "         [ 0.07967842, -0.01190668,  0.5022541 , ...,  0.13777801,\n",
              "           0.210022  ,  0.00624551],\n",
              "         [-0.0721268 , -0.28303453,  0.5903342 , ...,  0.47551954,\n",
              "           0.16668472, -0.08920333]],\n",
              " \n",
              "        [[-0.07900575,  0.3633509 , -0.21101615, ..., -0.17183736,\n",
              "           0.16299713,  0.6724265 ],\n",
              "         [ 0.27883476,  0.43716246, -0.35764748, ..., -0.04463608,\n",
              "           0.38315183,  0.58879906],\n",
              "         [ 1.2037674 ,  1.0727015 ,  0.484087  , ...,  0.2492104 ,\n",
              "           0.40730947,  0.4048182 ],\n",
              "         ...,\n",
              "         [ 0.08630025,  0.19353844,  0.4754006 , ...,  0.18880175,\n",
              "          -0.0647411 ,  0.31318587],\n",
              "         [ 0.15887071,  0.2857264 ,  0.37340823, ...,  0.09309176,\n",
              "          -0.04969561,  0.38761103],\n",
              "         [-0.08079843, -0.09572848,  0.26809815, ...,  0.13979629,\n",
              "          -0.06315865,  0.27288327]]], dtype=float32)>]"
            ]
          },
          "metadata": {},
          "execution_count": 19
        }
      ]
    }
  ]
}