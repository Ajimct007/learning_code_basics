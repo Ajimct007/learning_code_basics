{
 "cells": [
  {
   "cell_type": "code",
   "execution_count": 1,
   "id": "f627c340-a32d-4e44-9016-437ebc6a3278",
   "metadata": {},
   "outputs": [],
   "source": [
    "# Importing the libraries\n",
    "import numpy as np\n",
    "from tensorflow.keras.preprocessing.text import one_hot\n",
    "from tensorflow.keras.preprocessing.sequence import pad_sequences\n",
    "from tensorflow.keras.models import Sequential\n",
    "from tensorflow.keras.layers import Dense\n",
    "from tensorflow.keras.layers import Flatten\n",
    "from tensorflow.keras.layers import Embedding"
   ]
  },
  {
   "cell_type": "code",
   "execution_count": 2,
   "id": "4038907f-a253-494d-a657-efc9becb881c",
   "metadata": {},
   "outputs": [],
   "source": [
    "reviews = ['nice food',\n",
    "        'amazing restaurant',\n",
    "        'too good',\n",
    "        'just loved it!',\n",
    "        'will go again',\n",
    "        'horrible food',\n",
    "        'never go there',\n",
    "        'poor service',\n",
    "        'poor quality',\n",
    "        'needs improvement']\n",
    "\n",
    "sentiment = np.array([1,1,1,1,1,0,0,0,0,0]) # 1st 5 are positive reviews and remaining are negative reviews"
   ]
  },
  {
   "cell_type": "code",
   "execution_count": 3,
   "id": "76215892-3f79-49be-af8a-e2dd49f7d6a9",
   "metadata": {},
   "outputs": [
    {
     "data": {
      "text/plain": [
       "[27, 7]"
      ]
     },
     "execution_count": 3,
     "metadata": {},
     "output_type": "execute_result"
    }
   ],
   "source": [
    "# using the one-hot\n",
    "one_hot(\"amazing restaurant\",30) ## here we mentioned 30, which means it will assign numbers for words between 1 to 30"
   ]
  },
  {
   "cell_type": "code",
   "execution_count": 4,
   "id": "8d42172e-077f-4699-bc7c-8dcf2567a89e",
   "metadata": {},
   "outputs": [
    {
     "name": "stdout",
     "output_type": "stream",
     "text": [
      "[[8, 27], [27, 7], [26, 26], [3, 18, 24], [26, 18, 4], [3, 27], [11, 18, 6], [15, 18], [15, 10], [7, 15]]\n"
     ]
    }
   ],
   "source": [
    "# initialize the vocab size as 30\n",
    "vocab_size = 30\n",
    "#Convert all the reviews into One hot encode\n",
    "encoded_reviews = [one_hot(d, vocab_size) for d in reviews]\n",
    "print(encoded_reviews)"
   ]
  },
  {
   "cell_type": "code",
   "execution_count": 5,
   "id": "1b251605-76e5-4b1a-9497-2de831999e73",
   "metadata": {},
   "outputs": [
    {
     "name": "stdout",
     "output_type": "stream",
     "text": [
      "[[ 8 27  0]\n",
      " [27  7  0]\n",
      " [26 26  0]\n",
      " [ 3 18 24]\n",
      " [26 18  4]\n",
      " [ 3 27  0]\n",
      " [11 18  6]\n",
      " [15 18  0]\n",
      " [15 10  0]\n",
      " [ 7 15  0]]\n"
     ]
    }
   ],
   "source": [
    "# we need to take the maximum sentence size and we have to apply padding for remaining\n",
    "# let's say the max length we have is 3\n",
    "# then apply the padding\n",
    "max_length = 3\n",
    "padded_reviews = pad_sequences(encoded_reviews, maxlen=max_length, padding='post') # post means add '0' at the end\n",
    "print(padded_reviews)"
   ]
  },
  {
   "cell_type": "code",
   "execution_count": 6,
   "id": "3224ddfd-d61f-4473-bab0-f07caf7e014a",
   "metadata": {},
   "outputs": [],
   "source": [
    "# We have to setup the Embedded vector\n",
    "# Let's say we want that size to be 5\n",
    "embeded_vector_size = 4\n",
    "\n",
    "# Build the model\n",
    "model = Sequential()\n",
    "\n",
    "# Add the first layer -- embedding layer\n",
    "model.add(Embedding(vocab_size, embeded_vector_size, input_length=max_length,name=\"embedding\")) # we are providing the name \"embedding\" so that we \n",
    "# can use it later\n",
    "\n",
    "# Add the flatten layer\n",
    "model.add(Flatten())\n",
    "\n",
    "# Add the single neuron, with activation function of sigmoid\n",
    "model.add(Dense(1, activation='sigmoid'))"
   ]
  },
  {
   "cell_type": "code",
   "execution_count": 7,
   "id": "1446599b-8ede-4ef4-a363-a97602afeec6",
   "metadata": {},
   "outputs": [],
   "source": [
    "# Define X and Y\n",
    "X = padded_reviews\n",
    "y = sentiment"
   ]
  },
  {
   "cell_type": "code",
   "execution_count": 8,
   "id": "bdf29f20-39c6-4857-982d-fcdd781a95f4",
   "metadata": {},
   "outputs": [
    {
     "name": "stdout",
     "output_type": "stream",
     "text": [
      "Model: \"sequential\"\n",
      "_________________________________________________________________\n",
      " Layer (type)                Output Shape              Param #   \n",
      "=================================================================\n",
      " embedding (Embedding)       (None, 3, 4)              120       \n",
      "                                                                 \n",
      " flatten (Flatten)           (None, 12)                0         \n",
      "                                                                 \n",
      " dense (Dense)               (None, 1)                 13        \n",
      "                                                                 \n",
      "=================================================================\n",
      "Total params: 133 (532.00 Byte)\n",
      "Trainable params: 133 (532.00 Byte)\n",
      "Non-trainable params: 0 (0.00 Byte)\n",
      "_________________________________________________________________\n",
      "None\n"
     ]
    }
   ],
   "source": [
    "# Compile the model\n",
    "model.compile(optimizer='adam', loss='binary_crossentropy', metrics=['accuracy'])\n",
    "print(model.summary())"
   ]
  },
  {
   "cell_type": "code",
   "execution_count": 9,
   "id": "1caaa138-9057-451c-aa0d-15a750140646",
   "metadata": {},
   "outputs": [
    {
     "data": {
      "text/plain": [
       "<keras.src.callbacks.History at 0x1fcef644390>"
      ]
     },
     "execution_count": 9,
     "metadata": {},
     "output_type": "execute_result"
    }
   ],
   "source": [
    "# Train the model\n",
    "model.fit(X, y, epochs=50, verbose=0)"
   ]
  },
  {
   "cell_type": "code",
   "execution_count": 10,
   "id": "81ce2ba4-f1f4-4f36-8872-80d25b228ae9",
   "metadata": {},
   "outputs": [
    {
     "name": "stdout",
     "output_type": "stream",
     "text": [
      "1/1 [==============================] - 0s 277ms/step - loss: 0.6345 - accuracy: 0.9000\n"
     ]
    },
    {
     "data": {
      "text/plain": [
       "0.8999999761581421"
      ]
     },
     "execution_count": 10,
     "metadata": {},
     "output_type": "execute_result"
    }
   ],
   "source": [
    "# evaluate the model\n",
    "loss, accuracy = model.evaluate(X, y)\n",
    "accuracy"
   ]
  },
  {
   "cell_type": "code",
   "execution_count": 11,
   "id": "1c6c0746-0829-4cb9-b28f-43ca4978ff8c",
   "metadata": {},
   "outputs": [
    {
     "data": {
      "text/plain": [
       "30"
      ]
     },
     "execution_count": 11,
     "metadata": {},
     "output_type": "execute_result"
    }
   ],
   "source": [
    "# To get the parameters for the model\n",
    "weights = model.get_layer('embedding').get_weights()[0] # Here we are calling the name which we defined earlier\n",
    "len(weights)"
   ]
  },
  {
   "cell_type": "code",
   "execution_count": 13,
   "id": "d3527779-3de0-48d0-90c6-da4a45395aea",
   "metadata": {},
   "outputs": [
    {
     "data": {
      "text/plain": [
       "array([ 0.06378459,  0.02079196,  0.04959892, -0.05616137], dtype=float32)"
      ]
     },
     "execution_count": 13,
     "metadata": {},
     "output_type": "execute_result"
    }
   ],
   "source": [
    "# for checking the weights and embedding\n",
    "weights[8] # Checking for the word nice base on the one hot encoding"
   ]
  },
  {
   "cell_type": "code",
   "execution_count": 14,
   "id": "2a60cd5d-ce2e-4d39-a824-8184c6c23106",
   "metadata": {},
   "outputs": [
    {
     "data": {
      "text/plain": [
       "array([ 0.07370112,  0.09616487,  0.00139125, -0.09563156], dtype=float32)"
      ]
     },
     "execution_count": 14,
     "metadata": {},
     "output_type": "execute_result"
    }
   ],
   "source": [
    "weights[27]"
   ]
  }
 ],
 "metadata": {
  "kernelspec": {
   "display_name": "Python 3 (ipykernel)",
   "language": "python",
   "name": "python3"
  },
  "language_info": {
   "codemirror_mode": {
    "name": "ipython",
    "version": 3
   },
   "file_extension": ".py",
   "mimetype": "text/x-python",
   "name": "python",
   "nbconvert_exporter": "python",
   "pygments_lexer": "ipython3",
   "version": "3.11.4"
  }
 },
 "nbformat": 4,
 "nbformat_minor": 5
}
