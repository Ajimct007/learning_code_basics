{
 "cells": [
  {
   "cell_type": "code",
   "execution_count": 1,
   "id": "7cf9c726-0f78-4fd7-a194-0249b658f020",
   "metadata": {},
   "outputs": [],
   "source": [
    "import tensorflow as tf"
   ]
  },
  {
   "cell_type": "code",
   "execution_count": 2,
   "id": "f28d7517-4b81-49b8-b3b5-bd7ee0d2123e",
   "metadata": {},
   "outputs": [
    {
     "data": {
      "text/plain": [
       "<_TensorSliceDataset element_spec=TensorSpec(shape=(), dtype=tf.int32, name=None)>"
      ]
     },
     "execution_count": 2,
     "metadata": {},
     "output_type": "execute_result"
    }
   ],
   "source": [
    "# Create a simple dataset from list\n",
    "daily_sales_numbers = [21, 22, -108, 31, -1, 32, 34,31]\n",
    "\n",
    "tf_dataset = tf.data.Dataset.from_tensor_slices(daily_sales_numbers) # Building the tf_dataset from a list\n",
    "tf_dataset"
   ]
  },
  {
   "cell_type": "code",
   "execution_count": 3,
   "id": "2bd4ab7d-9663-4cf6-b852-1e0c6a70334e",
   "metadata": {},
   "outputs": [
    {
     "name": "stdout",
     "output_type": "stream",
     "text": [
      "21\n",
      "22\n",
      "-108\n",
      "31\n",
      "-1\n",
      "32\n",
      "34\n",
      "31\n"
     ]
    }
   ],
   "source": [
    "# For knowing the content in the dataset, we can Iterate through it\n",
    "for sales in tf_dataset:\n",
    "    print(sales.numpy())"
   ]
  },
  {
   "cell_type": "code",
   "execution_count": 4,
   "id": "f0939da3-ae19-4eb2-8141-1746536faea1",
   "metadata": {},
   "outputs": [
    {
     "name": "stdout",
     "output_type": "stream",
     "text": [
      "21\n",
      "22\n",
      "-108\n"
     ]
    }
   ],
   "source": [
    "#Iterate through first n elements in tf dataset\n",
    "for sales in tf_dataset.take(3):\n",
    "    print(sales.numpy())"
   ]
  },
  {
   "cell_type": "code",
   "execution_count": 5,
   "id": "281d20c3-6d23-40a8-b078-b2707562e827",
   "metadata": {},
   "outputs": [
    {
     "name": "stdout",
     "output_type": "stream",
     "text": [
      "21\n",
      "22\n",
      "31\n",
      "32\n",
      "34\n",
      "31\n"
     ]
    }
   ],
   "source": [
    "# Filter sales numbers that are < 0\n",
    "tf_dataset = tf_dataset.filter(lambda x: x>0)\n",
    "for sales in tf_dataset.as_numpy_iterator():\n",
    "    print(sales)"
   ]
  },
  {
   "cell_type": "code",
   "execution_count": 6,
   "id": "a6ecc237-2fd6-4fc5-891a-cea1f9795bbd",
   "metadata": {},
   "outputs": [
    {
     "name": "stdout",
     "output_type": "stream",
     "text": [
      "1512\n",
      "1584\n",
      "2232\n",
      "2304\n",
      "2448\n",
      "2232\n"
     ]
    }
   ],
   "source": [
    "# Convert sales numbers from USA dollars ($) to Indian Rupees (INR) Assuming 1->72 conversation rate\n",
    "tf_dataset = tf_dataset.map(lambda x: x*72) # map function takes individual element and iterate through it\n",
    "for sales in tf_dataset.as_numpy_iterator():\n",
    "    print(sales)"
   ]
  },
  {
   "cell_type": "code",
   "execution_count": 7,
   "id": "eef19e0d-72a8-411a-830e-b9e4d63610c1",
   "metadata": {},
   "outputs": [
    {
     "name": "stdout",
     "output_type": "stream",
     "text": [
      "1512\n",
      "2232\n",
      "1584\n",
      "2304\n",
      "2448\n",
      "2232\n"
     ]
    }
   ],
   "source": [
    "# Shuffe\n",
    "tf_dataset = tf_dataset.shuffle(2)\n",
    "for sales in tf_dataset.as_numpy_iterator():\n",
    "    print(sales)"
   ]
  },
  {
   "cell_type": "code",
   "execution_count": 8,
   "id": "e3c9b4ce-c5c7-406a-842e-5b2f6401effa",
   "metadata": {},
   "outputs": [
    {
     "name": "stdout",
     "output_type": "stream",
     "text": [
      "[1584 1512]\n",
      "[2304 2232]\n",
      "[2448 2232]\n"
     ]
    }
   ],
   "source": [
    "# Batching\n",
    "for sales_batch in tf_dataset.batch(2):\n",
    "    print(sales_batch.numpy())"
   ]
  },
  {
   "cell_type": "code",
   "execution_count": 9,
   "id": "96adb431-8fc3-4a72-9d9c-4b4ab74f4a1e",
   "metadata": {},
   "outputs": [
    {
     "name": "stdout",
     "output_type": "stream",
     "text": [
      "[1584 1512]\n",
      "[2304 2232]\n",
      "[2448 2232]\n"
     ]
    }
   ],
   "source": [
    "# Perform all of the above operations in one shot\n",
    "tf_dataset = tf.data.Dataset.from_tensor_slices(daily_sales_numbers)\n",
    "\n",
    "tf_dataset = tf_dataset.filter(lambda x: x>0).map(lambda y: y*72).shuffle(2).batch(2)\n",
    "for sales in tf_dataset.as_numpy_iterator():\n",
    "    print(sales)"
   ]
  },
  {
   "cell_type": "code",
   "execution_count": 10,
   "id": "a1df1391-9341-402c-bff0-e6acc040edc8",
   "metadata": {},
   "outputs": [
    {
     "name": "stdout",
     "output_type": "stream",
     "text": [
      "b'D:\\\\Data Science\\\\Code basics\\\\py-master\\\\deep-learning-keras-tf-tutorial-master\\\\44_tf_data_pipeline\\\\images\\\\cat\\\\20 Reasons Why Cats Make the Best Pets....jpg'\n",
      "b'D:\\\\Data Science\\\\Code basics\\\\py-master\\\\deep-learning-keras-tf-tutorial-master\\\\44_tf_data_pipeline\\\\images\\\\cat\\\\7 Foods Your Cat Can_t Eat.jpg'\n",
      "b'D:\\\\Data Science\\\\Code basics\\\\py-master\\\\deep-learning-keras-tf-tutorial-master\\\\44_tf_data_pipeline\\\\images\\\\cat\\\\A cat appears to have caught the....jpg'\n"
     ]
    }
   ],
   "source": [
    "# Load Images\n",
    "images_ds = tf.data.Dataset.list_files('D:/Data Science/Code basics/py-master/deep-learning-keras-tf-tutorial-master/44_tf_data_pipeline/images/*/*', \n",
    "                                       shuffle=False)\n",
    "# Printing the 1st 3 file path\n",
    "for file in images_ds.take(3):\n",
    "    print(file.numpy())"
   ]
  },
  {
   "cell_type": "code",
   "execution_count": 13,
   "id": "439d763c-f4e5-4267-a1d3-718260d48ae1",
   "metadata": {},
   "outputs": [
    {
     "name": "stdout",
     "output_type": "stream",
     "text": [
      "b'D:\\\\Data Science\\\\Code basics\\\\py-master\\\\deep-learning-keras-tf-tutorial-master\\\\44_tf_data_pipeline\\\\images\\\\cat\\\\International Cat Care _ The ultimate....jpg'\n",
      "b'D:\\\\Data Science\\\\Code basics\\\\py-master\\\\deep-learning-keras-tf-tutorial-master\\\\44_tf_data_pipeline\\\\images\\\\dog\\\\Most Popular Breeds \\xe2\\x80\\x93 American Kennel Club.jpg'\n",
      "b'D:\\\\Data Science\\\\Code basics\\\\py-master\\\\deep-learning-keras-tf-tutorial-master\\\\44_tf_data_pipeline\\\\images\\\\cat\\\\Are Cats Domesticated_ _ The New Yorker.jpg'\n"
     ]
    }
   ],
   "source": [
    "## Using the Shuffle\n",
    "\n",
    "images_ds = images_ds.shuffle(200)\n",
    "for file in images_ds.take(3):\n",
    "    print(file.numpy())"
   ]
  },
  {
   "cell_type": "code",
   "execution_count": 14,
   "id": "2df129a8-2b15-429d-b229-a73e08cdab17",
   "metadata": {},
   "outputs": [],
   "source": [
    "# Create a list class\n",
    "class_names = [\"cat\",\"dog\"]"
   ]
  },
  {
   "cell_type": "code",
   "execution_count": 15,
   "id": "74dfb22f-e570-4c32-bad7-38c598bc95c7",
   "metadata": {},
   "outputs": [
    {
     "data": {
      "text/plain": [
       "130"
      ]
     },
     "execution_count": 15,
     "metadata": {},
     "output_type": "execute_result"
    }
   ],
   "source": [
    "# Checking the image count\n",
    "image_count = len(images_ds)\n",
    "image_count"
   ]
  },
  {
   "cell_type": "code",
   "execution_count": 16,
   "id": "e8ffe6d0-facf-4be7-8fd9-039099e9c045",
   "metadata": {},
   "outputs": [
    {
     "data": {
      "text/plain": [
       "tensorflow.python.data.ops.shuffle_op._ShuffleDataset"
      ]
     },
     "execution_count": 16,
     "metadata": {},
     "output_type": "execute_result"
    }
   ],
   "source": [
    "# Checking the data type\n",
    "type(images_ds)"
   ]
  },
  {
   "cell_type": "code",
   "execution_count": 17,
   "id": "5c33ef17-ea73-4500-aa71-0c228b76426d",
   "metadata": {},
   "outputs": [],
   "source": [
    "## Train test split\n",
    "train_size = int(image_count*0.8)\n",
    "train_ds = images_ds.take(train_size)\n",
    "test_ds = images_ds.skip(train_size)"
   ]
  },
  {
   "cell_type": "code",
   "execution_count": 18,
   "id": "8a942ac9-6e3b-47af-bae9-f259d1ad15c0",
   "metadata": {},
   "outputs": [
    {
     "data": {
      "text/plain": [
       "104"
      ]
     },
     "execution_count": 18,
     "metadata": {},
     "output_type": "execute_result"
    }
   ],
   "source": [
    "len(train_ds)"
   ]
  },
  {
   "cell_type": "code",
   "execution_count": 19,
   "id": "ec3f22b2-e3d4-4eb2-9501-08239a5adfab",
   "metadata": {},
   "outputs": [
    {
     "data": {
      "text/plain": [
       "26"
      ]
     },
     "execution_count": 19,
     "metadata": {},
     "output_type": "execute_result"
    }
   ],
   "source": [
    "len(test_ds)"
   ]
  },
  {
   "cell_type": "code",
   "execution_count": 20,
   "id": "619ce448-1cee-4c9d-bba2-0068c6d9949f",
   "metadata": {},
   "outputs": [
    {
     "data": {
      "text/plain": [
       "'dog'"
      ]
     },
     "execution_count": 20,
     "metadata": {},
     "output_type": "execute_result"
    }
   ],
   "source": [
    "# for getting the label form the path\n",
    "s = \"images\\\\dog\\\\20 Reasons Why Cats Make the Best Pets....jpg\"\n",
    "s.split('\\\\')[-2]"
   ]
  },
  {
   "cell_type": "code",
   "execution_count": 21,
   "id": "627a6d70-2f96-44ba-8143-717d01008037",
   "metadata": {},
   "outputs": [],
   "source": [
    "# We have to get the label from the image path, since the folder categorized as per the requirement\n",
    "def get_label(file_path):\n",
    "    import os\n",
    "    parts = tf.strings.split(file_path, os.path.sep)\n",
    "    return parts[-2]"
   ]
  },
  {
   "cell_type": "code",
   "execution_count": 22,
   "id": "8214c290-a27a-40dd-ae4b-d975f202a97f",
   "metadata": {},
   "outputs": [
    {
     "data": {
      "text/plain": [
       "<tf.Tensor: shape=(), dtype=string, numpy=b'dog'>"
      ]
     },
     "execution_count": 22,
     "metadata": {},
     "output_type": "execute_result"
    }
   ],
   "source": [
    "get_label(\"images\\\\dog\\\\20 Reasons Why Cats Make the Best Pets....jpg\")"
   ]
  },
  {
   "cell_type": "code",
   "execution_count": 27,
   "id": "17f4d33a-6933-4670-9801-dc917adead9b",
   "metadata": {},
   "outputs": [],
   "source": [
    "# make a function to make the X part for training\n",
    "def process_image(file_path):\n",
    "    label = get_label(file_path)\n",
    "    img = tf.io.read_file(file_path) # load the raw data from the file as a string\n",
    "    img = tf.image.decode_jpeg(img) # decode the Image\n",
    "    img = tf.image.resize(img, [128, 128]) # Resize the image\n",
    "    return img, label # here X_train --> img ,, y_train -->label"
   ]
  },
  {
   "cell_type": "code",
   "execution_count": 23,
   "id": "f0e29e23-7fab-4dec-bb4b-cf6d3be21afe",
   "metadata": {},
   "outputs": [
    {
     "name": "stdout",
     "output_type": "stream",
     "text": [
      "b'D:\\\\Data Science\\\\Code basics\\\\py-master\\\\deep-learning-keras-tf-tutorial-master\\\\44_tf_data_pipeline\\\\images\\\\cat\\\\The Science-Backed Benefits of Being a....jpg'\n",
      "b'D:\\\\Data Science\\\\Code basics\\\\py-master\\\\deep-learning-keras-tf-tutorial-master\\\\44_tf_data_pipeline\\\\images\\\\dog\\\\List of dog breeds - Wikipedia.jpg'\n",
      "b'D:\\\\Data Science\\\\Code basics\\\\py-master\\\\deep-learning-keras-tf-tutorial-master\\\\44_tf_data_pipeline\\\\images\\\\dog\\\\The 25 Cutest Dog Breeds - Most....jpg'\n",
      "b'D:\\\\Data Science\\\\Code basics\\\\py-master\\\\deep-learning-keras-tf-tutorial-master\\\\44_tf_data_pipeline\\\\images\\\\dog\\\\What makes dogs so special and....jpg'\n"
     ]
    }
   ],
   "source": [
    "# Check the train_ds\n",
    "for t in train_ds.take(4):\n",
    "    print(t.numpy())"
   ]
  },
  {
   "cell_type": "code",
   "execution_count": 24,
   "id": "067f18bf-3650-41ab-90e4-c2574f358171",
   "metadata": {
    "scrolled": true
   },
   "outputs": [
    {
     "name": "stdout",
     "output_type": "stream",
     "text": [
      "tf.Tensor(b'dog', shape=(), dtype=string)\n",
      "tf.Tensor(b'dog', shape=(), dtype=string)\n",
      "tf.Tensor(b'dog', shape=(), dtype=string)\n",
      "tf.Tensor(b'dog', shape=(), dtype=string)\n",
      "tf.Tensor(b'dog', shape=(), dtype=string)\n",
      "tf.Tensor(b'dog', shape=(), dtype=string)\n",
      "tf.Tensor(b'dog', shape=(), dtype=string)\n",
      "tf.Tensor(b'dog', shape=(), dtype=string)\n",
      "tf.Tensor(b'dog', shape=(), dtype=string)\n",
      "tf.Tensor(b'dog', shape=(), dtype=string)\n",
      "tf.Tensor(b'cat', shape=(), dtype=string)\n",
      "tf.Tensor(b'cat', shape=(), dtype=string)\n",
      "tf.Tensor(b'dog', shape=(), dtype=string)\n",
      "tf.Tensor(b'dog', shape=(), dtype=string)\n",
      "tf.Tensor(b'dog', shape=(), dtype=string)\n",
      "tf.Tensor(b'dog', shape=(), dtype=string)\n",
      "tf.Tensor(b'dog', shape=(), dtype=string)\n",
      "tf.Tensor(b'cat', shape=(), dtype=string)\n",
      "tf.Tensor(b'cat', shape=(), dtype=string)\n",
      "tf.Tensor(b'dog', shape=(), dtype=string)\n",
      "tf.Tensor(b'cat', shape=(), dtype=string)\n",
      "tf.Tensor(b'dog', shape=(), dtype=string)\n",
      "tf.Tensor(b'dog', shape=(), dtype=string)\n",
      "tf.Tensor(b'dog', shape=(), dtype=string)\n",
      "tf.Tensor(b'cat', shape=(), dtype=string)\n",
      "tf.Tensor(b'dog', shape=(), dtype=string)\n",
      "tf.Tensor(b'cat', shape=(), dtype=string)\n",
      "tf.Tensor(b'dog', shape=(), dtype=string)\n",
      "tf.Tensor(b'cat', shape=(), dtype=string)\n",
      "tf.Tensor(b'dog', shape=(), dtype=string)\n",
      "tf.Tensor(b'dog', shape=(), dtype=string)\n",
      "tf.Tensor(b'cat', shape=(), dtype=string)\n",
      "tf.Tensor(b'dog', shape=(), dtype=string)\n",
      "tf.Tensor(b'dog', shape=(), dtype=string)\n",
      "tf.Tensor(b'dog', shape=(), dtype=string)\n",
      "tf.Tensor(b'dog', shape=(), dtype=string)\n",
      "tf.Tensor(b'cat', shape=(), dtype=string)\n",
      "tf.Tensor(b'dog', shape=(), dtype=string)\n",
      "tf.Tensor(b'dog', shape=(), dtype=string)\n",
      "tf.Tensor(b'dog', shape=(), dtype=string)\n",
      "tf.Tensor(b'cat', shape=(), dtype=string)\n",
      "tf.Tensor(b'cat', shape=(), dtype=string)\n",
      "tf.Tensor(b'cat', shape=(), dtype=string)\n",
      "tf.Tensor(b'dog', shape=(), dtype=string)\n",
      "tf.Tensor(b'cat', shape=(), dtype=string)\n",
      "tf.Tensor(b'dog', shape=(), dtype=string)\n",
      "tf.Tensor(b'dog', shape=(), dtype=string)\n",
      "tf.Tensor(b'dog', shape=(), dtype=string)\n",
      "tf.Tensor(b'cat', shape=(), dtype=string)\n",
      "tf.Tensor(b'dog', shape=(), dtype=string)\n",
      "tf.Tensor(b'dog', shape=(), dtype=string)\n",
      "tf.Tensor(b'dog', shape=(), dtype=string)\n",
      "tf.Tensor(b'dog', shape=(), dtype=string)\n",
      "tf.Tensor(b'cat', shape=(), dtype=string)\n",
      "tf.Tensor(b'dog', shape=(), dtype=string)\n",
      "tf.Tensor(b'dog', shape=(), dtype=string)\n",
      "tf.Tensor(b'dog', shape=(), dtype=string)\n",
      "tf.Tensor(b'dog', shape=(), dtype=string)\n",
      "tf.Tensor(b'cat', shape=(), dtype=string)\n",
      "tf.Tensor(b'dog', shape=(), dtype=string)\n",
      "tf.Tensor(b'dog', shape=(), dtype=string)\n",
      "tf.Tensor(b'cat', shape=(), dtype=string)\n",
      "tf.Tensor(b'dog', shape=(), dtype=string)\n",
      "tf.Tensor(b'dog', shape=(), dtype=string)\n",
      "tf.Tensor(b'dog', shape=(), dtype=string)\n",
      "tf.Tensor(b'cat', shape=(), dtype=string)\n",
      "tf.Tensor(b'dog', shape=(), dtype=string)\n",
      "tf.Tensor(b'dog', shape=(), dtype=string)\n",
      "tf.Tensor(b'dog', shape=(), dtype=string)\n",
      "tf.Tensor(b'cat', shape=(), dtype=string)\n",
      "tf.Tensor(b'cat', shape=(), dtype=string)\n",
      "tf.Tensor(b'dog', shape=(), dtype=string)\n",
      "tf.Tensor(b'cat', shape=(), dtype=string)\n",
      "tf.Tensor(b'dog', shape=(), dtype=string)\n",
      "tf.Tensor(b'dog', shape=(), dtype=string)\n",
      "tf.Tensor(b'dog', shape=(), dtype=string)\n",
      "tf.Tensor(b'dog', shape=(), dtype=string)\n",
      "tf.Tensor(b'dog', shape=(), dtype=string)\n",
      "tf.Tensor(b'cat', shape=(), dtype=string)\n",
      "tf.Tensor(b'dog', shape=(), dtype=string)\n",
      "tf.Tensor(b'dog', shape=(), dtype=string)\n",
      "tf.Tensor(b'dog', shape=(), dtype=string)\n",
      "tf.Tensor(b'cat', shape=(), dtype=string)\n",
      "tf.Tensor(b'cat', shape=(), dtype=string)\n",
      "tf.Tensor(b'dog', shape=(), dtype=string)\n",
      "tf.Tensor(b'cat', shape=(), dtype=string)\n",
      "tf.Tensor(b'dog', shape=(), dtype=string)\n",
      "tf.Tensor(b'dog', shape=(), dtype=string)\n",
      "tf.Tensor(b'cat', shape=(), dtype=string)\n",
      "tf.Tensor(b'dog', shape=(), dtype=string)\n",
      "tf.Tensor(b'cat', shape=(), dtype=string)\n",
      "tf.Tensor(b'dog', shape=(), dtype=string)\n",
      "tf.Tensor(b'dog', shape=(), dtype=string)\n",
      "tf.Tensor(b'dog', shape=(), dtype=string)\n",
      "tf.Tensor(b'dog', shape=(), dtype=string)\n",
      "tf.Tensor(b'dog', shape=(), dtype=string)\n",
      "tf.Tensor(b'dog', shape=(), dtype=string)\n",
      "tf.Tensor(b'dog', shape=(), dtype=string)\n",
      "tf.Tensor(b'dog', shape=(), dtype=string)\n",
      "tf.Tensor(b'dog', shape=(), dtype=string)\n",
      "tf.Tensor(b'dog', shape=(), dtype=string)\n",
      "tf.Tensor(b'dog', shape=(), dtype=string)\n",
      "tf.Tensor(b'dog', shape=(), dtype=string)\n",
      "tf.Tensor(b'cat', shape=(), dtype=string)\n"
     ]
    }
   ],
   "source": [
    "# For getting the label from the path\n",
    "for label in train_ds.map(get_label):\n",
    "    print(label)"
   ]
  },
  {
   "cell_type": "code",
   "execution_count": 34,
   "id": "14612424-ebc5-47dd-b419-d579397efcf5",
   "metadata": {},
   "outputs": [
    {
     "name": "stdout",
     "output_type": "stream",
     "text": [
      "Image:  tf.Tensor(\n",
      "[[[225.03125  187.03125  168.03125 ]\n",
      "  [224.75684  186.75684  167.75684 ]\n",
      "  [210.1377   171.1377   156.1377  ]\n",
      "  ...\n",
      "  [ 85.81348  111.81348  110.81348 ]\n",
      "  [116.31641  147.3164   150.3164  ]\n",
      "  [106.7959   140.7959   142.7959  ]]\n",
      "\n",
      " [[219.22461  181.22461  162.22461 ]\n",
      "  [222.43066  183.43066  166.43066 ]\n",
      "  [213.56738  174.56738  157.56738 ]\n",
      "  ...\n",
      "  [ 97.66211  127.47461  129.38086 ]\n",
      "  [117.27734  148.27734  151.27734 ]\n",
      "  [116.14844  150.14844  152.14844 ]]\n",
      "\n",
      " [[224.79297  186.79297  167.79297 ]\n",
      "  [224.97168  185.97168  168.97168 ]\n",
      "  [209.98926  170.98926  155.98926 ]\n",
      "  ...\n",
      "  [104.08496  135.89746  134.99121 ]\n",
      "  [114.87891  148.8789   150.8789  ]\n",
      "  [114.331055 148.33105  150.33105 ]]\n",
      "\n",
      " ...\n",
      "\n",
      " [[211.53223  225.43848  234.34473 ]\n",
      "  [204.75293  219.56543  226.65918 ]\n",
      "  [235.26367  240.4248   246.45117 ]\n",
      "  ...\n",
      "  [ 62.453125  57.623047  38.623047]\n",
      "  [ 79.75098   74.75098   55.750977]\n",
      "  [ 73.05859   66.05859   47.058594]]\n",
      "\n",
      " [[219.45605  229.1875   238.84375 ]\n",
      "  [218.45117  231.45117  240.45117 ]\n",
      "  [223.24805  230.93555  237.2793  ]\n",
      "  ...\n",
      "  [ 76.75391   71.56641   52.566406]\n",
      "  [ 79.493164  74.493164  55.493164]\n",
      "  [ 88.82324   82.82324   60.823242]]\n",
      "\n",
      " [[190.95801  209.1289   218.95801 ]\n",
      "  [218.4873   229.1748   241.1748  ]\n",
      "  [227.47949  236.29199  243.19824 ]\n",
      "  ...\n",
      "  [ 83.45996   76.55371   57.27246 ]\n",
      "  [ 93.541016  88.541016  69.541016]\n",
      "  [ 89.57031   82.57031   64.57031 ]]], shape=(128, 128, 3), dtype=float32)\n",
      "label:  tf.Tensor(b'dog', shape=(), dtype=string)\n",
      "Image:  tf.Tensor(\n",
      "[[[154.01562 169.01562 166.01562]\n",
      "  [156.      171.      168.     ]\n",
      "  [155.98438 170.98438 167.98438]\n",
      "  ...\n",
      "  [203.      218.      223.     ]\n",
      "  [201.      219.      223.     ]\n",
      "  [201.      219.      223.     ]]\n",
      "\n",
      " [[158.04688 173.04688 170.04688]\n",
      "  [158.      173.      170.     ]\n",
      "  [157.      172.      169.     ]\n",
      "  ...\n",
      "  [203.      218.      223.     ]\n",
      "  [201.      219.      223.     ]\n",
      "  [201.      219.      223.     ]]\n",
      "\n",
      " [[156.92188 171.92188 168.92188]\n",
      "  [157.92188 172.92188 169.92188]\n",
      "  [158.      172.      172.     ]\n",
      "  ...\n",
      "  [204.      217.      223.     ]\n",
      "  [203.      218.      223.     ]\n",
      "  [203.      218.      223.     ]]\n",
      "\n",
      " ...\n",
      "\n",
      " [[226.      235.      234.     ]\n",
      "  [224.4375  233.4375  232.4375 ]\n",
      "  [226.07812 235.07812 232.07812]\n",
      "  ...\n",
      "  [215.      225.      224.     ]\n",
      "  [215.      225.      224.     ]\n",
      "  [214.      224.      223.     ]]\n",
      "\n",
      " [[227.      236.      235.     ]\n",
      "  [225.      234.      233.     ]\n",
      "  [225.      234.      231.     ]\n",
      "  ...\n",
      "  [214.      224.      223.     ]\n",
      "  [215.      225.      224.     ]\n",
      "  [215.      225.      224.     ]]\n",
      "\n",
      " [[225.03125 235.01562 234.01562]\n",
      "  [225.46191 234.46191 233.46191]\n",
      "  [225.      234.98438 233.95312]\n",
      "  ...\n",
      "  [216.92285 226.92285 225.92285]\n",
      "  [215.98438 225.98438 224.98438]\n",
      "  [215.      225.      224.     ]]], shape=(128, 128, 3), dtype=float32)\n",
      "label:  tf.Tensor(b'dog', shape=(), dtype=string)\n",
      "Image:  tf.Tensor(\n",
      "[[[255. 255. 255.   0.]\n",
      "  [255. 255. 255.   0.]\n",
      "  [255. 255. 255.   0.]\n",
      "  ...\n",
      "  [255. 255. 255.   0.]\n",
      "  [255. 255. 255.   0.]\n",
      "  [255. 255. 255.   0.]]\n",
      "\n",
      " [[255. 255. 255.   0.]\n",
      "  [255. 255. 255.   0.]\n",
      "  [255. 255. 255.   0.]\n",
      "  ...\n",
      "  [255. 255. 255.   0.]\n",
      "  [255. 255. 255.   0.]\n",
      "  [255. 255. 255.   0.]]\n",
      "\n",
      " [[255. 255. 255.   0.]\n",
      "  [255. 255. 255.   0.]\n",
      "  [255. 255. 255.   0.]\n",
      "  ...\n",
      "  [255. 255. 255.   0.]\n",
      "  [255. 255. 255.   0.]\n",
      "  [255. 255. 255.   0.]]\n",
      "\n",
      " ...\n",
      "\n",
      " [[255. 255. 255.   0.]\n",
      "  [255. 255. 255.   0.]\n",
      "  [255. 255. 255.   0.]\n",
      "  ...\n",
      "  [255. 255. 255.   0.]\n",
      "  [255. 255. 255.   0.]\n",
      "  [255. 255. 255.   0.]]\n",
      "\n",
      " [[255. 255. 255.   0.]\n",
      "  [255. 255. 255.   0.]\n",
      "  [255. 255. 255.   0.]\n",
      "  ...\n",
      "  [255. 255. 255.   0.]\n",
      "  [255. 255. 255.   0.]\n",
      "  [255. 255. 255.   0.]]\n",
      "\n",
      " [[255. 255. 255.   0.]\n",
      "  [255. 255. 255.   0.]\n",
      "  [255. 255. 255.   0.]\n",
      "  ...\n",
      "  [255. 255. 255.   0.]\n",
      "  [255. 255. 255.   0.]\n",
      "  [255. 255. 255.   0.]]], shape=(128, 128, 4), dtype=float32)\n",
      "label:  tf.Tensor(b'dog', shape=(), dtype=string)\n"
     ]
    }
   ],
   "source": [
    "# Call the process_image function\n",
    "train_ds = train_ds.map(process_image)\n",
    "for img,label in train_ds.take(3):\n",
    "    print('Image: ', img)\n",
    "    print('label: ',label)"
   ]
  },
  {
   "cell_type": "code",
   "execution_count": 32,
   "id": "3748c719-5810-4715-853b-ce4b0bfef45c",
   "metadata": {},
   "outputs": [],
   "source": [
    "# write a function for scaling\n",
    "def scale(image, label):\n",
    "    return image/255, label"
   ]
  },
  {
   "cell_type": "code",
   "execution_count": 35,
   "id": "d61befcf-2f89-4e19-b75f-0bf5a5f1b1e8",
   "metadata": {},
   "outputs": [
    {
     "name": "stdout",
     "output_type": "stream",
     "text": [
      "******Image:  [0.50351036 0.46697664 0.25398403]\n",
      "******Label:  b'dog'\n",
      "******Image:  [0.3125766  0.34394914 0.35571384]\n",
      "******Label:  b'dog'\n",
      "******Image:  [0.13370098 0.34154412 0.30232844]\n",
      "******Label:  b'dog'\n",
      "******Image:  [0.27450982 0.23137255 0.20784314]\n",
      "******Label:  b'cat'\n",
      "******Image:  [0.38039216 0.16470589 0.52156866]\n",
      "******Label:  b'cat'\n"
     ]
    }
   ],
   "source": [
    "train_ds = train_ds.map(scale)\n",
    "\n",
    "for image, label in train_ds.take(5):\n",
    "    print(\"******Image: \", image.numpy()[0][0])\n",
    "    print(\"******Label: \", label.numpy())"
   ]
  },
  {
   "cell_type": "code",
   "execution_count": null,
   "id": "43eb06a7-06cb-4e85-aa53-2b24c47233ea",
   "metadata": {},
   "outputs": [],
   "source": []
  }
 ],
 "metadata": {
  "kernelspec": {
   "display_name": "Python 3 (ipykernel)",
   "language": "python",
   "name": "python3"
  },
  "language_info": {
   "codemirror_mode": {
    "name": "ipython",
    "version": 3
   },
   "file_extension": ".py",
   "mimetype": "text/x-python",
   "name": "python",
   "nbconvert_exporter": "python",
   "pygments_lexer": "ipython3",
   "version": "3.11.4"
  }
 },
 "nbformat": 4,
 "nbformat_minor": 5
}
