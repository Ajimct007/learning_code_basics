{
 "cells": [
  {
   "cell_type": "code",
   "execution_count": 1,
   "id": "4acd9949-9017-4d30-b475-be0be333f69c",
   "metadata": {},
   "outputs": [],
   "source": [
    "import numpy as np"
   ]
  },
  {
   "cell_type": "code",
   "execution_count": 2,
   "id": "e56834f3-f435-40d3-9731-0c2516f5cfac",
   "metadata": {},
   "outputs": [],
   "source": [
    "# we have y 'predicted' & 'true' values here\n",
    "y_predicted = np.array([1,1,0,0,1])\n",
    "y_true = np.array([0.30,0.7,1,0,0.5])"
   ]
  },
  {
   "cell_type": "markdown",
   "id": "bc87a6b4-80fb-465a-b409-c078d43621ea",
   "metadata": {},
   "source": [
    "# Implement Mean Square Error"
   ]
  },
  {
   "cell_type": "code",
   "execution_count": 3,
   "id": "1b2a1ec5-58b6-423c-8079-8a2bb4d8c106",
   "metadata": {},
   "outputs": [],
   "source": [
    "def mae(y_true, y_predicted):\n",
    "    total_error = 0\n",
    "    # run for loop in 2 arrays\n",
    "    for yt, yp in zip(y_true, y_predicted):\n",
    "        #print(yt, yp)\n",
    "        #for absolute difference, in python there is a function named abs\n",
    "        total_error += abs(yt - yp)\n",
    "    print(\"total_error : \", total_error)\n",
    "    # for getting the mean of the errors\n",
    "    mae = total_error / len(y_true)\n",
    "    print(\"MAE : \", mae)\n",
    "    return mae"
   ]
  },
  {
   "cell_type": "code",
   "execution_count": 4,
   "id": "2c502b1a-5b10-4599-827d-4b5904185cc6",
   "metadata": {},
   "outputs": [
    {
     "name": "stdout",
     "output_type": "stream",
     "text": [
      "total_error :  2.5\n",
      "MAE :  0.5\n"
     ]
    },
    {
     "data": {
      "text/plain": [
       "0.5"
      ]
     },
     "execution_count": 4,
     "metadata": {},
     "output_type": "execute_result"
    }
   ],
   "source": [
    "mae(y_true, y_predicted)"
   ]
  },
  {
   "cell_type": "markdown",
   "id": "a663f7cf-a7eb-4534-8a53-3819a7916cda",
   "metadata": {},
   "source": [
    "## Same function using numpy"
   ]
  },
  {
   "cell_type": "code",
   "execution_count": 5,
   "id": "43924ca8-9327-4d58-8bf7-9418c35543e9",
   "metadata": {},
   "outputs": [
    {
     "data": {
      "text/plain": [
       "array([ 0.7,  0.3, -1. ,  0. ,  0.5])"
      ]
     },
     "execution_count": 5,
     "metadata": {},
     "output_type": "execute_result"
    }
   ],
   "source": [
    "# since we have the numpy array, we can directly subtract the values\n",
    "y_predicted - y_true"
   ]
  },
  {
   "cell_type": "code",
   "execution_count": 6,
   "id": "f32c61f1-071e-41ba-a83a-f3c93a0e9ea4",
   "metadata": {},
   "outputs": [
    {
     "data": {
      "text/plain": [
       "array([0.7, 0.3, 1. , 0. , 0.5])"
      ]
     },
     "execution_count": 6,
     "metadata": {},
     "output_type": "execute_result"
    }
   ],
   "source": [
    "# we can use the abs with numpy\n",
    "np.abs(y_predicted - y_true)"
   ]
  },
  {
   "cell_type": "code",
   "execution_count": 7,
   "id": "3a364be0-a9b4-45b0-b9fd-91bb36880c03",
   "metadata": {},
   "outputs": [
    {
     "data": {
      "text/plain": [
       "0.5"
      ]
     },
     "execution_count": 7,
     "metadata": {},
     "output_type": "execute_result"
    }
   ],
   "source": [
    "# for taking the mean\n",
    "np.mean(np.abs(y_predicted - y_true))"
   ]
  },
  {
   "cell_type": "code",
   "execution_count": 8,
   "id": "6a83ce06-6c1b-4761-8a74-eb9f9be8f7c9",
   "metadata": {},
   "outputs": [
    {
     "data": {
      "text/plain": [
       "2.5"
      ]
     },
     "execution_count": 8,
     "metadata": {},
     "output_type": "execute_result"
    }
   ],
   "source": [
    "# for getting total error\n",
    "np.sum(np.abs(y_predicted - y_true))"
   ]
  },
  {
   "cell_type": "code",
   "execution_count": 9,
   "id": "bf42e54f-655c-47c2-a6b4-8aa134bd98f2",
   "metadata": {},
   "outputs": [
    {
     "name": "stderr",
     "output_type": "stream",
     "text": [
      "C:\\Users\\Admin\\AppData\\Local\\Temp\\ipykernel_11588\\2997779966.py:2: RuntimeWarning: divide by zero encountered in log\n",
      "  np.log([0]) # log([0]) is not defined\n"
     ]
    },
    {
     "data": {
      "text/plain": [
       "array([-inf])"
      ]
     },
     "execution_count": 9,
     "metadata": {},
     "output_type": "execute_result"
    }
   ],
   "source": [
    "# Implement the Log loss or Binary cross entropy\n",
    "np.log([0]) # log([0]) is not defined\n",
    "# so when we have log([0]) we have to take a value which is close to 0"
   ]
  },
  {
   "cell_type": "code",
   "execution_count": 10,
   "id": "a0218389-a7cf-4cd3-9db2-c267ab22bc4f",
   "metadata": {},
   "outputs": [
    {
     "data": {
      "text/plain": [
       "array([-39.14394658])"
      ]
     },
     "execution_count": 10,
     "metadata": {},
     "output_type": "execute_result"
    }
   ],
   "source": [
    "# value close to 0\n",
    "np.log([0.00000000000000001])"
   ]
  },
  {
   "cell_type": "code",
   "execution_count": 11,
   "id": "48e22880-9e64-4741-99ca-e575a94050c7",
   "metadata": {},
   "outputs": [],
   "source": [
    "# In our Log_loss function, we have to replace the 0 value with close to 0\n",
    "# in the log loss formula, we have 1-y\n",
    "# if the y = 1, then the final value will be 0, so we have to fix that\n",
    "# for fixing that we will use eplison\n",
    "eplison = 1e-15"
   ]
  },
  {
   "cell_type": "code",
   "execution_count": 12,
   "id": "bd140de5-7d92-44f5-8d8a-e43f32bb2376",
   "metadata": {},
   "outputs": [
    {
     "data": {
      "text/plain": [
       "array([1, 1, 0, 0, 1])"
      ]
     },
     "execution_count": 12,
     "metadata": {},
     "output_type": "execute_result"
    }
   ],
   "source": [
    "y_predicted"
   ]
  },
  {
   "cell_type": "code",
   "execution_count": 13,
   "id": "07e6da44-8bb9-4057-832b-830c8af8b320",
   "metadata": {},
   "outputs": [
    {
     "data": {
      "text/plain": [
       "[1, 1, 1e-15, 1e-15, 1]"
      ]
     },
     "execution_count": 13,
     "metadata": {},
     "output_type": "execute_result"
    }
   ],
   "source": [
    "# in y_predicted \n",
    "# we will replace 0 with value close to 0 --> e-15\n",
    "# we will replace 1 with value close to 1 --> 0.9999999999999\n",
    "\n",
    "y_predicted_new = [max(i, eplison) for i in y_predicted]\n",
    "y_predicted_new\n",
    "# it replaced 0 with 1e-15"
   ]
  },
  {
   "cell_type": "code",
   "execution_count": 14,
   "id": "eb15a197-6f00-4533-b3ec-7840fd3e320a",
   "metadata": {},
   "outputs": [
    {
     "data": {
      "text/plain": [
       "[0.999999999999999, 0.999999999999999, 1e-15, 1e-15, 0.999999999999999]"
      ]
     },
     "execution_count": 14,
     "metadata": {},
     "output_type": "execute_result"
    }
   ],
   "source": [
    "y_predicted_new = [min(i, 1-eplison) for i in y_predicted_new]\n",
    "# here eplison is close to 0, and 1-eplison is close to 1 or which is inverse of close to 0\n",
    "y_predicted_new"
   ]
  },
  {
   "cell_type": "code",
   "execution_count": 15,
   "id": "856bfbcb-ad79-4d0a-b1e3-434ca2c6fabd",
   "metadata": {},
   "outputs": [
    {
     "data": {
      "text/plain": [
       "array([-9.99200722e-16, -9.99200722e-16, -3.45387764e+01, -3.45387764e+01,\n",
       "       -9.99200722e-16])"
      ]
     },
     "execution_count": 15,
     "metadata": {},
     "output_type": "execute_result"
    }
   ],
   "source": [
    "# convert the y_predicy_predicted_new as numpy array\n",
    "y_predicted_new = np.array(y_predicted_new)\n",
    "# apply the log function for the new array which is converted to numpy array\n",
    "np.log(y_predicted_new)\n",
    "# We got the converted log of the numbers"
   ]
  },
  {
   "cell_type": "code",
   "execution_count": 16,
   "id": "1579f118-b1c4-44c2-acff-f704751512c7",
   "metadata": {},
   "outputs": [
    {
     "name": "stderr",
     "output_type": "stream",
     "text": [
      "C:\\Users\\Admin\\AppData\\Local\\Temp\\ipykernel_11588\\3573581772.py:2: RuntimeWarning: divide by zero encountered in log\n",
      "  np.log(y_predicted)\n"
     ]
    },
    {
     "data": {
      "text/plain": [
       "array([  0.,   0., -inf, -inf,   0.])"
      ]
     },
     "execution_count": 16,
     "metadata": {},
     "output_type": "execute_result"
    }
   ],
   "source": [
    "# if we directly convert the y_predicted into log, we will end up with error, where we will get the value of infinity\n",
    "np.log(y_predicted)\n",
    "# here the '0' value is considered as -infinity which is incorrect"
   ]
  },
  {
   "cell_type": "markdown",
   "id": "1ce445cc-3c27-4834-b186-ade4352a5766",
   "metadata": {},
   "source": [
    "# Writing the log loss function by using the numpy"
   ]
  },
  {
   "cell_type": "code",
   "execution_count": 18,
   "id": "1aa9e4f9-13c3-4e9f-b30b-711923af35df",
   "metadata": {},
   "outputs": [
    {
     "data": {
      "text/plain": [
       "17.2696280766844"
      ]
     },
     "execution_count": 18,
     "metadata": {},
     "output_type": "execute_result"
    }
   ],
   "source": [
    "# refer the log_loss formula at the notes\n",
    "-np.mean(y_true*np.log(y_predicted_new)+(1-y_true)*np.log(1-y_predicted_new))"
   ]
  },
  {
   "cell_type": "code",
   "execution_count": 21,
   "id": "762598b4-c1e3-45dc-9aa8-e5aab347c67c",
   "metadata": {},
   "outputs": [],
   "source": [
    "# writing altogether\n",
    "def log_loss(y_true, y_predicted):\n",
    "    epsilon = 1e-15\n",
    "    y_predicted_new = [max(i,epsilon) for i in y_predicted]\n",
    "    y_predicted_new = [min(i,1-epsilon) for i in y_predicted_new]\n",
    "    y_predicted_new = np.array(y_predicted_new)\n",
    "    return -np.mean(y_true*np.log(y_predicted_new)+(1-y_true)*np.log(1-y_predicted_new))"
   ]
  },
  {
   "cell_type": "code",
   "execution_count": 22,
   "id": "be97c2f6-da02-46f1-aeff-2866365b57ca",
   "metadata": {},
   "outputs": [
    {
     "data": {
      "text/plain": [
       "17.2696280766844"
      ]
     },
     "execution_count": 22,
     "metadata": {},
     "output_type": "execute_result"
    }
   ],
   "source": [
    "log_loss(y_true, y_predicted)"
   ]
  },
  {
   "cell_type": "code",
   "execution_count": null,
   "id": "211be3b7-2a3a-464c-9e1b-ffd73ef784c1",
   "metadata": {},
   "outputs": [],
   "source": []
  },
  {
   "cell_type": "code",
   "execution_count": null,
   "id": "5a360853-c229-457a-91cd-de8272f144e3",
   "metadata": {},
   "outputs": [],
   "source": []
  },
  {
   "cell_type": "code",
   "execution_count": null,
   "id": "208750a6-536d-436f-9fc8-d51ae90ac44e",
   "metadata": {},
   "outputs": [],
   "source": []
  },
  {
   "cell_type": "code",
   "execution_count": null,
   "id": "e2464a78-345c-43a6-acc7-a4edd6051f8a",
   "metadata": {},
   "outputs": [],
   "source": []
  },
  {
   "cell_type": "code",
   "execution_count": null,
   "id": "860cc812-5711-4e5b-9432-a7b6e18dd094",
   "metadata": {},
   "outputs": [],
   "source": []
  },
  {
   "cell_type": "code",
   "execution_count": null,
   "id": "94d4c762-b536-403a-89e9-f3cc72a7d457",
   "metadata": {},
   "outputs": [],
   "source": []
  }
 ],
 "metadata": {
  "kernelspec": {
   "display_name": "Python 3 (ipykernel)",
   "language": "python",
   "name": "python3"
  },
  "language_info": {
   "codemirror_mode": {
    "name": "ipython",
    "version": 3
   },
   "file_extension": ".py",
   "mimetype": "text/x-python",
   "name": "python",
   "nbconvert_exporter": "python",
   "pygments_lexer": "ipython3",
   "version": "3.11.4"
  }
 },
 "nbformat": 4,
 "nbformat_minor": 5
}
