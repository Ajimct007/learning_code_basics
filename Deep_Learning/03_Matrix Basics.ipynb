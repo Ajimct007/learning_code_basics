{
 "cells": [
  {
   "cell_type": "code",
   "execution_count": 1,
   "id": "c58921b2-d804-404f-a8f3-ea9df366b18e",
   "metadata": {},
   "outputs": [],
   "source": [
    "import numpy as np"
   ]
  },
  {
   "cell_type": "code",
   "execution_count": 3,
   "id": "1f6db8a7-290c-4e89-93ad-ab168a58ba2d",
   "metadata": {},
   "outputs": [],
   "source": [
    "# Creating multi-dimentional array\n",
    "revenue = np.array([[180,200,220],[24,36,40],[12,18,20]])\n",
    "expenses = np.array([[80,90,100],[10,16,20],[8,10,10]])"
   ]
  },
  {
   "cell_type": "code",
   "execution_count": 4,
   "id": "ecfd9051-0d80-4677-8bf2-6e475db6fccf",
   "metadata": {},
   "outputs": [
    {
     "data": {
      "text/plain": [
       "array([[180, 200, 220],\n",
       "       [ 24,  36,  40],\n",
       "       [ 12,  18,  20]])"
      ]
     },
     "execution_count": 4,
     "metadata": {},
     "output_type": "execute_result"
    }
   ],
   "source": [
    "revenue"
   ]
  },
  {
   "cell_type": "code",
   "execution_count": 5,
   "id": "150244f7-ba82-4b43-9710-ebecef39e857",
   "metadata": {},
   "outputs": [
    {
     "data": {
      "text/plain": [
       "array([[ 80,  90, 100],\n",
       "       [ 10,  16,  20],\n",
       "       [  8,  10,  10]])"
      ]
     },
     "execution_count": 5,
     "metadata": {},
     "output_type": "execute_result"
    }
   ],
   "source": [
    "expenses"
   ]
  },
  {
   "cell_type": "markdown",
   "id": "d751ea80-cd55-4b18-9cbb-1740729b0358",
   "metadata": {},
   "source": [
    "# Subtraction"
   ]
  },
  {
   "cell_type": "code",
   "execution_count": 6,
   "id": "a28e9ea1-3fc2-4585-a3bc-4173cb036d61",
   "metadata": {},
   "outputs": [
    {
     "data": {
      "text/plain": [
       "array([[100, 110, 120],\n",
       "       [ 14,  20,  20],\n",
       "       [  4,   8,  10]])"
      ]
     },
     "execution_count": 6,
     "metadata": {},
     "output_type": "execute_result"
    }
   ],
   "source": [
    "# Finding the profit\n",
    "profit = revenue - expenses\n",
    "profit"
   ]
  },
  {
   "cell_type": "markdown",
   "id": "910a0367-3061-4042-855f-843c70a97a98",
   "metadata": {},
   "source": [
    "# Multiplecation\n",
    "\n",
    "Calculate total sales from units and price per unit using matrix multiplication"
   ]
  },
  {
   "cell_type": "code",
   "execution_count": 9,
   "id": "8f1d2b53-589b-4290-b5f0-1d0ce1472e94",
   "metadata": {},
   "outputs": [],
   "source": [
    "price_per_unit = np.array([1000,400,1200])\n",
    "units = np.array([[30,40,50],[5,10,15],[2,5,7]])"
   ]
  },
  {
   "cell_type": "code",
   "execution_count": 11,
   "id": "d2926e81-8b7a-4e23-bd95-b2a4b7297924",
   "metadata": {},
   "outputs": [
    {
     "data": {
      "text/plain": [
       "array([[30000, 16000, 60000],\n",
       "       [ 5000,  4000, 18000],\n",
       "       [ 2000,  2000,  8400]])"
      ]
     },
     "execution_count": 11,
     "metadata": {},
     "output_type": "execute_result"
    }
   ],
   "source": [
    "price_per_unit*units"
   ]
  },
  {
   "cell_type": "markdown",
   "id": "6908b3c3-3859-46ae-9807-855f4b0f30a9",
   "metadata": {},
   "source": [
    "In above case numpy is using broadcasting so it expands price_per_unit array from 1 row, 3 columns to 3 row and 3 columns. Correct way to do matrix multiplication is to use dot product as shown below"
   ]
  },
  {
   "cell_type": "code",
   "execution_count": 12,
   "id": "9768d403-f596-4910-8737-7dc9c13ca084",
   "metadata": {},
   "outputs": [
    {
     "data": {
      "text/plain": [
       "array([34400, 50000, 64400])"
      ]
     },
     "execution_count": 12,
     "metadata": {},
     "output_type": "execute_result"
    }
   ],
   "source": [
    "np.dot(price_per_unit,units)"
   ]
  },
  {
   "cell_type": "code",
   "execution_count": null,
   "id": "5dae627b-f5f0-46f2-9d82-ac068125be9f",
   "metadata": {},
   "outputs": [],
   "source": []
  },
  {
   "cell_type": "code",
   "execution_count": null,
   "id": "cc9bf3f6-8a66-4a57-9126-5fdd4d9c2675",
   "metadata": {},
   "outputs": [],
   "source": []
  }
 ],
 "metadata": {
  "kernelspec": {
   "display_name": "Python 3 (ipykernel)",
   "language": "python",
   "name": "python3"
  },
  "language_info": {
   "codemirror_mode": {
    "name": "ipython",
    "version": 3
   },
   "file_extension": ".py",
   "mimetype": "text/x-python",
   "name": "python",
   "nbconvert_exporter": "python",
   "pygments_lexer": "ipython3",
   "version": "3.11.4"
  }
 },
 "nbformat": 4,
 "nbformat_minor": 5
}
