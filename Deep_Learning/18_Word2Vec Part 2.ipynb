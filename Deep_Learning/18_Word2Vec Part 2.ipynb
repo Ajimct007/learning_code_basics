{
 "cells": [
  {
   "cell_type": "code",
   "execution_count": 1,
   "id": "82ae0653-af8b-4a66-84da-b8e0e3bb5ca4",
   "metadata": {},
   "outputs": [],
   "source": [
    "# !pip install gensim\n",
    "# !pip install python-Levenshtein\n",
    "import gensim\n",
    "import pandas as pd"
   ]
  },
  {
   "cell_type": "markdown",
   "id": "41ce730f-c002-46e2-b137-cbd2a9e0f2e0",
   "metadata": {},
   "source": [
    "Reading and Exploring the Dataset\r\n",
    "The dataset we are using here is a subset of Amazon reviews from the Cell Phones & Accessories category. The data is stored as a JSON file and can be read using pandas.\r\n",
    "\r\n",
    "Link to the Dataset: http://snap.stanford.edu/data/amazon/productGraph/categoryFiles/reviews_Cell_Phones_and_Accessories_5.json.gz"
   ]
  },
  {
   "cell_type": "code",
   "execution_count": 2,
   "id": "ca2136a4-a645-4e3a-89f2-9d826be66e54",
   "metadata": {},
   "outputs": [
    {
     "data": {
      "text/html": [
       "<div>\n",
       "<style scoped>\n",
       "    .dataframe tbody tr th:only-of-type {\n",
       "        vertical-align: middle;\n",
       "    }\n",
       "\n",
       "    .dataframe tbody tr th {\n",
       "        vertical-align: top;\n",
       "    }\n",
       "\n",
       "    .dataframe thead th {\n",
       "        text-align: right;\n",
       "    }\n",
       "</style>\n",
       "<table border=\"1\" class=\"dataframe\">\n",
       "  <thead>\n",
       "    <tr style=\"text-align: right;\">\n",
       "      <th></th>\n",
       "      <th>reviewerID</th>\n",
       "      <th>asin</th>\n",
       "      <th>reviewerName</th>\n",
       "      <th>helpful</th>\n",
       "      <th>reviewText</th>\n",
       "      <th>overall</th>\n",
       "      <th>summary</th>\n",
       "      <th>unixReviewTime</th>\n",
       "      <th>reviewTime</th>\n",
       "    </tr>\n",
       "  </thead>\n",
       "  <tbody>\n",
       "    <tr>\n",
       "      <th>0</th>\n",
       "      <td>A30TL5EWN6DFXT</td>\n",
       "      <td>120401325X</td>\n",
       "      <td>christina</td>\n",
       "      <td>[0, 0]</td>\n",
       "      <td>They look good and stick good! I just don't li...</td>\n",
       "      <td>4</td>\n",
       "      <td>Looks Good</td>\n",
       "      <td>1400630400</td>\n",
       "      <td>05 21, 2014</td>\n",
       "    </tr>\n",
       "    <tr>\n",
       "      <th>1</th>\n",
       "      <td>ASY55RVNIL0UD</td>\n",
       "      <td>120401325X</td>\n",
       "      <td>emily l.</td>\n",
       "      <td>[0, 0]</td>\n",
       "      <td>These stickers work like the review says they ...</td>\n",
       "      <td>5</td>\n",
       "      <td>Really great product.</td>\n",
       "      <td>1389657600</td>\n",
       "      <td>01 14, 2014</td>\n",
       "    </tr>\n",
       "  </tbody>\n",
       "</table>\n",
       "</div>"
      ],
      "text/plain": [
       "       reviewerID        asin reviewerName helpful  \\\n",
       "0  A30TL5EWN6DFXT  120401325X    christina  [0, 0]   \n",
       "1   ASY55RVNIL0UD  120401325X     emily l.  [0, 0]   \n",
       "\n",
       "                                          reviewText  overall  \\\n",
       "0  They look good and stick good! I just don't li...        4   \n",
       "1  These stickers work like the review says they ...        5   \n",
       "\n",
       "                 summary  unixReviewTime   reviewTime  \n",
       "0             Looks Good      1400630400  05 21, 2014  \n",
       "1  Really great product.      1389657600  01 14, 2014  "
      ]
     },
     "execution_count": 2,
     "metadata": {},
     "output_type": "execute_result"
    }
   ],
   "source": [
    "df = pd.read_json(\"D:\\\\Data Science\\\\Code basics\\\\py-master\\\\deep-learning-keras-tf-tutorial-master\\\\42_word2vec_gensim\\\\Cell_Phones_and_Accessories_5.json\", \n",
    "                  lines=True) # It will read the file as a json object per line\n",
    "df.head(2)"
   ]
  },
  {
   "cell_type": "code",
   "execution_count": 3,
   "id": "36ccea83-5030-4e20-b17c-25c86a878879",
   "metadata": {},
   "outputs": [
    {
     "data": {
      "text/plain": [
       "(194439, 9)"
      ]
     },
     "execution_count": 3,
     "metadata": {},
     "output_type": "execute_result"
    }
   ],
   "source": [
    "df.shape"
   ]
  },
  {
   "cell_type": "code",
   "execution_count": 5,
   "id": "1c24a8cc-53a6-4bf6-9fb6-6d3df1136765",
   "metadata": {
    "scrolled": true
   },
   "outputs": [
    {
     "data": {
      "text/plain": [
       "\"They look good and stick good! I just don't like the rounded shape because I was always bumping it and Siri kept popping up and it was irritating. I just won't buy a product like this again\""
      ]
     },
     "execution_count": 5,
     "metadata": {},
     "output_type": "execute_result"
    }
   ],
   "source": [
    "df.reviewText[0]"
   ]
  },
  {
   "cell_type": "markdown",
   "id": "d7c0bc11-5d40-4053-84f5-b80efbad0774",
   "metadata": {},
   "source": [
    "# Pre-processing"
   ]
  },
  {
   "cell_type": "markdown",
   "id": "f0f3226b-e3a5-43cf-88c5-b022cb0dc552",
   "metadata": {},
   "source": [
    "#### Simple Preprocessing & Tokenization\r\n",
    "The first thing to do for any data science task is to clean the data. For NLP, we apply various processing like converting all the words to lower case, trimming spaces, removing punctuations. This is something we will do over here too.\r\n",
    "\r\n",
    "Additionally, we can also remove stop words like 'and', 'or', 'is', 'the', 'a', 'an' and convert words to their root forms like 'running' to 'run'."
   ]
  },
  {
   "cell_type": "code",
   "execution_count": 7,
   "id": "b97cc7d6-0bec-4299-bf99-0ad31a8dc7c3",
   "metadata": {},
   "outputs": [
    {
     "data": {
      "text/plain": [
       "['they',\n",
       " 'look',\n",
       " 'good',\n",
       " 'and',\n",
       " 'stick',\n",
       " 'good',\n",
       " 'just',\n",
       " 'don',\n",
       " 'like',\n",
       " 'the',\n",
       " 'rounded',\n",
       " 'shape',\n",
       " 'because',\n",
       " 'was',\n",
       " 'always',\n",
       " 'bumping',\n",
       " 'it',\n",
       " 'and',\n",
       " 'siri',\n",
       " 'kept',\n",
       " 'popping',\n",
       " 'up',\n",
       " 'and',\n",
       " 'it',\n",
       " 'was',\n",
       " 'irritating',\n",
       " 'just',\n",
       " 'won',\n",
       " 'buy',\n",
       " 'product',\n",
       " 'like',\n",
       " 'this',\n",
       " 'again']"
      ]
     },
     "execution_count": 7,
     "metadata": {},
     "output_type": "execute_result"
    }
   ],
   "source": [
    "# Gensim library has a option for preprocess this, we can use it\n",
    "# for understanding we use the 1st sentence of the review here\n",
    "gensim.utils.simple_preprocess(\"They look good and stick good! I just don't like the rounded shape because I was always bumping it and Siri kept popping up and it was irritating. I just won't buy a product like this again\"\n",
    ")\n",
    "# It is tokenizing the sentence\n",
    "# the capital, it converted it to lower case\n",
    "# It removed -- I, !, "
   ]
  },
  {
   "cell_type": "code",
   "execution_count": 9,
   "id": "b6f05585-6858-4bcf-bcf6-d55d99108cd1",
   "metadata": {},
   "outputs": [
    {
     "data": {
      "text/plain": [
       "0         [they, look, good, and, stick, good, just, don...\n",
       "1         [these, stickers, work, like, the, review, say...\n",
       "2         [these, are, awesome, and, make, my, phone, lo...\n",
       "3         [item, arrived, in, great, time, and, was, in,...\n",
       "4         [awesome, stays, on, and, looks, great, can, b...\n",
       "                                ...                        \n",
       "194434    [works, great, just, like, my, original, one, ...\n",
       "194435    [great, product, great, packaging, high, quali...\n",
       "194436    [this, is, great, cable, just, as, good, as, t...\n",
       "194437    [really, like, it, becasue, it, works, well, w...\n",
       "194438    [product, as, described, have, wasted, lot, of...\n",
       "Name: reviewText, Length: 194439, dtype: object"
      ]
     },
     "execution_count": 9,
     "metadata": {},
     "output_type": "execute_result"
    }
   ],
   "source": [
    "# Lets apply this function to entire review text\n",
    "review_text = df.reviewText.apply(gensim.utils.simple_preprocess)\n",
    "review_text \n",
    "\n",
    "## Each object in the pandas series is in the form of list and the list has tokenized words"
   ]
  },
  {
   "cell_type": "markdown",
   "id": "facf0c9d-23ef-447c-9df6-f656d114aa59",
   "metadata": {},
   "source": [
    "# Training the Word2Vec Model\n",
    "\n",
    "Train the model for reviews. Use a window of size 10 i.e. 10 words before the present word and 10 words ahead. A sentence with at least 2 words should only be considered, configure this using min_count parameter.\r\n",
    "\r\n",
    "Workers define how many CPU threads to be use\n",
    "\n",
    "#### Initialize the modeld."
   ]
  },
  {
   "cell_type": "code",
   "execution_count": 10,
   "id": "d879d5e7-310a-4451-b807-6e42e33c2179",
   "metadata": {},
   "outputs": [],
   "source": [
    "## The Gensim is a NLP library\n",
    "model = gensim.models.Word2Vec(\n",
    "    window=10, # means 10 words before and after target word\n",
    "    min_count=2, # minimum count required to read a sentence, here at least 2 words required in the sentence to read\n",
    "    workers=4 # how many CPU threads we want to use for training\n",
    ")"
   ]
  },
  {
   "cell_type": "markdown",
   "id": "4409a7be-cd2c-43e7-bc1d-05162ea905d4",
   "metadata": {},
   "source": [
    "### Build vocabulary"
   ]
  },
  {
   "cell_type": "code",
   "execution_count": 11,
   "id": "f53653ce-9c4b-474d-b8e8-379037e87f6a",
   "metadata": {},
   "outputs": [],
   "source": [
    "model.build_vocab(review_text, progress_per=1000) # during training, after how many words we wnat to see progress bar"
   ]
  },
  {
   "cell_type": "code",
   "execution_count": 12,
   "id": "9e40c8ba-0005-4364-8c7b-4cef875932a6",
   "metadata": {},
   "outputs": [
    {
     "data": {
      "text/plain": [
       "5"
      ]
     },
     "execution_count": 12,
     "metadata": {},
     "output_type": "execute_result"
    }
   ],
   "source": [
    "model.epochs # Default it has 5 epochs"
   ]
  },
  {
   "cell_type": "code",
   "execution_count": 13,
   "id": "a7dc28f4-79a4-40c4-ac4d-374f4c53093a",
   "metadata": {},
   "outputs": [
    {
     "data": {
      "text/plain": [
       "194439"
      ]
     },
     "execution_count": 13,
     "metadata": {},
     "output_type": "execute_result"
    }
   ],
   "source": [
    "# total examples we decide by corpus_count\n",
    "model.corpus_count"
   ]
  },
  {
   "cell_type": "code",
   "execution_count": 14,
   "id": "ce3fa5cb-b711-4e5a-a673-eeef198641e9",
   "metadata": {},
   "outputs": [
    {
     "data": {
      "text/plain": [
       "(61508205, 83868975)"
      ]
     },
     "execution_count": 14,
     "metadata": {},
     "output_type": "execute_result"
    }
   ],
   "source": [
    "# Perform the training\n",
    "model.train(review_text, total_examples=model.corpus_count, epochs=model.epochs)"
   ]
  },
  {
   "cell_type": "markdown",
   "id": "567079a1-8d5e-4241-b854-15776e703b62",
   "metadata": {},
   "source": [
    "## Save the Model\r\n",
    "Save the model so that it can be reused in other applications"
   ]
  },
  {
   "cell_type": "code",
   "execution_count": 15,
   "id": "7e806524-d6b6-4e4a-a8fa-44f79c1ea14e",
   "metadata": {},
   "outputs": [],
   "source": [
    "model.save(\"./word2vec-amazon-cell-accessories-reviews-short.model\")"
   ]
  },
  {
   "cell_type": "markdown",
   "id": "af57c9ff-9915-4bd6-991b-642b2bbbe5cb",
   "metadata": {},
   "source": [
    "#### Finding Similar Words and Similarity between words\r\n",
    "https://radimrehurek.com/gensim/models/word2vec.html"
   ]
  },
  {
   "cell_type": "code",
   "execution_count": 16,
   "id": "48388047-5866-414a-a1aa-9f3042347003",
   "metadata": {},
   "outputs": [
    {
     "data": {
      "text/plain": [
       "[('terrible', 0.6527751088142395),\n",
       " ('shabby', 0.6282874345779419),\n",
       " ('horrible', 0.5923579931259155),\n",
       " ('good', 0.5865124464035034),\n",
       " ('okay', 0.5444843769073486),\n",
       " ('legit', 0.5426936745643616),\n",
       " ('ok', 0.5391709804534912),\n",
       " ('crappy', 0.5390287637710571),\n",
       " ('awful', 0.5363757610321045),\n",
       " ('mad', 0.5183902382850647)]"
      ]
     },
     "execution_count": 16,
     "metadata": {},
     "output_type": "execute_result"
    }
   ],
   "source": [
    "# Looking for word similar to bad\n",
    "model.wv.most_similar(\"bad\")"
   ]
  },
  {
   "cell_type": "code",
   "execution_count": 17,
   "id": "c23711db-7c48-4a3e-ae99-ae45e1f57275",
   "metadata": {},
   "outputs": [
    {
     "data": {
      "text/plain": [
       "0.5206865"
      ]
     },
     "execution_count": 17,
     "metadata": {},
     "output_type": "execute_result"
    }
   ],
   "source": [
    "# we can check the cosine similarity score as well\n",
    "model.wv.similarity(w1=\"cheap\", w2=\"inexpensive\")"
   ]
  },
  {
   "cell_type": "code",
   "execution_count": 18,
   "id": "a53647ac-f093-4e41-9d84-c14ede753506",
   "metadata": {},
   "outputs": [
    {
     "data": {
      "text/plain": [
       "0.7852415"
      ]
     },
     "execution_count": 18,
     "metadata": {},
     "output_type": "execute_result"
    }
   ],
   "source": [
    "model.wv.similarity(w1=\"great\", w2=\"good\")"
   ]
  }
 ],
 "metadata": {
  "kernelspec": {
   "display_name": "Python 3 (ipykernel)",
   "language": "python",
   "name": "python3"
  },
  "language_info": {
   "codemirror_mode": {
    "name": "ipython",
    "version": 3
   },
   "file_extension": ".py",
   "mimetype": "text/x-python",
   "name": "python",
   "nbconvert_exporter": "python",
   "pygments_lexer": "ipython3",
   "version": "3.11.4"
  }
 },
 "nbformat": 4,
 "nbformat_minor": 5
}
